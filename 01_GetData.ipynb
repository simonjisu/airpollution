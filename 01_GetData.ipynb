{
 "cells": [
  {
   "cell_type": "code",
   "execution_count": 96,
   "id": "7d26ff2e",
   "metadata": {},
   "outputs": [],
   "source": [
    "from bs4 import BeautifulSoup as Soup\n",
    "import requests\n",
    "from argparse import ArgumentParser\n",
    "from datetime import datetime as dt\n",
    "from datetime import timedelta\n",
    "import numpy as np\n",
    "import pandas as pd\n",
    "from pathlib import Path\n",
    "from tqdm.notebook import tqdm"
   ]
  },
  {
   "cell_type": "code",
   "execution_count": 2,
   "id": "cce1c418-92c3-4b9a-b011-7034a0475f2c",
   "metadata": {},
   "outputs": [],
   "source": [
    "import time\n",
    "from datetime import datetime as dt\n",
    "\n",
    "def now_timestamp():\n",
    "    return time.mktime(time.localtime())\n",
    "\n",
    "def now_milliseconds():\n",
    "    return int(time.time() * 1000)\n",
    "\n",
    "def get_datetime_now():\n",
    "    return dt.fromtimestamp(now_timestamp())\n",
    "\n",
    "def get_timestamp(dt):\n",
    "    return time.mktime(dt.timetuple())\n",
    "\n",
    "# format hour, day < 10 to 10 format\n",
    "def format10(no):\n",
    "    if no < 10:\n",
    "        return \"0\" + str(no)\n",
    "    else:\n",
    "        return str(no)\n"
   ]
  },
  {
   "cell_type": "code",
   "execution_count": 3,
   "id": "f2d20c4b-36d2-4e11-a984-1c73d7c17966",
   "metadata": {},
   "outputs": [],
   "source": [
    "class Property():\n",
    "    fm = \"%Y-%m-%d %H:%M:%S\"\n",
    "    fm2 = \"%Y-%m-%d %H:%M\"\n",
    "    months = [\"Jan\", \"Feb\", \"Mar\", \"Apr\", \"May\", \"Jun\", \"Jul\", \"Aug\", \"Sep\", \"Oct\", \"Nov\", \"Dec\"]\n",
    "    district_codes = [1171,1170,1167,1168,1164,1152,1169,1153,1165,1154,1163,1172,1160,1155,1162,1176,1156,1161,1157,1173,1174,1158,1159,1166,1175]\n",
    "    \n",
    "pr = Property()\n",
    "data_path = Path(\"./data\")"
   ]
  },
  {
   "cell_type": "markdown",
   "id": "e5c9fca2-6955-454f-af52-44966b38040b",
   "metadata": {},
   "source": [
    "# Airquality Data"
   ]
  },
  {
   "cell_type": "markdown",
   "id": "8a65ed61-7542-4f59-aa79-de0e1269f516",
   "metadata": {},
   "source": [
    "## US AQI\n",
    "\n",
    "https://forum.airnowtech.org/t/the-aqi-equation/169\n"
   ]
  },
  {
   "cell_type": "code",
   "execution_count": 169,
   "id": "dc839917-8f6c-43d1-80a6-9b23f28cb7b7",
   "metadata": {},
   "outputs": [],
   "source": [
    "def get_aqi(AQIhigh, AQIlow, conchigh, conclow, concentration):\n",
    "    conc = float(concentration)\n",
    "    a = ((conc - conclow) / (conchigh - conclow)) * (AQIhigh - AQIlow) + AQIlow\n",
    "    return a\n",
    "\n",
    "def get_AQIPM10(concentration):\n",
    "    conc = float(concentration)\n",
    "    c = np.floor(conc)\n",
    "    if (c >= 0 and c < 55):\n",
    "        AQI = get_aqi(50, 0, 54, 0, c)\n",
    "    elif(c >= 55 and c < 155):\n",
    "        AQI = get_aqi(100, 51, 154, 55, c)\n",
    "    elif(c >= 155 and c < 255):\n",
    "        AQI = get_aqi(150, 101, 254, 155, c)\n",
    "    elif(c >= 255 and c < 355):\n",
    "        AQI = get_aqi(200, 151, 354, 255, c)\n",
    "    elif(c >= 355 and c < 425):\n",
    "        AQI = get_aqi(300, 201, 424, 355, c)\n",
    "    elif(c >= 425 and c < 505):\n",
    "        AQI = get_aqi(400, 301, 504, 425, c)\n",
    "    elif(c >= 505 and c < 605):\n",
    "        AQI = get_aqi(500, 401, 604, 505, c)\n",
    "    else:\n",
    "        AQI = 0\n",
    "    return AQI\n",
    "\n",
    "\n",
    "# convert pm25 micro value to aqi value\n",
    "def get_AQIPM25(concentration):\n",
    "    conc = float(concentration)\n",
    "    c = (np.floor(10 * conc)) / 10\n",
    "    if (c >= 0 and c < 12.1):\n",
    "        AQI = get_aqi(50, 0, 12, 0, c)\n",
    "    elif (c >= 12.1 and c < 35.5):\n",
    "        AQI = get_aqi(100, 51, 35.4, 12.1, c)\n",
    "    elif (c >= 35.5 and c < 55.5):\n",
    "        AQI = get_aqi(150, 101, 55.4, 35.5, c)\n",
    "    elif (c >= 55.5 and c < 150.5):\n",
    "        AQI = get_aqi(200, 151, 150.4, 55.5, c)\n",
    "    elif (c >= 150.5 and c < 250.5):\n",
    "        AQI = get_aqi(300, 201, 250.4, 150.5, c)\n",
    "    elif (c >= 250.5 and c < 350.5):\n",
    "        AQI = get_aqi(400, 301, 350.4, 250.5, c)\n",
    "    elif (c >= 350.5 and c < 500.5):\n",
    "        AQI = get_aqi(500, 401, 500.4, 350.5, c)\n",
    "    else:\n",
    "        AQI = 0\n",
    "    return AQI"
   ]
  },
  {
   "cell_type": "code",
   "execution_count": 170,
   "id": "b26a1978-75a0-443a-b650-4937ad5e5245",
   "metadata": {},
   "outputs": [],
   "source": [
    "columns = {\n",
    "    '지역': 'district', \n",
    "    '측정소코드': 'measurecode', \n",
    "    '측정소명': 'measurename', \n",
    "    '측정일시': 'date', \n",
    "    '주소': 'address',\n",
    "    '망': 'measurepoint'\n",
    "}"
   ]
  },
  {
   "cell_type": "markdown",
   "id": "9f24aea4-884b-47bc-bdb0-96d2e32a3c82",
   "metadata": {},
   "source": [
    "## 서울"
   ]
  },
  {
   "cell_type": "code",
   "execution_count": 6,
   "id": "06829bee-a9e0-4d01-b765-9a07d76b126b",
   "metadata": {},
   "outputs": [],
   "source": [
    "year = 2018\n",
    "files = list((data_path / \"airquality\").glob(f\"{year}*.xlsx\"))\n",
    "data = []\n",
    "for p in files:\n",
    "    df = pd.read_excel(p).rename(columns=columns)\n",
    "    df = df.loc[df[\"district\"].str.contains(\"서울\"), :]\n",
    "    df[\"PM10_AQI\"] = df[\"PM10\"].apply(get_AQIPM10)\n",
    "    df[\"PM25_AQI\"] = df[\"PM25\"].apply(get_AQIPM25)\n",
    "    data.append(df)\n",
    "df = pd.concat(data).reset_index(drop=True)"
   ]
  },
  {
   "cell_type": "code",
   "execution_count": 75,
   "id": "8276a065-8851-4271-abbf-4f349cf2c113",
   "metadata": {},
   "outputs": [],
   "source": [
    "# fill in null value in measurement point from 2018.01 ~ 2018.06\n",
    "temp = df.loc[~df[\"measurepoint\"].isnull(), [\"measurename\", \"measurepoint\"]]\n",
    "measurement_dict = {k: v for k, v in temp.loc[~temp.duplicated()].values}\n",
    "df.loc[df[\"measurepoint\"].isnull(), [\"measurepoint\"]] = [measurement_dict.get(x) for x in df.loc[df[\"measurepoint\"].isnull(), \"measurename\"].values]"
   ]
  },
  {
   "cell_type": "code",
   "execution_count": 86,
   "id": "0d1b73dc-ca91-4797-8455-f192c903f583",
   "metadata": {},
   "outputs": [],
   "source": [
    "df.to_csv(data_path / \"airq_2018.tsv\", encoding=\"utf-8\", sep=\"\\t\", index=False)"
   ]
  },
  {
   "cell_type": "code",
   "execution_count": 106,
   "id": "e37609c6-a6a3-4c99-b7d3-b8c78b84a98c",
   "metadata": {
    "tags": []
   },
   "outputs": [
    {
     "data": {
      "application/vnd.jupyter.widget-view+json": {
       "model_id": "1b18f6615f7d48089a63bf18c2cb9a41",
       "version_major": 2,
       "version_minor": 0
      },
      "text/plain": [
       "2019:   0%|          | 0/12 [00:00<?, ?it/s]"
      ]
     },
     "metadata": {},
     "output_type": "display_data"
    },
    {
     "data": {
      "application/vnd.jupyter.widget-view+json": {
       "model_id": "053b8c1c63474295a8f49ea5e65c3789",
       "version_major": 2,
       "version_minor": 0
      },
      "text/plain": [
       "2020:   0%|          | 0/12 [00:00<?, ?it/s]"
      ]
     },
     "metadata": {},
     "output_type": "display_data"
    }
   ],
   "source": [
    "for year in [2019, 2020]:\n",
    "    files = list((data_path / \"airquality\").glob(f\"{year}*.xlsx\"))\n",
    "    files = sorted(files, key=lambda x: int(x.name.split(\" \")[1].strip(\"월.xlsx\")))\n",
    "    data = []\n",
    "    for p in tqdm(files, total=len(files), desc=f\"{year}\"):\n",
    "        df = pd.read_excel(p).rename(columns=columns)\n",
    "        df = df.loc[df[\"district\"].str.contains(\"서울\"), :]\n",
    "        df[\"PM10_AQI\"] = df[\"PM10\"].apply(get_AQIPM10)\n",
    "        df[\"PM25_AQI\"] = df[\"PM25\"].apply(get_AQIPM25)\n",
    "        data.append(df)\n",
    "    df = pd.concat(data).reset_index(drop=True)\n",
    "    df.to_csv(data_path / f\"airq_{year}.tsv\", encoding=\"utf-8\", sep=\"\\t\", index=False)"
   ]
  },
  {
   "cell_type": "markdown",
   "id": "c78ba5c3-ef1a-4cff-aebf-8656d16f780d",
   "metadata": {},
   "source": [
    "## 백령도"
   ]
  },
  {
   "cell_type": "code",
   "execution_count": 182,
   "id": "d002d7b5-c1a8-4b6f-a147-31d4f10ffdac",
   "metadata": {},
   "outputs": [
    {
     "data": {
      "application/vnd.jupyter.widget-view+json": {
       "model_id": "d9557b465a4842fb9bcc4fec93495c6c",
       "version_major": 2,
       "version_minor": 0
      },
      "text/plain": [
       "2018:   0%|          | 0/4 [00:00<?, ?it/s]"
      ]
     },
     "metadata": {},
     "output_type": "display_data"
    },
    {
     "data": {
      "application/vnd.jupyter.widget-view+json": {
       "model_id": "c59d37987a22436c9a45056195ba1f77",
       "version_major": 2,
       "version_minor": 0
      },
      "text/plain": [
       "2019:   0%|          | 0/12 [00:00<?, ?it/s]"
      ]
     },
     "metadata": {},
     "output_type": "display_data"
    },
    {
     "data": {
      "application/vnd.jupyter.widget-view+json": {
       "model_id": "0aad452c123f4a19806149e156a950e0",
       "version_major": 2,
       "version_minor": 0
      },
      "text/plain": [
       "2020:   0%|          | 0/12 [00:00<?, ?it/s]"
      ]
     },
     "metadata": {},
     "output_type": "display_data"
    }
   ],
   "source": [
    "for year in [2018, 2019, 2020]:\n",
    "    files = list((data_path / \"airquality\").glob(f\"{year}*.xlsx\"))\n",
    "    if year != 2018:\n",
    "        files = sorted(files, key=lambda x: int(x.name.split(\" \")[1].strip(\"월.xlsx\")))\n",
    "    data = []\n",
    "    for p in tqdm(files, total=len(files), desc=f\"{year}\"):\n",
    "        df = pd.read_excel(p).rename(columns=columns)\n",
    "        df = df.loc[df[\"measurename\"].isin([\"백령도\"]), :]\n",
    "        df[\"PM10_AQI\"] = df[\"PM10\"].apply(get_AQIPM10)\n",
    "        df[\"PM25_AQI\"] = df[\"PM25\"].apply(get_AQIPM25)\n",
    "        data.append(df)\n",
    "    df = pd.concat(data).reset_index(drop=True)\n",
    "    df.to_csv(data_path / f\"airq_baek_{year}.tsv\", encoding=\"utf-8\", sep=\"\\t\", index=False)"
   ]
  },
  {
   "cell_type": "markdown",
   "id": "017e14ed-c0d4-4f8b-949d-4cc9724484ea",
   "metadata": {},
   "source": [
    "# Weather Data\n",
    "\n",
    "'지점', '지점명', '일시', '기온(°C)', '강수량(mm)', '풍속(m/s)', '풍향(16방위)', '습도(%)', '현지기압(hPa)', '지면온도(°C)'"
   ]
  },
  {
   "cell_type": "code",
   "execution_count": 146,
   "id": "2bdb1d8f-2682-4981-97f9-f4dfc3720bbd",
   "metadata": {},
   "outputs": [],
   "source": [
    "columns = {\n",
    "    '지점': 'measureCode', \n",
    "    '지점명': 'measureName', \n",
    "    '일시': 'date', \n",
    "    '기온(°C)': 'temperature', \n",
    "    '강수량(mm)': 'precipitation', \n",
    "    '풍속(m/s)': 'windSpeed', \n",
    "    '풍향(16방위)': 'windDirection', \n",
    "    '습도(%)': 'humidity', \n",
    "    '현지기압(hPa)': 'spotAtmosphericPressure', \n",
    "    '지면온도(°C)': 'groundTemperature'\n",
    "}\n",
    "\n",
    "data = []\n",
    "for year in [2018, 2019, 2020, 2021]:\n",
    "    df = pd.read_csv(data_path / \"weather\" / f\"weather_{year}.csv\", encoding=\"euc-kr\")\n",
    "    df = df.rename(columns=columns).iloc[:, 2:]\n",
    "    data.append(df)"
   ]
  },
  {
   "cell_type": "code",
   "execution_count": 165,
   "id": "a4ae7ff5-86cd-4955-b061-4353ccb19b9f",
   "metadata": {},
   "outputs": [],
   "source": [
    "df = pd.concat(data[:3]).reset_index(drop=True)\n",
    "df.loc[df[\"precipitation\"].isnull(), \"precipitation\"] = 0.0\n",
    "df.to_csv(data_path / f\"weather_2018-2020.tsv\", encoding=\"utf-8\", sep=\"\\t\", index=False)"
   ]
  },
  {
   "cell_type": "code",
   "execution_count": 168,
   "id": "00ad6654-a9a4-49eb-9998-98e830c7ab05",
   "metadata": {},
   "outputs": [],
   "source": [
    "df = data[-1]\n",
    "df.loc[df[\"precipitation\"].isnull(), \"precipitation\"] = 0.0\n",
    "df.to_csv(data_path / f\"weather_2021.tsv\", encoding=\"utf-8\", sep=\"\\t\", index=False)"
   ]
  },
  {
   "cell_type": "markdown",
   "id": "7ebab3a7-8caa-486c-a857-d668a206ecbd",
   "metadata": {},
   "source": [
    "# Holiday Data"
   ]
  },
  {
   "cell_type": "code",
   "execution_count": 78,
   "id": "de4da92b",
   "metadata": {},
   "outputs": [],
   "source": [
    "parser = ArgumentParser()\n",
    "parser.add_argument(\"-i\", \"--interval\", default=1, type=int)\n",
    "parser.add_argument(\"-s\", \"--start\", default=2018, type=int)\n",
    "parser.add_argument(\"-e\", \"--end\", default=2021, type=int)\n",
    "parser.add_argument(\"-c\", \"--country\", default=\"south-korea\")\n",
    "args = parser.parse_known_args()[0]"
   ]
  },
  {
   "cell_type": "code",
   "execution_count": 79,
   "id": "13e10321",
   "metadata": {},
   "outputs": [
    {
     "data": {
      "text/plain": [
       "Namespace(country='south-korea', end=2021, interval=1, start=2018)"
      ]
     },
     "execution_count": 79,
     "metadata": {},
     "output_type": "execute_result"
    }
   ],
   "source": [
    "args"
   ]
  },
  {
   "cell_type": "code",
   "execution_count": 80,
   "id": "3f876aab",
   "metadata": {},
   "outputs": [],
   "source": [
    "def get_holiday_data(html):\n",
    "    tables = html.find('table', attrs={\"id\": \"holidays-table\"}).find(\"tbody\")\n",
    "    rows = tables.find_all('tr')\n",
    "\n",
    "    data = [(\"date\", \"day\", \"name\", \"type\")]\n",
    "    for r in rows:\n",
    "        tags = r.find_all(\"td\")\n",
    "        if len(tags) == 0:\n",
    "            continue\n",
    "        date = r.attrs[\"data-date\"]\n",
    "        date = dt.fromtimestamp(int(int(date) / 1e3))\n",
    "        new_row = [f\"{date.year:04d}-{date.month:02d}-{date.day:02d}\"] + [x.text.strip() for x in tags]\n",
    "        data.append(new_row)\n",
    "    return data\n",
    "\n",
    "def craw_data(year, country=\"south-korea\"):\n",
    "    url = f\"https://www.timeanddate.com/holidays/{country}/{year}\"\n",
    "    r = requests.get(url)\n",
    "    html = Soup(r.text, \"html5lib\")\n",
    "    return html"
   ]
  },
  {
   "cell_type": "code",
   "execution_count": 81,
   "id": "d3f2a946-71b8-49f8-95e4-dff532e6b2e6",
   "metadata": {
    "tags": []
   },
   "outputs": [],
   "source": [
    "all_data = []\n",
    "for y in range(args.start, args.end+1):\n",
    "    html = craw_data(y, args.country)\n",
    "    data = get_holiday_data(html)\n",
    "    all_data.append(pd.DataFrame(data[1:], columns=data[0]))\n",
    "    \n",
    "df_holiday = pd.concat(all_data)"
   ]
  },
  {
   "cell_type": "code",
   "execution_count": 82,
   "id": "24b13eee-38fc-4760-9fe5-d6a91c0fa4db",
   "metadata": {},
   "outputs": [],
   "source": [
    "df_holiday = df_holiday.reset_index(drop=True)\n",
    "df_holiday.to_csv(data_path / f\"holiday_{args.start}-{args.end}.tsv\", sep=\"\\t\", index=False)"
   ]
  }
 ],
 "metadata": {
  "kernelspec": {
   "display_name": "Python 3",
   "language": "python",
   "name": "python3"
  },
  "language_info": {
   "codemirror_mode": {
    "name": "ipython",
    "version": 3
   },
   "file_extension": ".py",
   "mimetype": "text/x-python",
   "name": "python",
   "nbconvert_exporter": "python",
   "pygments_lexer": "ipython3",
   "version": "3.8.10"
  }
 },
 "nbformat": 4,
 "nbformat_minor": 5
}
