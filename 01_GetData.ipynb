{
 "cells": [
  {
   "cell_type": "markdown",
   "id": "eb120c37",
   "metadata": {},
   "source": [
    "# Hand Book For Data Science \n",
    "\n",
    "\n",
    "## Air Pollution Dataset\n",
    "\n",
    "https://www.airkorea.or.kr/web/last_amb_hour_data?pMENU_NO=123"
   ]
  },
  {
   "cell_type": "code",
   "execution_count": 1,
   "id": "dfe2fe5e",
   "metadata": {},
   "outputs": [],
   "source": [
    "from bs4 import BeautifulSoup as Soup\n",
    "import requests\n",
    "from argparse import ArgumentParser\n",
    "from datetime import datetime as dt\n",
    "from datetime import timedelta\n",
    "import numpy as np\n",
    "import pandas as pd\n",
    "from pathlib import Path\n",
    "from tqdm.notebook import tqdm"
   ]
  },
  {
   "cell_type": "code",
   "execution_count": 2,
   "id": "944969fa",
   "metadata": {},
   "outputs": [],
   "source": [
    "import time\n",
    "from datetime import datetime as dt\n",
    "\n",
    "def now_timestamp():\n",
    "    return time.mktime(time.localtime())\n",
    "\n",
    "def now_milliseconds():\n",
    "    return int(time.time() * 1000)\n",
    "\n",
    "def get_datetime_now():\n",
    "    return dt.fromtimestamp(now_timestamp())\n",
    "\n",
    "def get_timestamp(dt):\n",
    "    return time.mktime(dt.timetuple())\n",
    "\n",
    "# format hour, day < 10 to 10 format\n",
    "def format10(no):\n",
    "    if no < 10:\n",
    "        return \"0\" + str(no)\n",
    "    else:\n",
    "        return str(no)\n"
   ]
  },
  {
   "cell_type": "code",
   "execution_count": 3,
   "id": "2dfcfd83",
   "metadata": {},
   "outputs": [],
   "source": [
    "class Property():\n",
    "    fm = \"%Y-%m-%d %H:%M:%S\"\n",
    "    fm2 = \"%Y-%m-%d %H:%M\"\n",
    "    months = [\"Jan\", \"Feb\", \"Mar\", \"Apr\", \"May\", \"Jun\", \"Jul\", \"Aug\", \"Sep\", \"Oct\", \"Nov\", \"Dec\"]\n",
    "    district_codes = [1171,1170,1167,1168,1164,1152,1169,1153,1165,1154,1163,1172,1160,1155,1162,1176,1156,1161,1157,1173,1174,1158,1159,1166,1175]\n",
    "    \n",
    "pr = Property()\n",
    "data_path = Path(\"./data\")"
   ]
  },
  {
   "cell_type": "markdown",
   "id": "1e5dc569",
   "metadata": {},
   "source": [
    "# Airquality Data"
   ]
  },
  {
   "cell_type": "markdown",
   "id": "645649c7",
   "metadata": {},
   "source": [
    "## US AQI\n",
    "\n",
    "https://forum.airnowtech.org/t/the-aqi-equation/169"
   ]
  },
  {
   "cell_type": "code",
   "execution_count": 4,
   "id": "1422c262",
   "metadata": {},
   "outputs": [],
   "source": [
    "def get_aqi(AQIhigh, AQIlow, conchigh, conclow, concentration):\n",
    "    conc = float(concentration)\n",
    "    a = ((conc - conclow) / (conchigh - conclow)) * (AQIhigh - AQIlow) + AQIlow\n",
    "    return a\n",
    "\n",
    "def get_AQIPM10(concentration):\n",
    "    conc = float(concentration)\n",
    "    c = np.floor(conc)\n",
    "    if (c >= 0 and c < 55):\n",
    "        AQI = get_aqi(50, 0, 54, 0, c)\n",
    "    elif(c >= 55 and c < 155):\n",
    "        AQI = get_aqi(100, 51, 154, 55, c)\n",
    "    elif(c >= 155 and c < 255):\n",
    "        AQI = get_aqi(150, 101, 254, 155, c)\n",
    "    elif(c >= 255 and c < 355):\n",
    "        AQI = get_aqi(200, 151, 354, 255, c)\n",
    "    elif(c >= 355 and c < 425):\n",
    "        AQI = get_aqi(300, 201, 424, 355, c)\n",
    "    elif(c >= 425 and c < 505):\n",
    "        AQI = get_aqi(400, 301, 504, 425, c)\n",
    "    elif(c >= 505 and c < 605):\n",
    "        AQI = get_aqi(500, 401, 604, 505, c)\n",
    "    else:\n",
    "        AQI = 0\n",
    "    return AQI\n",
    "\n",
    "\n",
    "# convert pm25 micro value to aqi value\n",
    "def get_AQIPM25(concentration):\n",
    "    conc = float(concentration)\n",
    "    c = (np.floor(10 * conc)) / 10\n",
    "    if (c >= 0 and c < 12.1):\n",
    "        AQI = get_aqi(50, 0, 12, 0, c)\n",
    "    elif (c >= 12.1 and c < 35.5):\n",
    "        AQI = get_aqi(100, 51, 35.4, 12.1, c)\n",
    "    elif (c >= 35.5 and c < 55.5):\n",
    "        AQI = get_aqi(150, 101, 55.4, 35.5, c)\n",
    "    elif (c >= 55.5 and c < 150.5):\n",
    "        AQI = get_aqi(200, 151, 150.4, 55.5, c)\n",
    "    elif (c >= 150.5 and c < 250.5):\n",
    "        AQI = get_aqi(300, 201, 250.4, 150.5, c)\n",
    "    elif (c >= 250.5 and c < 350.5):\n",
    "        AQI = get_aqi(400, 301, 350.4, 250.5, c)\n",
    "    elif (c >= 350.5 and c < 500.5):\n",
    "        AQI = get_aqi(500, 401, 500.4, 350.5, c)\n",
    "    else:\n",
    "        AQI = 0\n",
    "    return AQI"
   ]
  },
  {
   "cell_type": "code",
   "execution_count": 5,
   "id": "525a51bc",
   "metadata": {},
   "outputs": [],
   "source": [
    "columns = {\n",
    "    '지역': 'district', \n",
    "    '측정소코드': 'measurecode', \n",
    "    '측정소명': 'measurename', \n",
    "    '측정일시': 'date', \n",
    "    '주소': 'address',\n",
    "    '망': 'measurepoint'\n",
    "}"
   ]
  },
  {
   "cell_type": "markdown",
   "id": "cd35d29a",
   "metadata": {},
   "source": [
    "## 서울"
   ]
  },
  {
   "cell_type": "code",
   "execution_count": 6,
   "id": "3b4ca3cb",
   "metadata": {},
   "outputs": [],
   "source": [
    "year = 2018\n",
    "files = list((data_path / \"airquality\").glob(f\"{year}*.xlsx\"))\n",
    "data = []\n",
    "for p in files:\n",
    "    df = pd.read_excel(p).rename(columns=columns)\n",
    "    df = df.loc[df[\"district\"].str.contains(\"서울\"), :]\n",
    "    df[\"PM10_AQI\"] = df[\"PM10\"].apply(get_AQIPM10)\n",
    "    df[\"PM25_AQI\"] = df[\"PM25\"].apply(get_AQIPM25)\n",
    "    data.append(df)\n",
    "df = pd.concat(data).reset_index(drop=True)"
   ]
  },
  {
   "cell_type": "code",
   "execution_count": 75,
   "id": "88cdbc42",
   "metadata": {},
   "outputs": [],
   "source": [
    "# fill in null value in measurement point from 2018.01 ~ 2018.06\n",
    "temp = df.loc[~df[\"measurepoint\"].isnull(), [\"measurename\", \"measurepoint\"]]\n",
    "measurement_dict = {k: v for k, v in temp.loc[~temp.duplicated()].values}\n",
    "df.loc[df[\"measurepoint\"].isnull(), [\"measurepoint\"]] = [measurement_dict.get(x) for x in df.loc[df[\"measurepoint\"].isnull(), \"measurename\"].values]"
   ]
  },
  {
   "cell_type": "code",
   "execution_count": 86,
   "id": "12481ed5",
   "metadata": {},
   "outputs": [],
   "source": [
    "df.to_csv(data_path / \"airq_2018.tsv\", encoding=\"utf-8\", sep=\"\\t\", index=False)"
   ]
  },
  {
   "cell_type": "code",
   "execution_count": 106,
   "id": "b980826f",
   "metadata": {
    "tags": []
   },
   "outputs": [
    {
     "data": {
      "application/vnd.jupyter.widget-view+json": {
       "model_id": "1b18f6615f7d48089a63bf18c2cb9a41",
       "version_major": 2,
       "version_minor": 0
      },
      "text/plain": [
       "2019:   0%|          | 0/12 [00:00<?, ?it/s]"
      ]
     },
     "metadata": {},
     "output_type": "display_data"
    },
    {
     "data": {
      "application/vnd.jupyter.widget-view+json": {
       "model_id": "053b8c1c63474295a8f49ea5e65c3789",
       "version_major": 2,
       "version_minor": 0
      },
      "text/plain": [
       "2020:   0%|          | 0/12 [00:00<?, ?it/s]"
      ]
     },
     "metadata": {},
     "output_type": "display_data"
    }
   ],
   "source": [
    "for year in [2019, 2020]:\n",
    "    files = list((data_path / \"airquality\").glob(f\"{year}*.xlsx\"))\n",
    "    files = sorted(files, key=lambda x: int(x.name.split(\" \")[1].strip(\"월.xlsx\")))\n",
    "    data = []\n",
    "    for p in tqdm(files, total=len(files), desc=f\"{year}\"):\n",
    "        df = pd.read_excel(p).rename(columns=columns)\n",
    "        df = df.loc[df[\"district\"].str.contains(\"서울\"), :]\n",
    "        df[\"PM10_AQI\"] = df[\"PM10\"].apply(get_AQIPM10)\n",
    "        df[\"PM25_AQI\"] = df[\"PM25\"].apply(get_AQIPM25)\n",
    "        data.append(df)\n",
    "    df = pd.concat(data).reset_index(drop=True)\n",
    "    df.to_csv(data_path / f\"airq_{year}.tsv\", encoding=\"utf-8\", sep=\"\\t\", index=False)"
   ]
  },
  {
   "cell_type": "markdown",
   "id": "25fe9d39",
   "metadata": {},
   "source": [
    "## 백령도"
   ]
  },
  {
   "cell_type": "code",
   "execution_count": 182,
   "id": "1701554f",
   "metadata": {},
   "outputs": [
    {
     "data": {
      "application/vnd.jupyter.widget-view+json": {
       "model_id": "d9557b465a4842fb9bcc4fec93495c6c",
       "version_major": 2,
       "version_minor": 0
      },
      "text/plain": [
       "2018:   0%|          | 0/4 [00:00<?, ?it/s]"
      ]
     },
     "metadata": {},
     "output_type": "display_data"
    },
    {
     "data": {
      "application/vnd.jupyter.widget-view+json": {
       "model_id": "c59d37987a22436c9a45056195ba1f77",
       "version_major": 2,
       "version_minor": 0
      },
      "text/plain": [
       "2019:   0%|          | 0/12 [00:00<?, ?it/s]"
      ]
     },
     "metadata": {},
     "output_type": "display_data"
    },
    {
     "data": {
      "application/vnd.jupyter.widget-view+json": {
       "model_id": "0aad452c123f4a19806149e156a950e0",
       "version_major": 2,
       "version_minor": 0
      },
      "text/plain": [
       "2020:   0%|          | 0/12 [00:00<?, ?it/s]"
      ]
     },
     "metadata": {},
     "output_type": "display_data"
    }
   ],
   "source": [
    "for year in [2018, 2019, 2020]:\n",
    "    files = list((data_path / \"airquality\").glob(f\"{year}*.xlsx\"))\n",
    "    if year != 2018:\n",
    "        files = sorted(files, key=lambda x: int(x.name.split(\" \")[1].strip(\"월.xlsx\")))\n",
    "    data = []\n",
    "    for p in tqdm(files, total=len(files), desc=f\"{year}\"):\n",
    "        df = pd.read_excel(p).rename(columns=columns)\n",
    "        df = df.loc[df[\"measurename\"].isin([\"백령도\"]), :]\n",
    "        df[\"PM10_AQI\"] = df[\"PM10\"].apply(get_AQIPM10)\n",
    "        df[\"PM25_AQI\"] = df[\"PM25\"].apply(get_AQIPM25)\n",
    "        data.append(df)\n",
    "    df = pd.concat(data).reset_index(drop=True)\n",
    "    df.to_csv(data_path / f\"airq_baek_{year}.tsv\", encoding=\"utf-8\", sep=\"\\t\", index=False)"
   ]
  },
  {
   "cell_type": "markdown",
   "id": "3c37dee2",
   "metadata": {},
   "source": [
    "## Preprocessing\n",
    "\n",
    "* 각 timestamp 로 평균내서 해당 값을 채움"
   ]
  },
  {
   "cell_type": "code",
   "execution_count": null,
   "id": "1a6d9bcb",
   "metadata": {
    "tags": []
   },
   "outputs": [],
   "source": [
    "data = []\n",
    "files = [data_path / f\"airq_{year}.tsv\" for year in [2018, 2019, 2020]]\n",
    "for p in files:\n",
    "    df = pd.read_csv(p, sep=\"\\t\")\n",
    "    data.append(df)\n",
    "df = pd.concat(data).reset_index(drop=True)\n",
    "df[\"date\"] = df[\"date\"].astype(str)\n",
    "df[\"date\"] = df[\"date\"].str.slice(0, 4) + \"-\" + df[\"date\"].str.slice(4, 6) + \"-\" + df[\"date\"].str.slice(6, 8) + \\\n",
    "    \" \" + (df[\"date\"].str.slice(8, 10).astype(int) - 1).astype(str).apply(lambda x: f\"0{x}\" if len(x) == 1 else x)\n",
    "df[\"date\"] = pd.to_datetime(df[\"date\"], format='%Y-%m-%d %H')\n",
    "df_mean = df.groupby([\"date\"])[['SO2', 'CO', 'O3', 'NO2', 'PM10', 'PM25']].mean()\n",
    "null_mask = df.loc[:, ['SO2', 'CO', 'O3', 'NO2', 'PM10', 'PM25']].isnull()\n",
    "iter_idx = df.index[null_mask.sum(1)>0]\n",
    "for i in tqdm(iter_idx, total=len(iter_idx)):\n",
    "    row = df.loc[i]\n",
    "    date = row[\"date\"]\n",
    "    row_mask = row.isnull()\n",
    "    idx = np.arange(len(df.columns))[row_mask]\n",
    "    df.iloc[i, idx] = df_mean.loc[date].iloc[idx-4].values\n",
    "    \n",
    "df[\"PM10_AQI\"] = df[\"PM10\"].apply(get_AQIPM10).values\n",
    "df[\"PM25_AQI\"] = df[\"PM25\"].apply(get_AQIPM25).values\n",
    "df[\"district\"] = df.district.str.split(expand=True).iloc[:, 1]\n",
    "df.to_csv(data_path / \"airq_filled_2018-2020.tsv\", encoding=\"utf-8\", sep=\"\\t\", index=False)\n"
   ]
  },
  {
   "cell_type": "code",
   "execution_count": 43,
   "id": "8be4c059",
   "metadata": {},
   "outputs": [
    {
     "data": {
      "application/vnd.jupyter.widget-view+json": {
       "model_id": "874e635b5ff3462c82a69ceac62ce470",
       "version_major": 2,
       "version_minor": 0
      },
      "text/plain": [
       "  0%|          | 0/2875 [00:00<?, ?it/s]"
      ]
     },
     "metadata": {},
     "output_type": "display_data"
    }
   ],
   "source": [
    "data = []\n",
    "files = [data_path / f\"airq_baek_{year}.tsv\" for year in [2018, 2019, 2020]]\n",
    "for p in files:\n",
    "    df = pd.read_csv(p, sep=\"\\t\")\n",
    "    data.append(df)\n",
    "df = pd.concat(data).reset_index(drop=True)\n",
    "df.loc[df[\"measurepoint\"].isnull(), \"measurepoint\"] = \"국가배경농도\"\n",
    "\n",
    "df[\"date\"] = df[\"date\"].astype(str)\n",
    "df[\"date\"] = df[\"date\"].str.slice(0, 4) + \"-\" + df[\"date\"].str.slice(4, 6) + \"-\" + df[\"date\"].str.slice(6, 8) + \\\n",
    "    \" \" + (df[\"date\"].str.slice(8, 10).astype(int) - 1).astype(str).apply(lambda x: f\"0{x}\" if len(x) == 1 else x)\n",
    "df[\"date\"] = pd.to_datetime(df[\"date\"], format='%Y-%m-%d %H')\n",
    "df_mean = df.groupby([\"date\"])[['SO2', 'CO', 'O3', 'NO2', 'PM10', 'PM25']].mean()\n",
    "df_mean = df_mean.fillna(method=\"ffill\")\n",
    "null_mask = df.loc[:, ['SO2', 'CO', 'O3', 'NO2', 'PM10', 'PM25']].isnull()\n",
    "iter_idx = df.index[null_mask.sum(1)>0]\n",
    "for i in tqdm(iter_idx, total=len(iter_idx)):\n",
    "    row = df.loc[i]\n",
    "    date = row[\"date\"]\n",
    "    row_mask = row.isnull()\n",
    "    idx = np.arange(len(df.columns))[row_mask]\n",
    "    df.iloc[i, idx] = df_mean.loc[date].iloc[idx-4].values\n",
    "    \n",
    "df[\"PM10_AQI\"] = df[\"PM10\"].apply(get_AQIPM10).values\n",
    "df[\"PM25_AQI\"] = df[\"PM25\"].apply(get_AQIPM25).values\n",
    "df[\"district\"] = df.district.str.split(expand=True).iloc[:, 1]\n",
    "df.to_csv(data_path / \"airq_baek_filled_2018-2020.tsv\", encoding=\"utf-8\", sep=\"\\t\", index=False)"
   ]
  },
  {
   "cell_type": "markdown",
   "id": "d81e4d74",
   "metadata": {},
   "source": [
    "## pollution average\n",
    "\n",
    "도시대기 및 도로변 측정 지역 같이 평균내기"
   ]
  },
  {
   "cell_type": "code",
   "execution_count": 35,
   "id": "69b41df7",
   "metadata": {},
   "outputs": [],
   "source": [
    "df_airq = pd.read_csv(data_path / \"airq_filled_2018-2020.tsv\", encoding=\"utf-8\", sep=\"\\t\")\n",
    "df_temp = df_airq.groupby(['district', 'date'])[['SO2', 'CO', 'O3','NO2', 'PM10', 'PM25', 'address']].mean().reset_index()\n",
    "df_temp[\"PM10_AQI\"] = df_temp[\"PM10\"].apply(get_AQIPM10).values\n",
    "df_temp[\"PM25_AQI\"] = df_temp[\"PM25\"].apply(get_AQIPM25).values"
   ]
  },
  {
   "cell_type": "code",
   "execution_count": 36,
   "id": "fe81025e",
   "metadata": {},
   "outputs": [],
   "source": [
    "# 임시방편\n",
    "df_temp = df_temp.loc[df_temp[\"district\"] != \"강서로\"].reset_index(drop=True)"
   ]
  },
  {
   "cell_type": "code",
   "execution_count": 39,
   "id": "8d3f6a41",
   "metadata": {},
   "outputs": [],
   "source": [
    "df_temp.to_csv(data_path / \"airq_filled_by_gu_2018-2020.tsv\", encoding=\"utf-8\", sep=\"\\t\", index=False)"
   ]
  },
  {
   "cell_type": "markdown",
   "id": "0fc562ae",
   "metadata": {},
   "source": [
    "# Weather Data\n",
    "\n",
    "'지점', '지점명', '일시', '기온(°C)', '강수량(mm)', '풍속(m/s)', '풍향(16방위)', '습도(%)', '현지기압(hPa)', '지면온도(°C)'"
   ]
  },
  {
   "cell_type": "code",
   "execution_count": 5,
   "id": "6ca61703",
   "metadata": {},
   "outputs": [],
   "source": [
    "columns = {\n",
    "    '지점': 'measureCode', \n",
    "    '지점명': 'measureName', \n",
    "    '일시': 'date', \n",
    "    '기온(°C)': 'temperature', \n",
    "    '강수량(mm)': 'precipitation', \n",
    "    '풍속(m/s)': 'windSpeed', \n",
    "    '풍향(16방위)': 'windDirection', \n",
    "    '습도(%)': 'humidity', \n",
    "    '현지기압(hPa)': 'spotAtmosphericPressure', \n",
    "    '지면온도(°C)': 'groundTemperature'\n",
    "}\n",
    "\n",
    "data = []\n",
    "for year in [2018, 2019, 2020, 2021]:\n",
    "    df = pd.read_csv(data_path / \"weather\" / f\"weather_{year}.csv\", encoding=\"euc-kr\")\n",
    "    df = df.rename(columns=columns).iloc[:, 2:]\n",
    "    data.append(df)"
   ]
  },
  {
   "cell_type": "code",
   "execution_count": 6,
   "id": "e364eb80",
   "metadata": {},
   "outputs": [],
   "source": [
    "df = pd.concat(data[:3]).reset_index(drop=True)\n",
    "df.loc[df[\"precipitation\"].isnull(), \"precipitation\"] = 0.0\n",
    "df.to_csv(data_path / f\"weather_2018-2020.tsv\", encoding=\"utf-8\", sep=\"\\t\", index=False)"
   ]
  },
  {
   "cell_type": "code",
   "execution_count": 7,
   "id": "440e7eae",
   "metadata": {},
   "outputs": [],
   "source": [
    "df = data[-1]\n",
    "df.loc[df[\"precipitation\"].isnull(), \"precipitation\"] = 0.0\n",
    "df.to_csv(data_path / f\"weather_2021.tsv\", encoding=\"utf-8\", sep=\"\\t\", index=False)"
   ]
  },
  {
   "cell_type": "code",
   "execution_count": 9,
   "id": "45c7b9ed",
   "metadata": {},
   "outputs": [],
   "source": [
    "data = []\n",
    "for year in [2018, 2019, 2020]:\n",
    "    df = pd.read_csv(data_path / \"weather\" / f\"weather_baek_{year}.csv\", encoding=\"euc-kr\")\n",
    "    df = df.rename(columns=columns).iloc[:, 2:]\n",
    "    data.append(df)"
   ]
  },
  {
   "cell_type": "code",
   "execution_count": 10,
   "id": "b1fad465",
   "metadata": {},
   "outputs": [],
   "source": [
    "df = pd.concat(data[:3]).reset_index(drop=True)\n",
    "df.loc[df[\"precipitation\"].isnull(), \"precipitation\"] = 0.0\n",
    "df.to_csv(data_path / f\"weather_baek_2018-2020.tsv\", encoding=\"utf-8\", sep=\"\\t\", index=False)"
   ]
  },
  {
   "cell_type": "markdown",
   "id": "c4608c1f",
   "metadata": {},
   "source": [
    "## Preprocessing\n",
    "\n",
    "* 이전 시간대 값을 채움"
   ]
  },
  {
   "cell_type": "code",
   "execution_count": 27,
   "id": "5b6ba140",
   "metadata": {},
   "outputs": [],
   "source": [
    "df = pd.read_csv(data_path / f\"weather_2018-2020.tsv\", encoding=\"utf-8\", sep=\"\\t\")\n",
    "df = df.fillna(method=\"ffill\")\n",
    "df.to_csv(data_path / f\"weather_filled_2018-2020.tsv\", encoding=\"utf-8\", sep=\"\\t\", index=False)"
   ]
  },
  {
   "cell_type": "code",
   "execution_count": 514,
   "id": "374340f3",
   "metadata": {},
   "outputs": [],
   "source": [
    "df = pd.read_csv(data_path / f\"weather_2021.tsv\", encoding=\"utf-8\", sep=\"\\t\")\n",
    "df.iloc[:, 1:].fillna(method=\"pad\", inplace=True)\n",
    "df.to_csv(data_path / f\"weather_filled_2021.tsv\", encoding=\"utf-8\", sep=\"\\t\", index=False)"
   ]
  },
  {
   "cell_type": "code",
   "execution_count": 28,
   "id": "af7f7e7d",
   "metadata": {},
   "outputs": [],
   "source": [
    "df = pd.read_csv(data_path / f\"weather_2018-2020.tsv\", encoding=\"utf-8\", sep=\"\\t\")\n",
    "df = df.fillna(method=\"ffill\")\n",
    "df.to_csv(data_path / f\"weather_baek_filled_2018-2020.tsv\", encoding=\"utf-8\", sep=\"\\t\", index=False)"
   ]
  },
  {
   "cell_type": "markdown",
   "id": "b2f584c9",
   "metadata": {},
   "source": [
    "# Holiday Data"
   ]
  },
  {
   "cell_type": "code",
   "execution_count": 78,
   "id": "7801ca68",
   "metadata": {},
   "outputs": [],
   "source": [
    "parser = ArgumentParser()\n",
    "parser.add_argument(\"-i\", \"--interval\", default=1, type=int)\n",
    "parser.add_argument(\"-s\", \"--start\", default=2018, type=int)\n",
    "parser.add_argument(\"-e\", \"--end\", default=2021, type=int)\n",
    "parser.add_argument(\"-c\", \"--country\", default=\"south-korea\")\n",
    "args = parser.parse_known_args()[0]"
   ]
  },
  {
   "cell_type": "code",
   "execution_count": 79,
   "id": "f8658551",
   "metadata": {},
   "outputs": [
    {
     "data": {
      "text/plain": [
       "Namespace(country='south-korea', end=2021, interval=1, start=2018)"
      ]
     },
     "execution_count": 79,
     "metadata": {},
     "output_type": "execute_result"
    }
   ],
   "source": [
    "args"
   ]
  },
  {
   "cell_type": "code",
   "execution_count": 80,
   "id": "0c2bada3",
   "metadata": {},
   "outputs": [],
   "source": [
    "def get_holiday_data(html):\n",
    "    tables = html.find('table', attrs={\"id\": \"holidays-table\"}).find(\"tbody\")\n",
    "    rows = tables.find_all('tr')\n",
    "\n",
    "    data = [(\"date\", \"day\", \"name\", \"type\")]\n",
    "    for r in rows:\n",
    "        tags = r.find_all(\"td\")\n",
    "        if len(tags) == 0:\n",
    "            continue\n",
    "        date = r.attrs[\"data-date\"]\n",
    "        date = dt.fromtimestamp(int(int(date) / 1e3))\n",
    "        new_row = [f\"{date.year:04d}-{date.month:02d}-{date.day:02d}\"] + [x.text.strip() for x in tags]\n",
    "        data.append(new_row)\n",
    "    return data\n",
    "\n",
    "def craw_data(year, country=\"south-korea\"):\n",
    "    url = f\"https://www.timeanddate.com/holidays/{country}/{year}\"\n",
    "    r = requests.get(url)\n",
    "    html = Soup(r.text, \"html5lib\")\n",
    "    return html"
   ]
  },
  {
   "cell_type": "code",
   "execution_count": 81,
   "id": "e922f86b",
   "metadata": {
    "tags": []
   },
   "outputs": [],
   "source": [
    "all_data = []\n",
    "for y in range(args.start, args.end+1):\n",
    "    html = craw_data(y, args.country)\n",
    "    data = get_holiday_data(html)\n",
    "    all_data.append(pd.DataFrame(data[1:], columns=data[0]))\n",
    "    \n",
    "df_holiday = pd.concat(all_data)"
   ]
  },
  {
   "cell_type": "code",
   "execution_count": 82,
   "id": "e0d3b8db",
   "metadata": {},
   "outputs": [],
   "source": [
    "df_holiday = df_holiday.reset_index(drop=True)\n",
    "df_holiday.to_csv(data_path / f\"holiday_{args.start}-{args.end}.tsv\", sep=\"\\t\", index=False)"
   ]
  },
  {
   "cell_type": "markdown",
   "id": "7471951c",
   "metadata": {},
   "source": [
    "## Traffic\n",
    "\n",
    "* 포아송 분포에 따라서 fill in 하면 더 좋을듯"
   ]
  },
  {
   "cell_type": "code",
   "execution_count": 47,
   "id": "aba09c87",
   "metadata": {},
   "outputs": [],
   "source": [
    "df_traffic_info = pd.read_excel(data_path / \"traffic\" / \"traffic202001.xlsx\", sheet_name=2)\n",
    "df_traffic_info = df_traffic_info.iloc[:-2, :]\n",
    "df_traffic_info[\"district\"] = df_traffic_info[\"주소\"].str.split(expand=True).iloc[:, 1].values\n",
    "df_traffic_info.to_csv(data_path / \"traffic_info.tsv\", encoding=\"utf-8\", sep=\"\\t\", index=False)"
   ]
  },
  {
   "cell_type": "code",
   "execution_count": 48,
   "id": "8c45c62c",
   "metadata": {},
   "outputs": [],
   "source": [
    "df_traffic_info = pd.read_csv(data_path / \"traffic_info.tsv\", encoding=\"utf-8\", sep=\"\\t\")"
   ]
  },
  {
   "cell_type": "code",
   "execution_count": 49,
   "id": "50b944d1",
   "metadata": {},
   "outputs": [
    {
     "data": {
      "text/html": [
       "<div>\n",
       "<style scoped>\n",
       "    .dataframe tbody tr th:only-of-type {\n",
       "        vertical-align: middle;\n",
       "    }\n",
       "\n",
       "    .dataframe tbody tr th {\n",
       "        vertical-align: top;\n",
       "    }\n",
       "\n",
       "    .dataframe thead th {\n",
       "        text-align: right;\n",
       "    }\n",
       "</style>\n",
       "<table border=\"1\" class=\"dataframe\">\n",
       "  <thead>\n",
       "    <tr style=\"text-align: right;\">\n",
       "      <th></th>\n",
       "      <th>지점번호</th>\n",
       "      <th>지점명칭</th>\n",
       "      <th>위도</th>\n",
       "      <th>경도</th>\n",
       "      <th>주소</th>\n",
       "      <th>도로명 주소</th>\n",
       "      <th>유입 방향</th>\n",
       "      <th>유출방향</th>\n",
       "      <th>district</th>\n",
       "    </tr>\n",
       "  </thead>\n",
       "  <tbody>\n",
       "    <tr>\n",
       "      <th>0</th>\n",
       "      <td>A-01</td>\n",
       "      <td>성산로(금화터널)</td>\n",
       "      <td>37.568588</td>\n",
       "      <td>126.948436</td>\n",
       "      <td>서울시 서대문구 신촌동 1-142</td>\n",
       "      <td>NaN</td>\n",
       "      <td>[성산로]봉원고가차도-&gt;독립문역</td>\n",
       "      <td>[성산로]독립문역-&gt;봉원고가차도</td>\n",
       "      <td>서대문구</td>\n",
       "    </tr>\n",
       "    <tr>\n",
       "      <th>1</th>\n",
       "      <td>A-02</td>\n",
       "      <td>사직로(사직터널)</td>\n",
       "      <td>37.572298</td>\n",
       "      <td>126.962853</td>\n",
       "      <td>서울시 종로구 행촌동 1-186</td>\n",
       "      <td>NaN</td>\n",
       "      <td>[사직로]독립문역-&gt;사직단</td>\n",
       "      <td>[사직로]사직단-&gt;독립문역</td>\n",
       "      <td>종로구</td>\n",
       "    </tr>\n",
       "    <tr>\n",
       "      <th>2</th>\n",
       "      <td>A-03</td>\n",
       "      <td>자하문로(자하문터널)</td>\n",
       "      <td>37.588831</td>\n",
       "      <td>126.968548</td>\n",
       "      <td>서울시 종로구 청운동 24-6</td>\n",
       "      <td>NaN</td>\n",
       "      <td>[자하문로]석파정-&gt;청운초등학교</td>\n",
       "      <td>[자하문로]청운초등학교-&gt;석파정</td>\n",
       "      <td>종로구</td>\n",
       "    </tr>\n",
       "    <tr>\n",
       "      <th>3</th>\n",
       "      <td>A-04</td>\n",
       "      <td>대사관로(삼청터널)</td>\n",
       "      <td>37.596359</td>\n",
       "      <td>126.984209</td>\n",
       "      <td>서울시 성북구 성북동 산25-148</td>\n",
       "      <td>NaN</td>\n",
       "      <td>[삼청로]삼청각-&gt;삼청공원입구</td>\n",
       "      <td>[삼청로]삼청공원입구-&gt;삼청각</td>\n",
       "      <td>성북구</td>\n",
       "    </tr>\n",
       "    <tr>\n",
       "      <th>4</th>\n",
       "      <td>A-05</td>\n",
       "      <td>율곡로(안국역)</td>\n",
       "      <td>37.576000</td>\n",
       "      <td>126.984342</td>\n",
       "      <td>서울시 종로구 경운동 90-4</td>\n",
       "      <td>서울시 종로구 율곡로 46</td>\n",
       "      <td>[율곡로]안국역-&gt;안국동사거리</td>\n",
       "      <td>[율곡로]안국동사거리-&gt;안국역</td>\n",
       "      <td>종로구</td>\n",
       "    </tr>\n",
       "    <tr>\n",
       "      <th>...</th>\n",
       "      <td>...</td>\n",
       "      <td>...</td>\n",
       "      <td>...</td>\n",
       "      <td>...</td>\n",
       "      <td>...</td>\n",
       "      <td>...</td>\n",
       "      <td>...</td>\n",
       "      <td>...</td>\n",
       "      <td>...</td>\n",
       "    </tr>\n",
       "    <tr>\n",
       "      <th>130</th>\n",
       "      <td>F-05</td>\n",
       "      <td>동부간선도로</td>\n",
       "      <td>37.568685</td>\n",
       "      <td>127.076023</td>\n",
       "      <td>서울시 동대문구 장안동 19-7</td>\n",
       "      <td>NaN</td>\n",
       "      <td>[동부간선도로]장안교-&gt;군자교</td>\n",
       "      <td>[동부간선도로]군자교-&gt;장안교</td>\n",
       "      <td>동대문구</td>\n",
       "    </tr>\n",
       "    <tr>\n",
       "      <th>131</th>\n",
       "      <td>F-06</td>\n",
       "      <td>경부고속도로</td>\n",
       "      <td>37.493135</td>\n",
       "      <td>127.022533</td>\n",
       "      <td>서울시 서초구 서초동 1748-26</td>\n",
       "      <td>NaN</td>\n",
       "      <td>[경부고속도로]서초2교 -&gt; 서초IC</td>\n",
       "      <td>[경부고속도로]서초IC -&gt; 서초2교</td>\n",
       "      <td>서초구</td>\n",
       "    </tr>\n",
       "    <tr>\n",
       "      <th>132</th>\n",
       "      <td>F-07</td>\n",
       "      <td>분당수서로</td>\n",
       "      <td>37.497648</td>\n",
       "      <td>127.087195</td>\n",
       "      <td>서울시 강남구 일원동 467-1</td>\n",
       "      <td>NaN</td>\n",
       "      <td>[분당수서로]수서IC-&gt;탄천1교</td>\n",
       "      <td>[분당수서로]탄천1교-&gt;수서IC</td>\n",
       "      <td>강남구</td>\n",
       "    </tr>\n",
       "    <tr>\n",
       "      <th>133</th>\n",
       "      <td>F-08</td>\n",
       "      <td>강남순환로(관악터널)</td>\n",
       "      <td>37.449096</td>\n",
       "      <td>126.926169</td>\n",
       "      <td>서울시 금천구 시흥동 산 93-1</td>\n",
       "      <td>NaN</td>\n",
       "      <td>[강남순환로]금천요금소-&gt;관악IC</td>\n",
       "      <td>[노들로]관악IC-&gt;금천요금소</td>\n",
       "      <td>금천구</td>\n",
       "    </tr>\n",
       "    <tr>\n",
       "      <th>134</th>\n",
       "      <td>F-09</td>\n",
       "      <td>서부간선도로</td>\n",
       "      <td>37.520965</td>\n",
       "      <td>126.881826</td>\n",
       "      <td>서울시 영등포구 문래동6가 52</td>\n",
       "      <td>서울시 영등포구 영동포로2길 34</td>\n",
       "      <td>[서부간선도로]신정교-&gt;목동교</td>\n",
       "      <td>[서부간선도로]목동교-&gt;신정교</td>\n",
       "      <td>영등포구</td>\n",
       "    </tr>\n",
       "  </tbody>\n",
       "</table>\n",
       "<p>135 rows × 9 columns</p>\n",
       "</div>"
      ],
      "text/plain": [
       "     지점번호         지점명칭         위도          경도                    주소  \\\n",
       "0    A-01    성산로(금화터널)  37.568588  126.948436    서울시 서대문구 신촌동 1-142   \n",
       "1    A-02    사직로(사직터널)  37.572298  126.962853     서울시 종로구 행촌동 1-186   \n",
       "2    A-03  자하문로(자하문터널)  37.588831  126.968548      서울시 종로구 청운동 24-6   \n",
       "3    A-04   대사관로(삼청터널)  37.596359  126.984209   서울시 성북구 성북동 산25-148   \n",
       "4    A-05     율곡로(안국역)  37.576000  126.984342      서울시 종로구 경운동 90-4   \n",
       "..    ...          ...        ...         ...                   ...   \n",
       "130  F-05       동부간선도로  37.568685  127.076023     서울시 동대문구 장안동 19-7   \n",
       "131  F-06       경부고속도로  37.493135  127.022533  서울시 서초구 서초동 1748-26    \n",
       "132  F-07        분당수서로  37.497648  127.087195     서울시 강남구 일원동 467-1   \n",
       "133  F-08  강남순환로(관악터널)  37.449096  126.926169    서울시 금천구 시흥동 산 93-1   \n",
       "134  F-09       서부간선도로  37.520965  126.881826     서울시 영등포구 문래동6가 52   \n",
       "\n",
       "                 도로명 주소                 유입 방향                  유출방향 district  \n",
       "0                   NaN     [성산로]봉원고가차도->독립문역     [성산로]독립문역->봉원고가차도     서대문구  \n",
       "1                   NaN        [사직로]독립문역->사직단        [사직로]사직단->독립문역      종로구  \n",
       "2                   NaN     [자하문로]석파정->청운초등학교     [자하문로]청운초등학교->석파정      종로구  \n",
       "3                   NaN      [삼청로]삼청각->삼청공원입구      [삼청로]삼청공원입구->삼청각      성북구  \n",
       "4        서울시 종로구 율곡로 46      [율곡로]안국역->안국동사거리      [율곡로]안국동사거리->안국역      종로구  \n",
       "..                  ...                   ...                   ...      ...  \n",
       "130                 NaN      [동부간선도로]장안교->군자교      [동부간선도로]군자교->장안교     동대문구  \n",
       "131                 NaN  [경부고속도로]서초2교 -> 서초IC  [경부고속도로]서초IC -> 서초2교      서초구  \n",
       "132                 NaN     [분당수서로]수서IC->탄천1교     [분당수서로]탄천1교->수서IC      강남구  \n",
       "133                 NaN    [강남순환로]금천요금소->관악IC      [노들로]관악IC->금천요금소      금천구  \n",
       "134  서울시 영등포구 영동포로2길 34      [서부간선도로]신정교->목동교      [서부간선도로]목동교->신정교     영등포구  \n",
       "\n",
       "[135 rows x 9 columns]"
      ]
     },
     "execution_count": 49,
     "metadata": {},
     "output_type": "execute_result"
    }
   ],
   "source": [
    "df_traffic_info"
   ]
  },
  {
   "cell_type": "markdown",
   "id": "90daf54c",
   "metadata": {},
   "source": [
    "공사,시스템개선,장애등으로 유효 데이터없는 기간이 있을 수 있음"
   ]
  },
  {
   "cell_type": "code",
   "execution_count": 51,
   "id": "81e953c1",
   "metadata": {},
   "outputs": [],
   "source": [
    "files = sorted((data_path / \"traffic\").glob(\"*.xlsx\"))"
   ]
  },
  {
   "cell_type": "code",
   "execution_count": 71,
   "id": "e0b12a74",
   "metadata": {
    "tags": []
   },
   "outputs": [
    {
     "data": {
      "application/vnd.jupyter.widget-view+json": {
       "model_id": "d511f24752214b7ebb47651f817bc6e7",
       "version_major": 2,
       "version_minor": 0
      },
      "text/plain": [
       "  0%|          | 0/52 [00:00<?, ?it/s]"
      ]
     },
     "metadata": {},
     "output_type": "display_data"
    },
    {
     "data": {
      "application/vnd.jupyter.widget-view+json": {
       "model_id": "9301c42bf3d74e4a94c4e45df29d66f5",
       "version_major": 2,
       "version_minor": 0
      },
      "text/plain": [
       "checking column: traffic201701.xlsx:   0%|          | 0/24 [00:00<?, ?it/s]"
      ]
     },
     "metadata": {},
     "output_type": "display_data"
    },
    {
     "data": {
      "application/vnd.jupyter.widget-view+json": {
       "model_id": "c90f6ca2da7e41689fb905a61ca71fca",
       "version_major": 2,
       "version_minor": 0
      },
      "text/plain": [
       "checking column: traffic201702.xlsx:   0%|          | 0/24 [00:00<?, ?it/s]"
      ]
     },
     "metadata": {},
     "output_type": "display_data"
    },
    {
     "data": {
      "application/vnd.jupyter.widget-view+json": {
       "model_id": "984e0508bbd445a288e663cf703f6542",
       "version_major": 2,
       "version_minor": 0
      },
      "text/plain": [
       "checking column: traffic201703.xlsx:   0%|          | 0/24 [00:00<?, ?it/s]"
      ]
     },
     "metadata": {},
     "output_type": "display_data"
    },
    {
     "data": {
      "application/vnd.jupyter.widget-view+json": {
       "model_id": "dc68304bd3cb40bdb92e7410b3f51280",
       "version_major": 2,
       "version_minor": 0
      },
      "text/plain": [
       "checking column: traffic201704.xlsx:   0%|          | 0/24 [00:00<?, ?it/s]"
      ]
     },
     "metadata": {},
     "output_type": "display_data"
    },
    {
     "data": {
      "application/vnd.jupyter.widget-view+json": {
       "model_id": "756deacc1263418095fabff0d989d4bd",
       "version_major": 2,
       "version_minor": 0
      },
      "text/plain": [
       "checking column: traffic201705.xlsx:   0%|          | 0/24 [00:00<?, ?it/s]"
      ]
     },
     "metadata": {},
     "output_type": "display_data"
    },
    {
     "data": {
      "application/vnd.jupyter.widget-view+json": {
       "model_id": "23a50a0e524241c0b61a5e2c20ee788f",
       "version_major": 2,
       "version_minor": 0
      },
      "text/plain": [
       "checking column: traffic201706.xlsx:   0%|          | 0/24 [00:00<?, ?it/s]"
      ]
     },
     "metadata": {},
     "output_type": "display_data"
    },
    {
     "data": {
      "application/vnd.jupyter.widget-view+json": {
       "model_id": "06e37fa7183b495188962e3f464f5f8c",
       "version_major": 2,
       "version_minor": 0
      },
      "text/plain": [
       "checking column: traffic201707.xlsx:   0%|          | 0/24 [00:00<?, ?it/s]"
      ]
     },
     "metadata": {},
     "output_type": "display_data"
    },
    {
     "data": {
      "application/vnd.jupyter.widget-view+json": {
       "model_id": "d897b5d60ec74f80b17ea116232bc0bc",
       "version_major": 2,
       "version_minor": 0
      },
      "text/plain": [
       "checking column: traffic201708.xlsx:   0%|          | 0/24 [00:00<?, ?it/s]"
      ]
     },
     "metadata": {},
     "output_type": "display_data"
    },
    {
     "data": {
      "application/vnd.jupyter.widget-view+json": {
       "model_id": "993da2e1cbb54a3cac92884daaded479",
       "version_major": 2,
       "version_minor": 0
      },
      "text/plain": [
       "checking column: traffic201709.xlsx:   0%|          | 0/24 [00:00<?, ?it/s]"
      ]
     },
     "metadata": {},
     "output_type": "display_data"
    },
    {
     "data": {
      "application/vnd.jupyter.widget-view+json": {
       "model_id": "5f65b53dc62849b6a8308ba39f783d27",
       "version_major": 2,
       "version_minor": 0
      },
      "text/plain": [
       "checking column: traffic201710.xlsx:   0%|          | 0/24 [00:00<?, ?it/s]"
      ]
     },
     "metadata": {},
     "output_type": "display_data"
    },
    {
     "data": {
      "application/vnd.jupyter.widget-view+json": {
       "model_id": "7525ef7469804ecdaa80e084821cd864",
       "version_major": 2,
       "version_minor": 0
      },
      "text/plain": [
       "checking column: traffic201711.xlsx:   0%|          | 0/24 [00:00<?, ?it/s]"
      ]
     },
     "metadata": {},
     "output_type": "display_data"
    },
    {
     "data": {
      "application/vnd.jupyter.widget-view+json": {
       "model_id": "8e0049c378444da1936702f2df78e2c7",
       "version_major": 2,
       "version_minor": 0
      },
      "text/plain": [
       "checking column: traffic201712.xlsx:   0%|          | 0/24 [00:00<?, ?it/s]"
      ]
     },
     "metadata": {},
     "output_type": "display_data"
    },
    {
     "data": {
      "application/vnd.jupyter.widget-view+json": {
       "model_id": "96c571bac75840399806e2443e300d9f",
       "version_major": 2,
       "version_minor": 0
      },
      "text/plain": [
       "checking column: traffic201801.xlsx:   0%|          | 0/24 [00:00<?, ?it/s]"
      ]
     },
     "metadata": {},
     "output_type": "display_data"
    },
    {
     "data": {
      "application/vnd.jupyter.widget-view+json": {
       "model_id": "259f61661044464b95236efcb0608426",
       "version_major": 2,
       "version_minor": 0
      },
      "text/plain": [
       "checking column: traffic201802.xlsx:   0%|          | 0/24 [00:00<?, ?it/s]"
      ]
     },
     "metadata": {},
     "output_type": "display_data"
    },
    {
     "data": {
      "application/vnd.jupyter.widget-view+json": {
       "model_id": "93ff75d135fe4cf3b571629a57be91c3",
       "version_major": 2,
       "version_minor": 0
      },
      "text/plain": [
       "checking column: traffic201803.xlsx:   0%|          | 0/24 [00:00<?, ?it/s]"
      ]
     },
     "metadata": {},
     "output_type": "display_data"
    },
    {
     "data": {
      "application/vnd.jupyter.widget-view+json": {
       "model_id": "ec864b9cdec9465d856679bdfea22634",
       "version_major": 2,
       "version_minor": 0
      },
      "text/plain": [
       "checking column: traffic201804.xlsx:   0%|          | 0/24 [00:00<?, ?it/s]"
      ]
     },
     "metadata": {},
     "output_type": "display_data"
    },
    {
     "data": {
      "application/vnd.jupyter.widget-view+json": {
       "model_id": "663acf4c73ff410a8359f112b20190ec",
       "version_major": 2,
       "version_minor": 0
      },
      "text/plain": [
       "checking column: traffic201805.xlsx:   0%|          | 0/24 [00:00<?, ?it/s]"
      ]
     },
     "metadata": {},
     "output_type": "display_data"
    },
    {
     "data": {
      "application/vnd.jupyter.widget-view+json": {
       "model_id": "9d4e859058d84a1696776848fc8bb3b4",
       "version_major": 2,
       "version_minor": 0
      },
      "text/plain": [
       "checking column: traffic201806.xlsx:   0%|          | 0/24 [00:00<?, ?it/s]"
      ]
     },
     "metadata": {},
     "output_type": "display_data"
    },
    {
     "data": {
      "application/vnd.jupyter.widget-view+json": {
       "model_id": "2f92c867d6164075ac24bb7f77f7f533",
       "version_major": 2,
       "version_minor": 0
      },
      "text/plain": [
       "checking column: traffic201807.xlsx:   0%|          | 0/24 [00:00<?, ?it/s]"
      ]
     },
     "metadata": {},
     "output_type": "display_data"
    },
    {
     "data": {
      "application/vnd.jupyter.widget-view+json": {
       "model_id": "d21341358e2a466ab75ef1ab297bbb47",
       "version_major": 2,
       "version_minor": 0
      },
      "text/plain": [
       "checking column: traffic201808.xlsx:   0%|          | 0/24 [00:00<?, ?it/s]"
      ]
     },
     "metadata": {},
     "output_type": "display_data"
    },
    {
     "data": {
      "application/vnd.jupyter.widget-view+json": {
       "model_id": "cf063dfce78a4e4a9d2410ef1e73243f",
       "version_major": 2,
       "version_minor": 0
      },
      "text/plain": [
       "checking column: traffic201809.xlsx:   0%|          | 0/24 [00:00<?, ?it/s]"
      ]
     },
     "metadata": {},
     "output_type": "display_data"
    },
    {
     "data": {
      "application/vnd.jupyter.widget-view+json": {
       "model_id": "0591dcd78baa4ef791aec8cd92d34f79",
       "version_major": 2,
       "version_minor": 0
      },
      "text/plain": [
       "checking column: traffic201810.xlsx:   0%|          | 0/24 [00:00<?, ?it/s]"
      ]
     },
     "metadata": {},
     "output_type": "display_data"
    },
    {
     "data": {
      "application/vnd.jupyter.widget-view+json": {
       "model_id": "08bb538c4d134e1798b401881ef3c649",
       "version_major": 2,
       "version_minor": 0
      },
      "text/plain": [
       "checking column: traffic201811.xlsx:   0%|          | 0/24 [00:00<?, ?it/s]"
      ]
     },
     "metadata": {},
     "output_type": "display_data"
    },
    {
     "data": {
      "application/vnd.jupyter.widget-view+json": {
       "model_id": "1ccf970209cb4749a7cb42f167076f61",
       "version_major": 2,
       "version_minor": 0
      },
      "text/plain": [
       "checking column: traffic201812.xlsx:   0%|          | 0/24 [00:00<?, ?it/s]"
      ]
     },
     "metadata": {},
     "output_type": "display_data"
    },
    {
     "data": {
      "application/vnd.jupyter.widget-view+json": {
       "model_id": "6a37f47db0d048dc8754e9e866738007",
       "version_major": 2,
       "version_minor": 0
      },
      "text/plain": [
       "checking column: traffic201901.xlsx:   0%|          | 0/24 [00:00<?, ?it/s]"
      ]
     },
     "metadata": {},
     "output_type": "display_data"
    },
    {
     "data": {
      "application/vnd.jupyter.widget-view+json": {
       "model_id": "e2ad5d67ddf840b58bea11d0bbdc06a6",
       "version_major": 2,
       "version_minor": 0
      },
      "text/plain": [
       "checking column: traffic201902.xlsx:   0%|          | 0/24 [00:00<?, ?it/s]"
      ]
     },
     "metadata": {},
     "output_type": "display_data"
    },
    {
     "data": {
      "application/vnd.jupyter.widget-view+json": {
       "model_id": "a5f4109de8c74dc88732f0d393202982",
       "version_major": 2,
       "version_minor": 0
      },
      "text/plain": [
       "checking column: traffic201903.xlsx:   0%|          | 0/24 [00:00<?, ?it/s]"
      ]
     },
     "metadata": {},
     "output_type": "display_data"
    },
    {
     "data": {
      "application/vnd.jupyter.widget-view+json": {
       "model_id": "2ed79e997177446f856287518f71e2e0",
       "version_major": 2,
       "version_minor": 0
      },
      "text/plain": [
       "checking column: traffic201904.xlsx:   0%|          | 0/24 [00:00<?, ?it/s]"
      ]
     },
     "metadata": {},
     "output_type": "display_data"
    },
    {
     "data": {
      "application/vnd.jupyter.widget-view+json": {
       "model_id": "6a0bf781cb8d4e67a0199959c71230c2",
       "version_major": 2,
       "version_minor": 0
      },
      "text/plain": [
       "checking column: traffic201905.xlsx:   0%|          | 0/24 [00:00<?, ?it/s]"
      ]
     },
     "metadata": {},
     "output_type": "display_data"
    },
    {
     "data": {
      "application/vnd.jupyter.widget-view+json": {
       "model_id": "d46a2164456541008b4949360c1c2d5e",
       "version_major": 2,
       "version_minor": 0
      },
      "text/plain": [
       "checking column: traffic201906.xlsx:   0%|          | 0/24 [00:00<?, ?it/s]"
      ]
     },
     "metadata": {},
     "output_type": "display_data"
    },
    {
     "data": {
      "application/vnd.jupyter.widget-view+json": {
       "model_id": "6d76b0ca140b4c4b85deda89d35cd71e",
       "version_major": 2,
       "version_minor": 0
      },
      "text/plain": [
       "checking column: traffic201907.xlsx:   0%|          | 0/24 [00:00<?, ?it/s]"
      ]
     },
     "metadata": {},
     "output_type": "display_data"
    },
    {
     "data": {
      "application/vnd.jupyter.widget-view+json": {
       "model_id": "47d6047d9dc949a890bd75d54a218910",
       "version_major": 2,
       "version_minor": 0
      },
      "text/plain": [
       "checking column: traffic201908.xlsx:   0%|          | 0/24 [00:00<?, ?it/s]"
      ]
     },
     "metadata": {},
     "output_type": "display_data"
    },
    {
     "data": {
      "application/vnd.jupyter.widget-view+json": {
       "model_id": "c943ed5e25fc40f89a004e2bbcfbae98",
       "version_major": 2,
       "version_minor": 0
      },
      "text/plain": [
       "checking column: traffic201909.xlsx:   0%|          | 0/24 [00:00<?, ?it/s]"
      ]
     },
     "metadata": {},
     "output_type": "display_data"
    },
    {
     "data": {
      "application/vnd.jupyter.widget-view+json": {
       "model_id": "0a1915b8019340e09f2848681291dc6c",
       "version_major": 2,
       "version_minor": 0
      },
      "text/plain": [
       "checking column: traffic201910.xlsx:   0%|          | 0/24 [00:00<?, ?it/s]"
      ]
     },
     "metadata": {},
     "output_type": "display_data"
    },
    {
     "data": {
      "application/vnd.jupyter.widget-view+json": {
       "model_id": "7970763f06f2455cb37dd8a2ba9566bb",
       "version_major": 2,
       "version_minor": 0
      },
      "text/plain": [
       "checking column: traffic201911.xlsx:   0%|          | 0/24 [00:00<?, ?it/s]"
      ]
     },
     "metadata": {},
     "output_type": "display_data"
    },
    {
     "data": {
      "application/vnd.jupyter.widget-view+json": {
       "model_id": "2eaf60f5351445329f6766d763ef674b",
       "version_major": 2,
       "version_minor": 0
      },
      "text/plain": [
       "checking column: traffic201912.xlsx:   0%|          | 0/24 [00:00<?, ?it/s]"
      ]
     },
     "metadata": {},
     "output_type": "display_data"
    },
    {
     "data": {
      "application/vnd.jupyter.widget-view+json": {
       "model_id": "ba9505ea78a0425e89652996cf69ef5a",
       "version_major": 2,
       "version_minor": 0
      },
      "text/plain": [
       "checking column: traffic202001.xlsx:   0%|          | 0/24 [00:00<?, ?it/s]"
      ]
     },
     "metadata": {},
     "output_type": "display_data"
    },
    {
     "data": {
      "application/vnd.jupyter.widget-view+json": {
       "model_id": "3e0b7c81352d46bbb8b2bac7e63b318b",
       "version_major": 2,
       "version_minor": 0
      },
      "text/plain": [
       "checking column: traffic202002.xlsx:   0%|          | 0/24 [00:00<?, ?it/s]"
      ]
     },
     "metadata": {},
     "output_type": "display_data"
    },
    {
     "data": {
      "application/vnd.jupyter.widget-view+json": {
       "model_id": "5cda0a8901024df299916c7790ec1b27",
       "version_major": 2,
       "version_minor": 0
      },
      "text/plain": [
       "checking column: traffic202003.xlsx:   0%|          | 0/24 [00:00<?, ?it/s]"
      ]
     },
     "metadata": {},
     "output_type": "display_data"
    },
    {
     "data": {
      "application/vnd.jupyter.widget-view+json": {
       "model_id": "988627e3f4804750a14a7e51dbca2c2d",
       "version_major": 2,
       "version_minor": 0
      },
      "text/plain": [
       "checking column: traffic202004.xlsx:   0%|          | 0/24 [00:00<?, ?it/s]"
      ]
     },
     "metadata": {},
     "output_type": "display_data"
    },
    {
     "data": {
      "application/vnd.jupyter.widget-view+json": {
       "model_id": "a08df4f97a234feba327974b417343b9",
       "version_major": 2,
       "version_minor": 0
      },
      "text/plain": [
       "checking column: traffic202005.xlsx:   0%|          | 0/24 [00:00<?, ?it/s]"
      ]
     },
     "metadata": {},
     "output_type": "display_data"
    },
    {
     "data": {
      "application/vnd.jupyter.widget-view+json": {
       "model_id": "6147a6561e394478aabab52f4762dd7b",
       "version_major": 2,
       "version_minor": 0
      },
      "text/plain": [
       "checking column: traffic202006.xlsx:   0%|          | 0/24 [00:00<?, ?it/s]"
      ]
     },
     "metadata": {},
     "output_type": "display_data"
    },
    {
     "data": {
      "application/vnd.jupyter.widget-view+json": {
       "model_id": "69bdef22635a4a77870fe70d33e969e5",
       "version_major": 2,
       "version_minor": 0
      },
      "text/plain": [
       "checking column: traffic202007.xlsx:   0%|          | 0/24 [00:00<?, ?it/s]"
      ]
     },
     "metadata": {},
     "output_type": "display_data"
    },
    {
     "data": {
      "application/vnd.jupyter.widget-view+json": {
       "model_id": "11bfe82e48c34ab799f24d592f2eb79d",
       "version_major": 2,
       "version_minor": 0
      },
      "text/plain": [
       "checking column: traffic202008.xlsx:   0%|          | 0/24 [00:00<?, ?it/s]"
      ]
     },
     "metadata": {},
     "output_type": "display_data"
    },
    {
     "data": {
      "application/vnd.jupyter.widget-view+json": {
       "model_id": "6f86f8b08e3741f89991ca3769873d2e",
       "version_major": 2,
       "version_minor": 0
      },
      "text/plain": [
       "checking column: traffic202009.xlsx:   0%|          | 0/24 [00:00<?, ?it/s]"
      ]
     },
     "metadata": {},
     "output_type": "display_data"
    },
    {
     "data": {
      "application/vnd.jupyter.widget-view+json": {
       "model_id": "f22da464fde04be79df61b617f66e0f8",
       "version_major": 2,
       "version_minor": 0
      },
      "text/plain": [
       "checking column: traffic202010.xlsx:   0%|          | 0/24 [00:00<?, ?it/s]"
      ]
     },
     "metadata": {},
     "output_type": "display_data"
    },
    {
     "data": {
      "application/vnd.jupyter.widget-view+json": {
       "model_id": "428bcfebc8b948b0aa5e4dd4adc1c289",
       "version_major": 2,
       "version_minor": 0
      },
      "text/plain": [
       "checking column: traffic202011.xlsx:   0%|          | 0/24 [00:00<?, ?it/s]"
      ]
     },
     "metadata": {},
     "output_type": "display_data"
    },
    {
     "data": {
      "application/vnd.jupyter.widget-view+json": {
       "model_id": "71eb9e1ec2cc456f9e66e00dcf52cd04",
       "version_major": 2,
       "version_minor": 0
      },
      "text/plain": [
       "checking column: traffic202012.xlsx:   0%|          | 0/24 [00:00<?, ?it/s]"
      ]
     },
     "metadata": {},
     "output_type": "display_data"
    },
    {
     "data": {
      "application/vnd.jupyter.widget-view+json": {
       "model_id": "67faf2ac1e4545d4b516bc2819152734",
       "version_major": 2,
       "version_minor": 0
      },
      "text/plain": [
       "checking column: traffic202101.xlsx:   0%|          | 0/24 [00:00<?, ?it/s]"
      ]
     },
     "metadata": {},
     "output_type": "display_data"
    },
    {
     "data": {
      "application/vnd.jupyter.widget-view+json": {
       "model_id": "894acf7d27ca43c0b787254293f0441b",
       "version_major": 2,
       "version_minor": 0
      },
      "text/plain": [
       "checking column: traffic202102.xlsx:   0%|          | 0/24 [00:00<?, ?it/s]"
      ]
     },
     "metadata": {},
     "output_type": "display_data"
    },
    {
     "data": {
      "application/vnd.jupyter.widget-view+json": {
       "model_id": "be644add977346059dea55e619656154",
       "version_major": 2,
       "version_minor": 0
      },
      "text/plain": [
       "checking column: traffic202103.xlsx:   0%|          | 0/24 [00:00<?, ?it/s]"
      ]
     },
     "metadata": {},
     "output_type": "display_data"
    },
    {
     "data": {
      "application/vnd.jupyter.widget-view+json": {
       "model_id": "0c34d60b21184b91878eab909d21b18e",
       "version_major": 2,
       "version_minor": 0
      },
      "text/plain": [
       "checking column: traffic202104.xlsx:   0%|          | 0/24 [00:00<?, ?it/s]"
      ]
     },
     "metadata": {},
     "output_type": "display_data"
    }
   ],
   "source": [
    "data = []\n",
    "time_columns = [\n",
    "    '0시', '1시', '2시', '3시', '4시', '5시', '6시', '7시', '8시', '9시','10시', '11시', '12시', '13시', '14시', \n",
    "    '15시', '16시', '17시', '18시', '19시','20시', '21시', '22시', '23시'\n",
    "]\n",
    "\n",
    "for f in tqdm(files, total=len(files)):\n",
    "    num = 0 if f.name.strip(\"traffic\")[:4] == \"2017\" else 1\n",
    "    df = pd.read_excel(f, sheet_name=num)\n",
    "    df = df.merge(df_traffic_info.loc[:, [\"지점번호\", \"district\"]], on=\"지점번호\")\n",
    "    if len(df[\"방향\"].unique()) != 2:\n",
    "        temp1 = df.loc[:, \"구분\"].values.copy()\n",
    "        temp2 = df.loc[:, \"방향\"].values.copy()\n",
    "        df.loc[:, \"구분\"] = temp2\n",
    "        df.loc[:, \"방향\"] = temp1\n",
    "    for c in tqdm(time_columns, total=len(time_columns), desc=f\"checking column: {f.name}\"):\n",
    "        m = df.loc[:, time_columns].loc[:, c].apply(lambda x: isinstance(x, str))\n",
    "        if m.sum() > 0:\n",
    "            df.loc[m, c] = 0.0\n",
    "    df.loc[:, time_columns] = df.loc[:, time_columns].astype(np.float)\n",
    "    data.append(df)"
   ]
  },
  {
   "cell_type": "code",
   "execution_count": 72,
   "id": "bc6b02df",
   "metadata": {},
   "outputs": [
    {
     "name": "stdout",
     "output_type": "stream",
     "text": [
      "['유입' '유출']\n"
     ]
    }
   ],
   "source": [
    "df = pd.concat(data).iloc[:, :-3].reset_index(drop=True)\n",
    "df[\"일자\"] = pd.to_datetime(df[\"일자\"], format=\"%Y%m%d\")\n",
    "print(df[\"방향\"].unique())"
   ]
  },
  {
   "cell_type": "code",
   "execution_count": 73,
   "id": "44769b60",
   "metadata": {},
   "outputs": [],
   "source": [
    "df.to_csv(data_path / \"traffic.tsv\", encoding=\"utf-8\", index=False, sep=\"\\t\")"
   ]
  },
  {
   "cell_type": "code",
   "execution_count": 74,
   "id": "b321b86a",
   "metadata": {},
   "outputs": [],
   "source": [
    "df_before_fill = pd.read_csv(data_path / \"traffic.tsv\", encoding=\"utf-8\", sep=\"\\t\")\n",
    "df_before_fill[\"일자\"] = pd.to_datetime(df_before_fill[\"일자\"], format=\"%Y-%m-%d\")"
   ]
  },
  {
   "cell_type": "code",
   "execution_count": 75,
   "id": "c69bcf64",
   "metadata": {},
   "outputs": [
    {
     "data": {
      "text/plain": [
       "0시     0.896930\n",
       "1시     0.897469\n",
       "2시     0.897594\n",
       "3시     0.897749\n",
       "4시     0.898897\n",
       "5시     0.899580\n",
       "6시     0.899598\n",
       "7시     0.899607\n",
       "8시     0.899342\n",
       "9시     0.899199\n",
       "10시    0.899047\n",
       "11시    0.898678\n",
       "12시    0.899150\n",
       "13시    0.898687\n",
       "14시    0.899543\n",
       "15시    0.900009\n",
       "16시    0.900171\n",
       "17시    0.900043\n",
       "18시    0.900612\n",
       "19시    0.899939\n",
       "20시    0.900567\n",
       "21시    0.900643\n",
       "22시    0.897646\n",
       "23시    0.895626\n",
       "Name: count, dtype: float64"
      ]
     },
     "execution_count": 75,
     "metadata": {},
     "output_type": "execute_result"
    }
   ],
   "source": [
    "start_idx = df_before_fill.loc[df_before_fill[\"일자\"] == \"2018-01-01\"].index[0]\n",
    "df_before_fill.iloc[start_idx:len(df_before_fill), 6:6+24].describe().loc[\"count\"] / len(df_before_fill.iloc[start_idx:len(df_before_fill)])"
   ]
  },
  {
   "cell_type": "markdown",
   "id": "b650173b",
   "metadata": {},
   "source": [
    "전년도 대비 동기로 채우기엔 코로나 때문에 특성이 달라질 것 같음 (분포 필요), 따라서 같은 지난주 같은 요일 대비로 채우는게 맞을 듯"
   ]
  },
  {
   "cell_type": "code",
   "execution_count": 76,
   "id": "6c441673",
   "metadata": {
    "tags": []
   },
   "outputs": [
    {
     "data": {
      "application/vnd.jupyter.widget-view+json": {
       "model_id": "47a52983c6b0408bab3e784b62c6eccf",
       "version_major": 2,
       "version_minor": 0
      },
      "text/plain": [
       "  0%|          | 0/41145 [00:00<?, ?it/s]"
      ]
     },
     "metadata": {},
     "output_type": "display_data"
    }
   ],
   "source": [
    "# weekday_dict = dict(enumerate([\"월\", \"화\", \"수\", \"목\", \"금\", \"토\", \"일\"]))\n",
    "start_idx = df_before_fill.loc[df_before_fill[\"일자\"] == \"2018-01-01\"].index[0]\n",
    "null_mask = df_before_fill.iloc[start_idx:len(df_before_fill), 6:6+24].isnull()\n",
    "iter_idx = df_before_fill.iloc[start_idx:len(df_before_fill)].index[null_mask.sum(1) > 0]\n",
    "for i in tqdm(iter_idx, total=len(iter_idx)):\n",
    "    row = df_before_fill.loc[i]\n",
    "    row_mask = row.iloc[6:6+24].isnull()\n",
    "    date = row.iloc[0]\n",
    "    measure_point = row.iloc[3]\n",
    "    direction = row.iloc[5]\n",
    "\n",
    "    lastweek_date = date - timedelta(7)\n",
    "    lastweek_data = df_before_fill.loc[(df_before_fill[\"일자\"] == lastweek_date) & (df_before_fill[\"지점번호\"] == measure_point) & (df_before_fill[\"방향\"] == direction)]\n",
    "    lastweek_masked = lastweek_data.iloc[0, 6:6+24][row_mask]\n",
    "    \n",
    "    idx = np.arange(6, 6+24)[row_mask]\n",
    "    values = lastweek_data.iloc[0, idx].fillna(0).values.copy()\n",
    "    df_before_fill.iloc[i, idx] = values\n",
    "    \n",
    "df_before_fill.to_csv(data_path / \"traffic_filled.tsv\", encoding=\"utf-8\", index=False, sep=\"\\t\")"
   ]
  },
  {
   "cell_type": "code",
   "execution_count": 122,
   "id": "2a8ae5d6",
   "metadata": {},
   "outputs": [],
   "source": [
    "df = pd.read_csv(data_path / \"traffic_filled.tsv\", encoding=\"utf-8\", sep=\"\\t\")"
   ]
  },
  {
   "cell_type": "code",
   "execution_count": 123,
   "id": "3b915f14",
   "metadata": {},
   "outputs": [
    {
     "data": {
      "text/plain": [
       "0시     1.0\n",
       "1시     1.0\n",
       "2시     1.0\n",
       "3시     1.0\n",
       "4시     1.0\n",
       "5시     1.0\n",
       "6시     1.0\n",
       "7시     1.0\n",
       "8시     1.0\n",
       "9시     1.0\n",
       "10시    1.0\n",
       "11시    1.0\n",
       "12시    1.0\n",
       "13시    1.0\n",
       "14시    1.0\n",
       "15시    1.0\n",
       "16시    1.0\n",
       "17시    1.0\n",
       "18시    1.0\n",
       "19시    1.0\n",
       "20시    1.0\n",
       "21시    1.0\n",
       "22시    1.0\n",
       "23시    1.0\n",
       "Name: count, dtype: float64"
      ]
     },
     "execution_count": 123,
     "metadata": {},
     "output_type": "execute_result"
    }
   ],
   "source": [
    "start_idx = df.loc[df[\"일자\"] == \"2018-01-01\"].index[0]\n",
    "df.iloc[start_idx:len(df), 6:6+24].describe().loc[\"count\"] / len(df.iloc[start_idx:len(df)])"
   ]
  },
  {
   "cell_type": "code",
   "execution_count": 124,
   "id": "664c7cf4",
   "metadata": {},
   "outputs": [],
   "source": [
    "s = df.loc[(df[\"일자\"] == \"2018-01-01\")].index[0]\n",
    "e = df.loc[(df[\"일자\"] == \"2020-12-31\")].index[-1]\n",
    "df_temp = df.loc[s:e].reset_index(drop=True).loc[:, ['일자', '요일', 'district', '지점명', '지점번호', '구분', '방향', '0시', '1시', '2시', '3시', '4시',\n",
    "       '5시', '6시', '7시', '8시', '9시', '10시', '11시', '12시', '13시', '14시', '15시',\n",
    "       '16시', '17시', '18시', '19시', '20시', '21시', '22시', '23시']]\n",
    "df_temp.groupby([\"일자\", \"district\", \"지점번호\"])[time_columns].sum().astype(int).to_csv(data_path/\"traffic_filled_2018-2020.tsv\", sep=\"\\t\", encoding=\"utf-8\")"
   ]
  },
  {
   "cell_type": "code",
   "execution_count": 86,
   "id": "34ce2d8b",
   "metadata": {},
   "outputs": [],
   "source": [
    "# df_temp = pd.read_csv(data_path / \"traffic_filled_2018-2020.tsv\", sep=\"\\t\")"
   ]
  },
  {
   "cell_type": "code",
   "execution_count": 87,
   "id": "632d653e",
   "metadata": {},
   "outputs": [],
   "source": [
    "s = df.loc[(df[\"일자\"] == \"2021-01-01\")].index[0]\n",
    "# e = df.loc[(df[\"일자\"] == \"2021-01-01\")].index[-1]\n",
    "df_temp = df.loc[s:len(df)].reset_index(drop=True).loc[:, ['일자', '요일', 'district', '지점명', '지점번호', '구분', '방향', '0시', '1시', '2시', '3시', '4시',\n",
    "       '5시', '6시', '7시', '8시', '9시', '10시', '11시', '12시', '13시', '14시', '15시',\n",
    "       '16시', '17시', '18시', '19시', '20시', '21시', '22시', '23시']]"
   ]
  },
  {
   "cell_type": "code",
   "execution_count": 88,
   "id": "5f92171e",
   "metadata": {},
   "outputs": [],
   "source": [
    "df_temp.groupby([\"일자\", \"district\", \"지점번호\"])[time_columns].sum().astype(int).to_csv(data_path/\"traffic_filled_2021.tsv\", sep=\"\\t\", encoding=\"utf-8\")"
   ]
  },
  {
   "cell_type": "markdown",
   "id": "00b6d83f",
   "metadata": {},
   "source": [
    "## 구별로 뽑아내기"
   ]
  },
  {
   "cell_type": "code",
   "execution_count": 135,
   "id": "3d52f62e",
   "metadata": {},
   "outputs": [],
   "source": [
    "df_airq = pd.read_csv(data_path / \"airq_filled_by_gu_2018-2020.tsv\", encoding=\"utf-8\", sep=\"\\t\")\n",
    "df_traffic = pd.read_csv(data_path / \"traffic_filled_2018-2020.tsv\", encoding=\"utf-8\", sep=\"\\t\")"
   ]
  },
  {
   "cell_type": "code",
   "execution_count": 136,
   "id": "4a07f7ca",
   "metadata": {},
   "outputs": [
    {
     "data": {
      "text/plain": [
       "Index(['일자', 'district', '지점번호', '0시', '1시', '2시', '3시', '4시', '5시', '6시',\n",
       "       '7시', '8시', '9시', '10시', '11시', '12시', '13시', '14시', '15시', '16시',\n",
       "       '17시', '18시', '19시', '20시', '21시', '22시', '23시'],\n",
       "      dtype='object')"
      ]
     },
     "execution_count": 136,
     "metadata": {},
     "output_type": "execute_result"
    }
   ],
   "source": [
    "df_traffic.columns"
   ]
  },
  {
   "cell_type": "code",
   "execution_count": 137,
   "id": "3e34b61e",
   "metadata": {},
   "outputs": [],
   "source": [
    "time_columns = [\n",
    "    '0시', '1시', '2시', '3시', '4시', '5시', '6시', '7시', '8시', '9시','10시', '11시', '12시', '13시', '14시', \n",
    "    '15시', '16시', '17시', '18시', '19시','20시', '21시', '22시', '23시'\n",
    "]"
   ]
  },
  {
   "cell_type": "code",
   "execution_count": 138,
   "id": "33b84421",
   "metadata": {},
   "outputs": [
    {
     "data": {
      "text/html": [
       "<div>\n",
       "<style scoped>\n",
       "    .dataframe tbody tr th:only-of-type {\n",
       "        vertical-align: middle;\n",
       "    }\n",
       "\n",
       "    .dataframe tbody tr th {\n",
       "        vertical-align: top;\n",
       "    }\n",
       "\n",
       "    .dataframe thead th {\n",
       "        text-align: right;\n",
       "    }\n",
       "</style>\n",
       "<table border=\"1\" class=\"dataframe\">\n",
       "  <thead>\n",
       "    <tr style=\"text-align: right;\">\n",
       "      <th></th>\n",
       "      <th>일자</th>\n",
       "      <th>district</th>\n",
       "      <th>지점번호</th>\n",
       "      <th>0시</th>\n",
       "      <th>1시</th>\n",
       "      <th>2시</th>\n",
       "      <th>3시</th>\n",
       "      <th>4시</th>\n",
       "      <th>5시</th>\n",
       "      <th>6시</th>\n",
       "      <th>...</th>\n",
       "      <th>14시</th>\n",
       "      <th>15시</th>\n",
       "      <th>16시</th>\n",
       "      <th>17시</th>\n",
       "      <th>18시</th>\n",
       "      <th>19시</th>\n",
       "      <th>20시</th>\n",
       "      <th>21시</th>\n",
       "      <th>22시</th>\n",
       "      <th>23시</th>\n",
       "    </tr>\n",
       "  </thead>\n",
       "  <tbody>\n",
       "    <tr>\n",
       "      <th>0</th>\n",
       "      <td>2018-01-01</td>\n",
       "      <td>강남구</td>\n",
       "      <td>B-13</td>\n",
       "      <td>218</td>\n",
       "      <td>260</td>\n",
       "      <td>130</td>\n",
       "      <td>72</td>\n",
       "      <td>75</td>\n",
       "      <td>101</td>\n",
       "      <td>167</td>\n",
       "      <td>...</td>\n",
       "      <td>897</td>\n",
       "      <td>961</td>\n",
       "      <td>895</td>\n",
       "      <td>832</td>\n",
       "      <td>653</td>\n",
       "      <td>621</td>\n",
       "      <td>562</td>\n",
       "      <td>425</td>\n",
       "      <td>273</td>\n",
       "      <td>189</td>\n",
       "    </tr>\n",
       "    <tr>\n",
       "      <th>1</th>\n",
       "      <td>2018-01-01</td>\n",
       "      <td>강남구</td>\n",
       "      <td>C-13</td>\n",
       "      <td>6031</td>\n",
       "      <td>6043</td>\n",
       "      <td>3629</td>\n",
       "      <td>2720</td>\n",
       "      <td>2270</td>\n",
       "      <td>2671</td>\n",
       "      <td>3565</td>\n",
       "      <td>...</td>\n",
       "      <td>8921</td>\n",
       "      <td>9270</td>\n",
       "      <td>8968</td>\n",
       "      <td>8436</td>\n",
       "      <td>7934</td>\n",
       "      <td>7536</td>\n",
       "      <td>7579</td>\n",
       "      <td>7283</td>\n",
       "      <td>6037</td>\n",
       "      <td>4490</td>\n",
       "    </tr>\n",
       "    <tr>\n",
       "      <th>2</th>\n",
       "      <td>2018-01-01</td>\n",
       "      <td>강남구</td>\n",
       "      <td>C-17</td>\n",
       "      <td>3446</td>\n",
       "      <td>3339</td>\n",
       "      <td>1525</td>\n",
       "      <td>946</td>\n",
       "      <td>913</td>\n",
       "      <td>1071</td>\n",
       "      <td>1492</td>\n",
       "      <td>...</td>\n",
       "      <td>6623</td>\n",
       "      <td>6322</td>\n",
       "      <td>6336</td>\n",
       "      <td>5992</td>\n",
       "      <td>5560</td>\n",
       "      <td>5403</td>\n",
       "      <td>5828</td>\n",
       "      <td>5332</td>\n",
       "      <td>3798</td>\n",
       "      <td>2364</td>\n",
       "    </tr>\n",
       "    <tr>\n",
       "      <th>3</th>\n",
       "      <td>2018-01-01</td>\n",
       "      <td>강남구</td>\n",
       "      <td>D-35</td>\n",
       "      <td>2590</td>\n",
       "      <td>2327</td>\n",
       "      <td>1968</td>\n",
       "      <td>1784</td>\n",
       "      <td>1572</td>\n",
       "      <td>1760</td>\n",
       "      <td>2043</td>\n",
       "      <td>...</td>\n",
       "      <td>3353</td>\n",
       "      <td>3457</td>\n",
       "      <td>3456</td>\n",
       "      <td>3451</td>\n",
       "      <td>3209</td>\n",
       "      <td>3121</td>\n",
       "      <td>2896</td>\n",
       "      <td>2856</td>\n",
       "      <td>2828</td>\n",
       "      <td>2623</td>\n",
       "    </tr>\n",
       "    <tr>\n",
       "      <th>4</th>\n",
       "      <td>2018-01-01</td>\n",
       "      <td>강남구</td>\n",
       "      <td>D-38</td>\n",
       "      <td>1564</td>\n",
       "      <td>1505</td>\n",
       "      <td>765</td>\n",
       "      <td>583</td>\n",
       "      <td>518</td>\n",
       "      <td>598</td>\n",
       "      <td>738</td>\n",
       "      <td>...</td>\n",
       "      <td>2426</td>\n",
       "      <td>2892</td>\n",
       "      <td>2953</td>\n",
       "      <td>2822</td>\n",
       "      <td>2381</td>\n",
       "      <td>2120</td>\n",
       "      <td>2139</td>\n",
       "      <td>1989</td>\n",
       "      <td>1597</td>\n",
       "      <td>1029</td>\n",
       "    </tr>\n",
       "    <tr>\n",
       "      <th>...</th>\n",
       "      <td>...</td>\n",
       "      <td>...</td>\n",
       "      <td>...</td>\n",
       "      <td>...</td>\n",
       "      <td>...</td>\n",
       "      <td>...</td>\n",
       "      <td>...</td>\n",
       "      <td>...</td>\n",
       "      <td>...</td>\n",
       "      <td>...</td>\n",
       "      <td>...</td>\n",
       "      <td>...</td>\n",
       "      <td>...</td>\n",
       "      <td>...</td>\n",
       "      <td>...</td>\n",
       "      <td>...</td>\n",
       "      <td>...</td>\n",
       "      <td>...</td>\n",
       "      <td>...</td>\n",
       "      <td>...</td>\n",
       "      <td>...</td>\n",
       "    </tr>\n",
       "    <tr>\n",
       "      <th>147955</th>\n",
       "      <td>2020-12-31</td>\n",
       "      <td>중구</td>\n",
       "      <td>A-24</td>\n",
       "      <td>69</td>\n",
       "      <td>51</td>\n",
       "      <td>31</td>\n",
       "      <td>32</td>\n",
       "      <td>21</td>\n",
       "      <td>36</td>\n",
       "      <td>88</td>\n",
       "      <td>...</td>\n",
       "      <td>693</td>\n",
       "      <td>655</td>\n",
       "      <td>746</td>\n",
       "      <td>794</td>\n",
       "      <td>853</td>\n",
       "      <td>521</td>\n",
       "      <td>396</td>\n",
       "      <td>345</td>\n",
       "      <td>229</td>\n",
       "      <td>166</td>\n",
       "    </tr>\n",
       "    <tr>\n",
       "      <th>147956</th>\n",
       "      <td>2020-12-31</td>\n",
       "      <td>중구</td>\n",
       "      <td>D-03</td>\n",
       "      <td>991</td>\n",
       "      <td>785</td>\n",
       "      <td>584</td>\n",
       "      <td>510</td>\n",
       "      <td>562</td>\n",
       "      <td>771</td>\n",
       "      <td>1539</td>\n",
       "      <td>...</td>\n",
       "      <td>3859</td>\n",
       "      <td>3394</td>\n",
       "      <td>3163</td>\n",
       "      <td>2913</td>\n",
       "      <td>2730</td>\n",
       "      <td>2543</td>\n",
       "      <td>2518</td>\n",
       "      <td>2152</td>\n",
       "      <td>1423</td>\n",
       "      <td>1027</td>\n",
       "    </tr>\n",
       "    <tr>\n",
       "      <th>147957</th>\n",
       "      <td>2020-12-31</td>\n",
       "      <td>중랑구</td>\n",
       "      <td>B-05</td>\n",
       "      <td>430</td>\n",
       "      <td>296</td>\n",
       "      <td>220</td>\n",
       "      <td>230</td>\n",
       "      <td>355</td>\n",
       "      <td>801</td>\n",
       "      <td>1651</td>\n",
       "      <td>...</td>\n",
       "      <td>2855</td>\n",
       "      <td>3016</td>\n",
       "      <td>3181</td>\n",
       "      <td>3422</td>\n",
       "      <td>3498</td>\n",
       "      <td>2894</td>\n",
       "      <td>2097</td>\n",
       "      <td>1833</td>\n",
       "      <td>1233</td>\n",
       "      <td>764</td>\n",
       "    </tr>\n",
       "    <tr>\n",
       "      <th>147958</th>\n",
       "      <td>2020-12-31</td>\n",
       "      <td>중랑구</td>\n",
       "      <td>B-07</td>\n",
       "      <td>1397</td>\n",
       "      <td>1077</td>\n",
       "      <td>851</td>\n",
       "      <td>923</td>\n",
       "      <td>1189</td>\n",
       "      <td>2572</td>\n",
       "      <td>4702</td>\n",
       "      <td>...</td>\n",
       "      <td>6883</td>\n",
       "      <td>7188</td>\n",
       "      <td>6911</td>\n",
       "      <td>6423</td>\n",
       "      <td>6195</td>\n",
       "      <td>6223</td>\n",
       "      <td>6038</td>\n",
       "      <td>5936</td>\n",
       "      <td>3996</td>\n",
       "      <td>2286</td>\n",
       "    </tr>\n",
       "    <tr>\n",
       "      <th>147959</th>\n",
       "      <td>2020-12-31</td>\n",
       "      <td>하남시</td>\n",
       "      <td>B-08</td>\n",
       "      <td>876</td>\n",
       "      <td>690</td>\n",
       "      <td>592</td>\n",
       "      <td>546</td>\n",
       "      <td>779</td>\n",
       "      <td>1567</td>\n",
       "      <td>3509</td>\n",
       "      <td>...</td>\n",
       "      <td>6360</td>\n",
       "      <td>6401</td>\n",
       "      <td>6740</td>\n",
       "      <td>5813</td>\n",
       "      <td>6029</td>\n",
       "      <td>5395</td>\n",
       "      <td>4078</td>\n",
       "      <td>3136</td>\n",
       "      <td>2055</td>\n",
       "      <td>1149</td>\n",
       "    </tr>\n",
       "  </tbody>\n",
       "</table>\n",
       "<p>147960 rows × 27 columns</p>\n",
       "</div>"
      ],
      "text/plain": [
       "                일자 district  지점번호    0시    1시    2시    3시    4시    5시    6시  \\\n",
       "0       2018-01-01      강남구  B-13   218   260   130    72    75   101   167   \n",
       "1       2018-01-01      강남구  C-13  6031  6043  3629  2720  2270  2671  3565   \n",
       "2       2018-01-01      강남구  C-17  3446  3339  1525   946   913  1071  1492   \n",
       "3       2018-01-01      강남구  D-35  2590  2327  1968  1784  1572  1760  2043   \n",
       "4       2018-01-01      강남구  D-38  1564  1505   765   583   518   598   738   \n",
       "...            ...      ...   ...   ...   ...   ...   ...   ...   ...   ...   \n",
       "147955  2020-12-31       중구  A-24    69    51    31    32    21    36    88   \n",
       "147956  2020-12-31       중구  D-03   991   785   584   510   562   771  1539   \n",
       "147957  2020-12-31      중랑구  B-05   430   296   220   230   355   801  1651   \n",
       "147958  2020-12-31      중랑구  B-07  1397  1077   851   923  1189  2572  4702   \n",
       "147959  2020-12-31      하남시  B-08   876   690   592   546   779  1567  3509   \n",
       "\n",
       "        ...   14시   15시   16시   17시   18시   19시   20시   21시   22시   23시  \n",
       "0       ...   897   961   895   832   653   621   562   425   273   189  \n",
       "1       ...  8921  9270  8968  8436  7934  7536  7579  7283  6037  4490  \n",
       "2       ...  6623  6322  6336  5992  5560  5403  5828  5332  3798  2364  \n",
       "3       ...  3353  3457  3456  3451  3209  3121  2896  2856  2828  2623  \n",
       "4       ...  2426  2892  2953  2822  2381  2120  2139  1989  1597  1029  \n",
       "...     ...   ...   ...   ...   ...   ...   ...   ...   ...   ...   ...  \n",
       "147955  ...   693   655   746   794   853   521   396   345   229   166  \n",
       "147956  ...  3859  3394  3163  2913  2730  2543  2518  2152  1423  1027  \n",
       "147957  ...  2855  3016  3181  3422  3498  2894  2097  1833  1233   764  \n",
       "147958  ...  6883  7188  6911  6423  6195  6223  6038  5936  3996  2286  \n",
       "147959  ...  6360  6401  6740  5813  6029  5395  4078  3136  2055  1149  \n",
       "\n",
       "[147960 rows x 27 columns]"
      ]
     },
     "execution_count": 138,
     "metadata": {},
     "output_type": "execute_result"
    }
   ],
   "source": [
    "df_traffic"
   ]
  },
  {
   "cell_type": "code",
   "execution_count": 143,
   "id": "c6c11e19",
   "metadata": {},
   "outputs": [],
   "source": [
    "df_traffic = df_traffic.loc[df_traffic.district.isin(df_airq.district.unique()), :]"
   ]
  },
  {
   "cell_type": "code",
   "execution_count": 144,
   "id": "60060fda",
   "metadata": {},
   "outputs": [],
   "source": [
    "df_traffic.groupby([\"일자\", \"district\"])[time_columns].mean().to_csv(data_path/\"traffic_filled_by_gu_2018-2020.tsv\", sep=\"\\t\", encoding=\"utf-8\")"
   ]
  },
  {
   "cell_type": "markdown",
   "id": "d200dbfd",
   "metadata": {},
   "source": [
    "Join 하기 좋은 형태로 전환"
   ]
  },
  {
   "cell_type": "code",
   "execution_count": 145,
   "id": "968aaa3f",
   "metadata": {},
   "outputs": [
    {
     "data": {
      "text/plain": [
       "(26304, 26)"
      ]
     },
     "execution_count": 145,
     "metadata": {},
     "output_type": "execute_result"
    }
   ],
   "source": [
    "df_traffic = pd.read_csv(data_path / \"traffic_filled_by_gu_2018-2020.tsv\", encoding=\"utf-8\", sep=\"\\t\")\n",
    "df_traffic.shape"
   ]
  },
  {
   "cell_type": "code",
   "execution_count": 146,
   "id": "42ad581b",
   "metadata": {},
   "outputs": [
    {
     "data": {
      "application/vnd.jupyter.widget-view+json": {
       "model_id": "f6c76d672bd04ad2b616ade306164185",
       "version_major": 2,
       "version_minor": 0
      },
      "text/plain": [
       "  0%|          | 0/1096 [00:00<?, ?it/s]"
      ]
     },
     "metadata": {},
     "output_type": "display_data"
    }
   ],
   "source": [
    "data = []\n",
    "for date in tqdm(df_traffic[\"일자\"].unique(), total=len(df_traffic[\"일자\"].unique())):\n",
    "    temp = []\n",
    "    df_temp = df_traffic.loc[df_traffic[\"일자\"] == date]#.set_index([\"일자\", \"district\"])\n",
    "    for t in time_columns:\n",
    "        a = (df_temp[\"일자\"] + f\" {t.strip('시') if len(t.strip('시')) == 2 else '0'+t.strip('시')}\").values, df_temp[\"district\"].values, df_temp[t].values\n",
    "        temp.extend(list(zip(*a)))\n",
    "    data.append(pd.DataFrame(temp, columns=[\"date\", \"district\", \"traffic\"]))\n",
    "df = pd.concat(data).reset_index(drop=True)"
   ]
  },
  {
   "cell_type": "code",
   "execution_count": 147,
   "id": "8e3d841f",
   "metadata": {},
   "outputs": [],
   "source": [
    "df = df.sort_values(by=[\"district\", \"date\"])\n",
    "df[\"date\"] = pd.to_datetime(df[\"date\"], format=\"%Y-%m-%d %H\").values\n",
    "df.to_csv(data_path/\"traffic_filled_by_gu_2018-2020.tsv\", sep=\"\\t\", encoding=\"utf-8\", index=False)"
   ]
  },
  {
   "cell_type": "code",
   "execution_count": 148,
   "id": "369bd5ba",
   "metadata": {},
   "outputs": [],
   "source": [
    "df = pd.read_csv(data_path/\"traffic_filled_by_gu_2018-2020.tsv\", sep=\"\\t\", encoding=\"utf-8\")"
   ]
  },
  {
   "cell_type": "code",
   "execution_count": 149,
   "id": "85e32d75",
   "metadata": {},
   "outputs": [
    {
     "data": {
      "text/html": [
       "<div>\n",
       "<style scoped>\n",
       "    .dataframe tbody tr th:only-of-type {\n",
       "        vertical-align: middle;\n",
       "    }\n",
       "\n",
       "    .dataframe tbody tr th {\n",
       "        vertical-align: top;\n",
       "    }\n",
       "\n",
       "    .dataframe thead th {\n",
       "        text-align: right;\n",
       "    }\n",
       "</style>\n",
       "<table border=\"1\" class=\"dataframe\">\n",
       "  <thead>\n",
       "    <tr style=\"text-align: right;\">\n",
       "      <th></th>\n",
       "      <th>date</th>\n",
       "      <th>district</th>\n",
       "      <th>traffic</th>\n",
       "    </tr>\n",
       "  </thead>\n",
       "  <tbody>\n",
       "    <tr>\n",
       "      <th>0</th>\n",
       "      <td>2018-01-01 00:00:00</td>\n",
       "      <td>강남구</td>\n",
       "      <td>2808.9</td>\n",
       "    </tr>\n",
       "    <tr>\n",
       "      <th>1</th>\n",
       "      <td>2018-01-01 01:00:00</td>\n",
       "      <td>강남구</td>\n",
       "      <td>2697.4</td>\n",
       "    </tr>\n",
       "    <tr>\n",
       "      <th>2</th>\n",
       "      <td>2018-01-01 02:00:00</td>\n",
       "      <td>강남구</td>\n",
       "      <td>1640.2</td>\n",
       "    </tr>\n",
       "    <tr>\n",
       "      <th>3</th>\n",
       "      <td>2018-01-01 03:00:00</td>\n",
       "      <td>강남구</td>\n",
       "      <td>1235.2</td>\n",
       "    </tr>\n",
       "    <tr>\n",
       "      <th>4</th>\n",
       "      <td>2018-01-01 04:00:00</td>\n",
       "      <td>강남구</td>\n",
       "      <td>1097.8</td>\n",
       "    </tr>\n",
       "    <tr>\n",
       "      <th>...</th>\n",
       "      <td>...</td>\n",
       "      <td>...</td>\n",
       "      <td>...</td>\n",
       "    </tr>\n",
       "    <tr>\n",
       "      <th>631291</th>\n",
       "      <td>2020-12-31 19:00:00</td>\n",
       "      <td>중랑구</td>\n",
       "      <td>4558.5</td>\n",
       "    </tr>\n",
       "    <tr>\n",
       "      <th>631292</th>\n",
       "      <td>2020-12-31 20:00:00</td>\n",
       "      <td>중랑구</td>\n",
       "      <td>4067.5</td>\n",
       "    </tr>\n",
       "    <tr>\n",
       "      <th>631293</th>\n",
       "      <td>2020-12-31 21:00:00</td>\n",
       "      <td>중랑구</td>\n",
       "      <td>3884.5</td>\n",
       "    </tr>\n",
       "    <tr>\n",
       "      <th>631294</th>\n",
       "      <td>2020-12-31 22:00:00</td>\n",
       "      <td>중랑구</td>\n",
       "      <td>2614.5</td>\n",
       "    </tr>\n",
       "    <tr>\n",
       "      <th>631295</th>\n",
       "      <td>2020-12-31 23:00:00</td>\n",
       "      <td>중랑구</td>\n",
       "      <td>1525.0</td>\n",
       "    </tr>\n",
       "  </tbody>\n",
       "</table>\n",
       "<p>631296 rows × 3 columns</p>\n",
       "</div>"
      ],
      "text/plain": [
       "                       date district  traffic\n",
       "0       2018-01-01 00:00:00      강남구   2808.9\n",
       "1       2018-01-01 01:00:00      강남구   2697.4\n",
       "2       2018-01-01 02:00:00      강남구   1640.2\n",
       "3       2018-01-01 03:00:00      강남구   1235.2\n",
       "4       2018-01-01 04:00:00      강남구   1097.8\n",
       "...                     ...      ...      ...\n",
       "631291  2020-12-31 19:00:00      중랑구   4558.5\n",
       "631292  2020-12-31 20:00:00      중랑구   4067.5\n",
       "631293  2020-12-31 21:00:00      중랑구   3884.5\n",
       "631294  2020-12-31 22:00:00      중랑구   2614.5\n",
       "631295  2020-12-31 23:00:00      중랑구   1525.0\n",
       "\n",
       "[631296 rows x 3 columns]"
      ]
     },
     "execution_count": 149,
     "metadata": {},
     "output_type": "execute_result"
    }
   ],
   "source": [
    "df"
   ]
  },
  {
   "cell_type": "markdown",
   "id": "adbe2b77-e938-4fc2-9445-42382e4041ab",
   "metadata": {},
   "source": [
    "# Merge all data"
   ]
  },
  {
   "cell_type": "code",
   "execution_count": null,
   "id": "820dfa97-3fef-43c3-b2fa-f8204300360c",
   "metadata": {},
   "outputs": [],
   "source": [
    "df_airq = pd.read_csv(data_path / \"airq_filled_by_gu_2018-2020.tsv\", encoding=\"utf-8\", sep=\"\\t\")\n",
    "df_airq = df_airq.loc[(df_airq.district != \"강북구\")]\n",
    "df_weather = pd.read_csv(data_path / \"weather_filled_2018-2020.tsv\", encoding=\"utf-8\", sep=\"\\t\")\n",
    "\n",
    "df_airq_baek = pd.read_csv(data_path / \"airq_baek_filled_2018-2020.tsv\", encoding=\"utf-8\", sep=\"\\t\")\n",
    "df_airq_baek = df_airq_baek.loc[:, ['measurename', 'date', 'SO2', 'CO', 'O3', 'NO2', 'PM10', 'PM25', 'PM10_AQI', 'PM25_AQI']].rename(columns={\"measurename\": \"district\"})\n",
    "df_weather_baek = pd.read_csv(data_path / \"weather_baek_filled_2018-2020.tsv\", encoding=\"utf-8\", sep=\"\\t\")\n",
    "\n",
    "df_traffic = pd.read_csv(data_path / \"traffic_filled_by_gu_2018-2020.tsv\", encoding=\"utf-8\", sep=\"\\t\")\n",
    "\n",
    "df_airq[\"date\"] = pd.to_datetime(df_airq[\"date\"])\n",
    "df_weather[\"date\"] = pd.to_datetime(df_weather[\"date\"])\n",
    "\n",
    "df_airq_baek[\"date\"] = pd.to_datetime(df_airq_baek[\"date\"])\n",
    "df_weather_baek[\"date\"] = pd.to_datetime(df_weather_baek[\"date\"])\n",
    "df_traffic[\"date\"] = pd.to_datetime(df_traffic[\"date\"])\n",
    "\n",
    "df_airq.merge(df_weather, on=\"date\").to_csv(data_path / \"df_seoul.tsv\", encoding=\"utf-8\", sep=\"\\t\", index=False)\n",
    "df_airq_baek.merge(df_weather_baek, on=\"date\").to_csv(data_path / \"df_baek.tsv\", encoding=\"utf-8\", sep=\"\\t\", index=False)"
   ]
  },
  {
   "cell_type": "code",
   "execution_count": 50,
   "id": "83737707-f841-4681-b1e3-d8f04c221bb6",
   "metadata": {},
   "outputs": [],
   "source": [
    "df_seoul = pd.read_csv(data_path / \"df_seoul.tsv\", encoding=\"utf-8\", sep=\"\\t\")\n",
    "df_baek = pd.read_csv(data_path / \"df_baek.tsv\", encoding=\"utf-8\", sep=\"\\t\")\n",
    "df_traffic = pd.read_csv(data_path / \"traffic_filled_by_gu_2018-2020.tsv\", encoding=\"utf-8\", sep=\"\\t\")\n",
    "\n",
    "df_seoul[\"date\"] = pd.to_datetime(df_seoul[\"date\"])\n",
    "df_baek[\"date\"] = pd.to_datetime(df_baek[\"date\"])\n",
    "df_traffic[\"date\"] = pd.to_datetime(df_traffic[\"date\"])"
   ]
  },
  {
   "cell_type": "code",
   "execution_count": 51,
   "id": "3e69bb54-af09-4f82-a99f-ccf000540d6e",
   "metadata": {},
   "outputs": [
    {
     "data": {
      "text/plain": [
       "district                     0\n",
       "date                         0\n",
       "SO2                          0\n",
       "CO                           0\n",
       "O3                           0\n",
       "NO2                          0\n",
       "PM10                         0\n",
       "PM25                         0\n",
       "PM10_AQI                     0\n",
       "PM25_AQI                     0\n",
       "temperature                 48\n",
       "precipitation                0\n",
       "windSpeed                  216\n",
       "windDirection              216\n",
       "humidity                     0\n",
       "spotAtmosphericPressure    312\n",
       "groundTemperature          432\n",
       "dtype: int64"
      ]
     },
     "execution_count": 51,
     "metadata": {},
     "output_type": "execute_result"
    }
   ],
   "source": [
    "df_seoul.isnull().sum()"
   ]
  },
  {
   "cell_type": "code",
   "execution_count": 63,
   "id": "2b2ca097-c379-4887-a469-38078526b5be",
   "metadata": {},
   "outputs": [],
   "source": [
    "df = pd.read_csv(data_path / f\"weather_baek_filled_2018-2020.tsv\", encoding=\"utf-8\", sep=\"\\t\")\n",
    "df[\"date\"] = pd.to_datetime(df[\"date\"], format=\"%Y-%m-%d %H\")"
   ]
  },
  {
   "cell_type": "code",
   "execution_count": 66,
   "id": "69bd5a52-1817-47b8-b368-fa39c1f3dde6",
   "metadata": {},
   "outputs": [
    {
     "data": {
      "text/plain": [
       "date                       0\n",
       "temperature                0\n",
       "precipitation              0\n",
       "windSpeed                  0\n",
       "windDirection              0\n",
       "humidity                   0\n",
       "spotAtmosphericPressure    0\n",
       "groundTemperature          0\n",
       "dtype: int64"
      ]
     },
     "execution_count": 66,
     "metadata": {},
     "output_type": "execute_result"
    }
   ],
   "source": [
    "df.isnull().sum()"
   ]
  },
  {
   "cell_type": "code",
   "execution_count": 62,
   "id": "f3e20944-a04e-40ea-8733-43d9f735a023",
   "metadata": {},
   "outputs": [],
   "source": [
    "df_m = df_seoul.drop(columns=['temperature', 'precipitation', 'windSpeed','windDirection', 'humidity', 'spotAtmosphericPressure','groundTemperature']).merge(df, on=[\"date\"])\n",
    "df_m.to_csv(data_path / \"df_seoul.tsv\", encoding=\"utf-8\", sep=\"\\t\", index=False)"
   ]
  },
  {
   "cell_type": "code",
   "execution_count": 67,
   "id": "2b496198-922b-48ad-8c96-32a0a9e79d50",
   "metadata": {},
   "outputs": [],
   "source": [
    "df_m = df_baek.drop(columns=['temperature', 'precipitation', 'windSpeed','windDirection', 'humidity', 'spotAtmosphericPressure','groundTemperature']).merge(df, on=[\"date\"])\n",
    "df_m.to_csv(data_path / \"df_baek.tsv\", encoding=\"utf-8\", sep=\"\\t\", index=False)"
   ]
  },
  {
   "cell_type": "code",
   "execution_count": null,
   "id": "c45e3715-9a36-49c8-9d63-156c23453c81",
   "metadata": {},
   "outputs": [],
   "source": []
  },
  {
   "cell_type": "code",
   "execution_count": 72,
   "id": "317e2a72-1880-4899-91a3-bc197db5b368",
   "metadata": {},
   "outputs": [],
   "source": [
    "df_baek = pd.read_csv(data_path / \"df_baek.tsv\", encoding=\"utf-8\", sep=\"\\t\")\n",
    "df_baek[\"date\"] = pd.to_datetime(df_baek[\"date\"])\n",
    "df_airq_baek = pd.read_csv(data_path / \"airq_baek_filled_2018-2020.tsv\", encoding=\"utf-8\", sep=\"\\t\")\n",
    "df_airq_baek[\"date\"] = pd.to_datetime(df_airq_baek[\"date\"])\n",
    "df_airq_baek = df_airq_baek.loc[:, ['measurename', 'date', 'SO2', 'CO', 'O3', 'NO2', 'PM10', 'PM25', 'PM10_AQI', 'PM25_AQI']].rename(columns={\"measurename\": \"district\"})\n"
   ]
  },
  {
   "cell_type": "code",
   "execution_count": 76,
   "id": "71bccadf-a198-4eb2-a9a4-27d447b37ca6",
   "metadata": {},
   "outputs": [
    {
     "data": {
      "text/html": [
       "<div>\n",
       "<style scoped>\n",
       "    .dataframe tbody tr th:only-of-type {\n",
       "        vertical-align: middle;\n",
       "    }\n",
       "\n",
       "    .dataframe tbody tr th {\n",
       "        vertical-align: top;\n",
       "    }\n",
       "\n",
       "    .dataframe thead th {\n",
       "        text-align: right;\n",
       "    }\n",
       "</style>\n",
       "<table border=\"1\" class=\"dataframe\">\n",
       "  <thead>\n",
       "    <tr style=\"text-align: right;\">\n",
       "      <th></th>\n",
       "      <th>district</th>\n",
       "      <th>date</th>\n",
       "      <th>SO2</th>\n",
       "      <th>CO</th>\n",
       "      <th>O3</th>\n",
       "      <th>NO2</th>\n",
       "      <th>PM10</th>\n",
       "      <th>PM25</th>\n",
       "      <th>PM10_AQI</th>\n",
       "      <th>PM25_AQI</th>\n",
       "      <th>temperature</th>\n",
       "      <th>precipitation</th>\n",
       "      <th>windSpeed</th>\n",
       "      <th>windDirection</th>\n",
       "      <th>humidity</th>\n",
       "      <th>spotAtmosphericPressure</th>\n",
       "      <th>groundTemperature</th>\n",
       "    </tr>\n",
       "  </thead>\n",
       "  <tbody>\n",
       "    <tr>\n",
       "      <th>0</th>\n",
       "      <td>백령도</td>\n",
       "      <td>2018-01-01 00:00:00</td>\n",
       "      <td>0.0026</td>\n",
       "      <td>0.6</td>\n",
       "      <td>0.030</td>\n",
       "      <td>0.0026</td>\n",
       "      <td>40.0</td>\n",
       "      <td>15.0</td>\n",
       "      <td>37.037037</td>\n",
       "      <td>57.098712</td>\n",
       "      <td>-3.2</td>\n",
       "      <td>0.0</td>\n",
       "      <td>0.5</td>\n",
       "      <td>110.0</td>\n",
       "      <td>40.0</td>\n",
       "      <td>1015.4</td>\n",
       "      <td>-2.2</td>\n",
       "    </tr>\n",
       "    <tr>\n",
       "      <th>1</th>\n",
       "      <td>백령도</td>\n",
       "      <td>2018-01-01 01:00:00</td>\n",
       "      <td>0.0024</td>\n",
       "      <td>0.6</td>\n",
       "      <td>0.030</td>\n",
       "      <td>0.0021</td>\n",
       "      <td>23.0</td>\n",
       "      <td>16.0</td>\n",
       "      <td>21.296296</td>\n",
       "      <td>59.201717</td>\n",
       "      <td>-3.3</td>\n",
       "      <td>0.0</td>\n",
       "      <td>0.7</td>\n",
       "      <td>360.0</td>\n",
       "      <td>41.0</td>\n",
       "      <td>1015.1</td>\n",
       "      <td>-2.7</td>\n",
       "    </tr>\n",
       "    <tr>\n",
       "      <th>2</th>\n",
       "      <td>백령도</td>\n",
       "      <td>2018-01-01 02:00:00</td>\n",
       "      <td>0.0031</td>\n",
       "      <td>0.7</td>\n",
       "      <td>0.028</td>\n",
       "      <td>0.0038</td>\n",
       "      <td>23.0</td>\n",
       "      <td>10.0</td>\n",
       "      <td>21.296296</td>\n",
       "      <td>41.666667</td>\n",
       "      <td>-3.7</td>\n",
       "      <td>0.0</td>\n",
       "      <td>0.9</td>\n",
       "      <td>270.0</td>\n",
       "      <td>42.0</td>\n",
       "      <td>1015.2</td>\n",
       "      <td>-3.0</td>\n",
       "    </tr>\n",
       "    <tr>\n",
       "      <th>3</th>\n",
       "      <td>백령도</td>\n",
       "      <td>2018-01-01 03:00:00</td>\n",
       "      <td>0.0038</td>\n",
       "      <td>0.8</td>\n",
       "      <td>0.025</td>\n",
       "      <td>0.0061</td>\n",
       "      <td>32.0</td>\n",
       "      <td>11.0</td>\n",
       "      <td>29.629630</td>\n",
       "      <td>45.833333</td>\n",
       "      <td>-4.0</td>\n",
       "      <td>0.0</td>\n",
       "      <td>1.0</td>\n",
       "      <td>290.0</td>\n",
       "      <td>44.0</td>\n",
       "      <td>1015.5</td>\n",
       "      <td>-3.5</td>\n",
       "    </tr>\n",
       "    <tr>\n",
       "      <th>4</th>\n",
       "      <td>백령도</td>\n",
       "      <td>2018-01-01 04:00:00</td>\n",
       "      <td>0.0034</td>\n",
       "      <td>0.8</td>\n",
       "      <td>0.025</td>\n",
       "      <td>0.0055</td>\n",
       "      <td>47.0</td>\n",
       "      <td>21.0</td>\n",
       "      <td>43.518519</td>\n",
       "      <td>69.716738</td>\n",
       "      <td>-4.2</td>\n",
       "      <td>0.0</td>\n",
       "      <td>1.1</td>\n",
       "      <td>290.0</td>\n",
       "      <td>53.0</td>\n",
       "      <td>1015.5</td>\n",
       "      <td>-3.8</td>\n",
       "    </tr>\n",
       "    <tr>\n",
       "      <th>...</th>\n",
       "      <td>...</td>\n",
       "      <td>...</td>\n",
       "      <td>...</td>\n",
       "      <td>...</td>\n",
       "      <td>...</td>\n",
       "      <td>...</td>\n",
       "      <td>...</td>\n",
       "      <td>...</td>\n",
       "      <td>...</td>\n",
       "      <td>...</td>\n",
       "      <td>...</td>\n",
       "      <td>...</td>\n",
       "      <td>...</td>\n",
       "      <td>...</td>\n",
       "      <td>...</td>\n",
       "      <td>...</td>\n",
       "      <td>...</td>\n",
       "    </tr>\n",
       "    <tr>\n",
       "      <th>26299</th>\n",
       "      <td>백령도</td>\n",
       "      <td>2020-12-31 19:00:00</td>\n",
       "      <td>0.0018</td>\n",
       "      <td>0.4</td>\n",
       "      <td>0.040</td>\n",
       "      <td>0.0032</td>\n",
       "      <td>16.0</td>\n",
       "      <td>8.0</td>\n",
       "      <td>14.814815</td>\n",
       "      <td>33.333333</td>\n",
       "      <td>-7.1</td>\n",
       "      <td>0.0</td>\n",
       "      <td>2.4</td>\n",
       "      <td>250.0</td>\n",
       "      <td>58.0</td>\n",
       "      <td>1014.2</td>\n",
       "      <td>-4.3</td>\n",
       "    </tr>\n",
       "    <tr>\n",
       "      <th>26300</th>\n",
       "      <td>백령도</td>\n",
       "      <td>2020-12-31 20:00:00</td>\n",
       "      <td>0.0017</td>\n",
       "      <td>0.4</td>\n",
       "      <td>0.040</td>\n",
       "      <td>0.0028</td>\n",
       "      <td>21.0</td>\n",
       "      <td>10.0</td>\n",
       "      <td>19.444444</td>\n",
       "      <td>41.666667</td>\n",
       "      <td>-7.1</td>\n",
       "      <td>0.0</td>\n",
       "      <td>3.2</td>\n",
       "      <td>250.0</td>\n",
       "      <td>59.0</td>\n",
       "      <td>1014.8</td>\n",
       "      <td>-5.2</td>\n",
       "    </tr>\n",
       "    <tr>\n",
       "      <th>26301</th>\n",
       "      <td>백령도</td>\n",
       "      <td>2020-12-31 21:00:00</td>\n",
       "      <td>0.0013</td>\n",
       "      <td>0.4</td>\n",
       "      <td>0.040</td>\n",
       "      <td>0.0024</td>\n",
       "      <td>20.0</td>\n",
       "      <td>9.0</td>\n",
       "      <td>18.518519</td>\n",
       "      <td>37.500000</td>\n",
       "      <td>-7.2</td>\n",
       "      <td>0.0</td>\n",
       "      <td>2.7</td>\n",
       "      <td>250.0</td>\n",
       "      <td>61.0</td>\n",
       "      <td>1015.3</td>\n",
       "      <td>-5.7</td>\n",
       "    </tr>\n",
       "    <tr>\n",
       "      <th>26302</th>\n",
       "      <td>백령도</td>\n",
       "      <td>2020-12-31 22:00:00</td>\n",
       "      <td>0.0015</td>\n",
       "      <td>0.4</td>\n",
       "      <td>0.041</td>\n",
       "      <td>0.0022</td>\n",
       "      <td>16.0</td>\n",
       "      <td>10.0</td>\n",
       "      <td>14.814815</td>\n",
       "      <td>41.666667</td>\n",
       "      <td>-7.4</td>\n",
       "      <td>0.0</td>\n",
       "      <td>2.5</td>\n",
       "      <td>270.0</td>\n",
       "      <td>66.0</td>\n",
       "      <td>1016.0</td>\n",
       "      <td>-6.1</td>\n",
       "    </tr>\n",
       "    <tr>\n",
       "      <th>26303</th>\n",
       "      <td>백령도</td>\n",
       "      <td>2020-12-31 23:00:00</td>\n",
       "      <td>0.0011</td>\n",
       "      <td>0.4</td>\n",
       "      <td>0.041</td>\n",
       "      <td>0.0020</td>\n",
       "      <td>10.0</td>\n",
       "      <td>9.0</td>\n",
       "      <td>9.259259</td>\n",
       "      <td>37.500000</td>\n",
       "      <td>-7.6</td>\n",
       "      <td>0.0</td>\n",
       "      <td>2.2</td>\n",
       "      <td>290.0</td>\n",
       "      <td>65.0</td>\n",
       "      <td>1016.3</td>\n",
       "      <td>-6.5</td>\n",
       "    </tr>\n",
       "  </tbody>\n",
       "</table>\n",
       "<p>26304 rows × 17 columns</p>\n",
       "</div>"
      ],
      "text/plain": [
       "      district                date     SO2   CO     O3     NO2  PM10  PM25  \\\n",
       "0          백령도 2018-01-01 00:00:00  0.0026  0.6  0.030  0.0026  40.0  15.0   \n",
       "1          백령도 2018-01-01 01:00:00  0.0024  0.6  0.030  0.0021  23.0  16.0   \n",
       "2          백령도 2018-01-01 02:00:00  0.0031  0.7  0.028  0.0038  23.0  10.0   \n",
       "3          백령도 2018-01-01 03:00:00  0.0038  0.8  0.025  0.0061  32.0  11.0   \n",
       "4          백령도 2018-01-01 04:00:00  0.0034  0.8  0.025  0.0055  47.0  21.0   \n",
       "...        ...                 ...     ...  ...    ...     ...   ...   ...   \n",
       "26299      백령도 2020-12-31 19:00:00  0.0018  0.4  0.040  0.0032  16.0   8.0   \n",
       "26300      백령도 2020-12-31 20:00:00  0.0017  0.4  0.040  0.0028  21.0  10.0   \n",
       "26301      백령도 2020-12-31 21:00:00  0.0013  0.4  0.040  0.0024  20.0   9.0   \n",
       "26302      백령도 2020-12-31 22:00:00  0.0015  0.4  0.041  0.0022  16.0  10.0   \n",
       "26303      백령도 2020-12-31 23:00:00  0.0011  0.4  0.041  0.0020  10.0   9.0   \n",
       "\n",
       "        PM10_AQI   PM25_AQI  temperature  precipitation  windSpeed  \\\n",
       "0      37.037037  57.098712         -3.2            0.0        0.5   \n",
       "1      21.296296  59.201717         -3.3            0.0        0.7   \n",
       "2      21.296296  41.666667         -3.7            0.0        0.9   \n",
       "3      29.629630  45.833333         -4.0            0.0        1.0   \n",
       "4      43.518519  69.716738         -4.2            0.0        1.1   \n",
       "...          ...        ...          ...            ...        ...   \n",
       "26299  14.814815  33.333333         -7.1            0.0        2.4   \n",
       "26300  19.444444  41.666667         -7.1            0.0        3.2   \n",
       "26301  18.518519  37.500000         -7.2            0.0        2.7   \n",
       "26302  14.814815  41.666667         -7.4            0.0        2.5   \n",
       "26303   9.259259  37.500000         -7.6            0.0        2.2   \n",
       "\n",
       "       windDirection  humidity  spotAtmosphericPressure  groundTemperature  \n",
       "0              110.0      40.0                   1015.4               -2.2  \n",
       "1              360.0      41.0                   1015.1               -2.7  \n",
       "2              270.0      42.0                   1015.2               -3.0  \n",
       "3              290.0      44.0                   1015.5               -3.5  \n",
       "4              290.0      53.0                   1015.5               -3.8  \n",
       "...              ...       ...                      ...                ...  \n",
       "26299          250.0      58.0                   1014.2               -4.3  \n",
       "26300          250.0      59.0                   1014.8               -5.2  \n",
       "26301          250.0      61.0                   1015.3               -5.7  \n",
       "26302          270.0      66.0                   1016.0               -6.1  \n",
       "26303          290.0      65.0                   1016.3               -6.5  \n",
       "\n",
       "[26304 rows x 17 columns]"
      ]
     },
     "execution_count": 76,
     "metadata": {},
     "output_type": "execute_result"
    }
   ],
   "source": [
    "df_baek"
   ]
  },
  {
   "cell_type": "code",
   "execution_count": 75,
   "id": "cef88efa-98bd-4463-81de-08c94b3a00e7",
   "metadata": {},
   "outputs": [
    {
     "data": {
      "text/plain": [
       "Index(['district', 'date', 'SO2', 'CO', 'O3', 'NO2', 'PM10', 'PM25',\n",
       "       'PM10_AQI', 'PM25_AQI', 'temperature', 'precipitation', 'windSpeed',\n",
       "       'windDirection', 'humidity', 'spotAtmosphericPressure',\n",
       "       'groundTemperature'],\n",
       "      dtype='object')"
      ]
     },
     "execution_count": 75,
     "metadata": {},
     "output_type": "execute_result"
    }
   ],
   "source": [
    "df_baek.columns"
   ]
  },
  {
   "cell_type": "code",
   "execution_count": 81,
   "id": "6714eb7f-3f66-49a3-9c77-eead9555b412",
   "metadata": {},
   "outputs": [],
   "source": [
    "df_m = df_baek.drop(columns=['SO2', 'CO', 'O3', 'NO2', 'PM10', 'PM25', 'PM10_AQI', 'PM25_AQI']).merge(df_airq_baek, on=['district', 'date'])\n",
    "df_m.loc[:, ['district', 'date', 'SO2', 'CO', 'O3', 'NO2', 'PM10', 'PM25',\n",
    "       'PM10_AQI', 'PM25_AQI', 'temperature', 'precipitation', 'windSpeed',\n",
    "       'windDirection', 'humidity', 'spotAtmosphericPressure',\n",
    "       'groundTemperature']].to_csv(data_path / \"df_baek.tsv\", encoding=\"utf-8\", sep=\"\\t\", index=False)"
   ]
  },
  {
   "cell_type": "code",
   "execution_count": 80,
   "id": "174af59c-1467-454c-b0a8-0ddc8eacf946",
   "metadata": {},
   "outputs": [
    {
     "data": {
      "text/plain": [
       "district                   0\n",
       "date                       0\n",
       "temperature                0\n",
       "precipitation              0\n",
       "windSpeed                  0\n",
       "windDirection              0\n",
       "humidity                   0\n",
       "spotAtmosphericPressure    0\n",
       "groundTemperature          0\n",
       "SO2                        0\n",
       "CO                         0\n",
       "O3                         0\n",
       "NO2                        0\n",
       "PM10                       0\n",
       "PM25                       0\n",
       "PM10_AQI                   0\n",
       "PM25_AQI                   0\n",
       "dtype: int64"
      ]
     },
     "execution_count": 80,
     "metadata": {},
     "output_type": "execute_result"
    }
   ],
   "source": [
    "df_m.isnull().sum()"
   ]
  },
  {
   "cell_type": "code",
   "execution_count": 82,
   "id": "880efe9e-35fc-4330-a376-8f3b8f193720",
   "metadata": {},
   "outputs": [],
   "source": [
    "df_seoul = pd.read_csv(data_path / \"df_seoul.tsv\", encoding=\"utf-8\", sep=\"\\t\")\n",
    "df_baek = pd.read_csv(data_path / \"df_baek.tsv\", encoding=\"utf-8\", sep=\"\\t\")\n",
    "df_traffic = pd.read_csv(data_path / \"traffic_filled_by_gu_2018-2020.tsv\", encoding=\"utf-8\", sep=\"\\t\")\n",
    "\n",
    "df_seoul[\"date\"] = pd.to_datetime(df_seoul[\"date\"])\n",
    "df_baek[\"date\"] = pd.to_datetime(df_baek[\"date\"])\n",
    "df_traffic[\"date\"] = pd.to_datetime(df_traffic[\"date\"])\n",
    "\n",
    "df_seoul = df_seoul.merge(df_traffic, on=[\"date\", \"district\"])"
   ]
  },
  {
   "cell_type": "code",
   "execution_count": 86,
   "id": "e4da97cc-4eaf-40eb-83ec-e3569d0fa608",
   "metadata": {},
   "outputs": [
    {
     "data": {
      "text/plain": [
       "(631296, 18)"
      ]
     },
     "execution_count": 86,
     "metadata": {},
     "output_type": "execute_result"
    }
   ],
   "source": [
    "df_seoul.shape"
   ]
  },
  {
   "cell_type": "code",
   "execution_count": null,
   "id": "74dfd957-5060-49c4-8b5a-bfe446238516",
   "metadata": {},
   "outputs": [],
   "source": []
  }
 ],
 "metadata": {
  "kernelspec": {
   "display_name": "Python 3",
   "language": "python",
   "name": "python3"
  },
  "language_info": {
   "codemirror_mode": {
    "name": "ipython",
    "version": 3
   },
   "file_extension": ".py",
   "mimetype": "text/x-python",
   "name": "python",
   "nbconvert_exporter": "python",
   "pygments_lexer": "ipython3",
   "version": "3.8.12"
  }
 },
 "nbformat": 4,
 "nbformat_minor": 5
}
