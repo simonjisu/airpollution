{
 "cells": [
  {
   "cell_type": "markdown",
   "metadata": {},
   "source": [
    "# Exploratory Data Analysis"
   ]
  },
  {
   "cell_type": "code",
   "execution_count": 4,
   "metadata": {},
   "outputs": [],
   "source": [
    "import sqlite3\n",
    "import pandas as pd\n",
    "from pathlib import Path\n",
    "\n",
    "from tqdm.notebook import tqdm\n",
    "from typing import Union\n",
    "\n",
    "proj_path = Path().absolute().parent\n",
    "data_path = proj_path / 'data' "
   ]
  },
  {
   "cell_type": "markdown",
   "metadata": {},
   "source": [
    "# SQLite3 Database\n",
    "\n",
    "```\n",
    "airmeasure\n",
    "-------------------------------------\n",
    "sid           INTEGER PRIMARY KEY\n",
    "measure_code  INTEGER NOT NULL UNIQUE\n",
    "district      TEXT \n",
    "measure_name  TEXT\n",
    "address       TEXT\n",
    "measure_point TEXT\n",
    "```\n",
    "\n",
    "```\n",
    "airquality\n",
    "-------------------------------------\n",
    "airid         INTEGER PRIMARY KEY\n",
    "measure_code  INTEGER\n",
    "datetime      TEXT\n",
    "SO2           REAL\n",
    "CO            REAL\n",
    "O3            REAL\n",
    "NO2           REAL\n",
    "PM10          REAL\n",
    "PM25          REAL\n",
    "```\n",
    "\n",
    "```\n",
    "holiday\n",
    "-------------------------------------\n",
    "hid   INTEGER PRIMARY KEY\n",
    "date  TEXT\n",
    "day   TEXT\n",
    "name  TEXT\n",
    "type  TEXT\n",
    "```\n",
    "\n",
    "```\n",
    "weather\n",
    "-------------------------------------\n",
    "wid INTEGER PRIMARY KEY\n",
    "measure_code            INTEGER\n",
    "measure_name            TEXT\n",
    "datetime                TEXT\n",
    "temperature             REAL\n",
    "temperature_flag        REAL\n",
    "precipitation           REAL\n",
    "precipitation_flag      REAL\n",
    "wind_speed              REAL\n",
    "wind_speed_flag         REAL\n",
    "wind_direction          REAL\n",
    "wind_direction_flag     REAL\n",
    "humidity                REAL\n",
    "humidity_flag           REAL\n",
    "vapor_pressure          REAL\n",
    "dew_point_temperature   REAL\n",
    "local_pressure          REAL\n",
    "local_pressure_flag     REAL\n",
    "sea_level_pressure      REAL\n",
    "sea_level_pressure_flag REAL\n",
    "sunshine                REAL\n",
    "sunshine_flag           REAL\n",
    "solar_radiation         REAL\n",
    "solar_radiation_flag    REAL\n",
    "snow                    REAL\n",
    "snow_3hour              REAL\n",
    "cloud                   REAL\n",
    "mid_level_cloud         REAL\n",
    "cloud_type              TEXT\n",
    "lowest_cloud            REAL\n",
    "visibility              INTEGER\n",
    "ground_status_code      REAL\n",
    "weather_status_code     REAL\n",
    "ground_temperature      REAL\n",
    "ground_temperature_flag REAL\n",
    "5cm_soil_temperature    REAL\n",
    "10cm_soil_temperature   REAL\n",
    "20cm_soil_temperature   REAL\n",
    "30cm_soil_temperature   REAL\n",
    "```\n",
    "\n"
   ]
  },
  {
   "cell_type": "code",
   "execution_count": 14,
   "metadata": {},
   "outputs": [],
   "source": [
    "class DBEngine:\n",
    "    \"\"\"SQLite3 DB Engine Wrapper\"\"\"\n",
    "    def __init__(self, db_path: Union[str, Path]):\n",
    "        self.conn = sqlite3.connect(db_path)\n",
    "\n",
    "    def sql(self, query: str):\n",
    "        cur = self.conn.cursor()\n",
    "        res = cur.execute(query)\n",
    "        res = res.fetchall()\n",
    "        cur.close()\n",
    "        return res\n",
    "\n",
    "    def quit(self):\n",
    "        self.conn.close()\n",
    "\n",
    "db = DBEngine(db_path=data_path / \"airpollution.db\")"
   ]
  },
  {
   "cell_type": "markdown",
   "metadata": {},
   "source": [
    "# EDA\n",
    "\n",
    "## Airquality\n",
    "\n",
    "```\n",
    "airmeasure\n",
    "-------------------------------------\n",
    "sid           INTEGER PRIMARY KEY\n",
    "measure_code  INTEGER NOT NULL UNIQUE\n",
    "district      TEXT \n",
    "measure_name  TEXT\n",
    "address       TEXT\n",
    "measure_point TEXT\n",
    "```\n",
    "\n",
    "```\n",
    "airquality\n",
    "-------------------------------------\n",
    "airid         INTEGER PRIMARY KEY\n",
    "measure_code  INTEGER\n",
    "datetime      TEXT\n",
    "SO2           REAL\n",
    "CO            REAL\n",
    "O3            REAL\n",
    "NO2           REAL\n",
    "PM10          REAL\n",
    "PM25          REAL\n",
    "```"
   ]
  },
  {
   "cell_type": "code",
   "execution_count": 15,
   "metadata": {},
   "outputs": [
    {
     "name": "stdout",
     "output_type": "stream",
     "text": [
      "[]\n"
     ]
    }
   ],
   "source": [
    "# What is the date range?\n",
    "query = \"\"\"\n",
    "SELECT datetime\n",
    "FROM airquality\n",
    "LIMIT 5\n",
    "\"\"\"\n",
    "res = db.sql(query)\n",
    "print(res)"
   ]
  },
  {
   "cell_type": "code",
   "execution_count": 16,
   "metadata": {},
   "outputs": [
    {
     "data": {
      "text/plain": [
       "<sqlite3.Cursor at 0x1739782e880>"
      ]
     },
     "execution_count": 16,
     "metadata": {},
     "output_type": "execute_result"
    }
   ],
   "source": [
    "cur = db.conn.cursor()\n",
    "cur.execute(query)"
   ]
  },
  {
   "cell_type": "code",
   "execution_count": 17,
   "metadata": {},
   "outputs": [
    {
     "data": {
      "text/plain": [
       "[]"
      ]
     },
     "execution_count": 17,
     "metadata": {},
     "output_type": "execute_result"
    }
   ],
   "source": [
    "cur.fetchall()"
   ]
  },
  {
   "cell_type": "code",
   "execution_count": null,
   "metadata": {},
   "outputs": [],
   "source": [
    "query = \"\"\"\n",
    "\n",
    "\"\"\"\n",
    "db.sql()"
   ]
  }
 ],
 "metadata": {
  "interpreter": {
   "hash": "ab7f212329a491b497f27876271d03c022f2dd26760015eef69af619991238fd"
  },
  "kernelspec": {
   "display_name": "Python 3.8.12 ('venv')",
   "language": "python",
   "name": "python3"
  },
  "language_info": {
   "codemirror_mode": {
    "name": "ipython",
    "version": 3
   },
   "file_extension": ".py",
   "mimetype": "text/x-python",
   "name": "python",
   "nbconvert_exporter": "python",
   "pygments_lexer": "ipython3",
   "version": "3.8.12"
  },
  "orig_nbformat": 4
 },
 "nbformat": 4,
 "nbformat_minor": 2
}
