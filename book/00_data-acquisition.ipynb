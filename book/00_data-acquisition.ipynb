{
 "cells": [
  {
   "cell_type": "markdown",
   "metadata": {},
   "source": [
    "# Data Acquisition"
   ]
  },
  {
   "cell_type": "code",
   "execution_count": 1,
   "metadata": {},
   "outputs": [],
   "source": [
    "import sqlite3\n",
    "import pandas as pd\n",
    "from pathlib import Path\n",
    "\n",
    "from tqdm.notebook import tqdm\n",
    "\n",
    "proj_path = Path().absolute().parent\n",
    "data_path = proj_path / 'data' "
   ]
  },
  {
   "cell_type": "markdown",
   "metadata": {},
   "source": [
    "# SQLite3 Database"
   ]
  },
  {
   "cell_type": "code",
   "execution_count": 4,
   "metadata": {},
   "outputs": [],
   "source": [
    "conn = sqlite3.connect(data_path / \"airpollution.db\")"
   ]
  },
  {
   "cell_type": "markdown",
   "metadata": {},
   "source": [
    "# Airquality Data\n",
    "\n",
    "https://www.airkorea.or.kr/web/last_amb_hour_data?pMENU_NO=123"
   ]
  },
  {
   "cell_type": "code",
   "execution_count": 3,
   "metadata": {},
   "outputs": [],
   "source": [
    "def load_data(path:Path) -> pd.DataFrame:\n",
    "    \"\"\"Load data function\n",
    "\n",
    "    Args:\n",
    "        path (Path): path of data with file name\n",
    "        enc (str, optional): encoding. Defaults to 'utf-8'.\n",
    "    Returns:\n",
    "        pd.DataFrame \n",
    "    \"\"\"    \n",
    "    if path.name.split('.')[-1] == 'xlsx':\n",
    "        df = pd.read_excel(path)\n",
    "    else:\n",
    "        try:\n",
    "            df = pd.read_csv(path, encoding='cp949')\n",
    "        except UnicodeDecodeError:\n",
    "            df = pd.read_csv(path, encoding='utf-8')\n",
    "\n",
    "    return df\n",
    "\n",
    "def filter_seoul(df: pd.DataFrame) -> pd.DataFrame:\n",
    "    return df.loc[df['지역'].str.contains('서울'), :]"
   ]
  },
  {
   "cell_type": "code",
   "execution_count": 16,
   "metadata": {},
   "outputs": [
    {
     "data": {
      "application/vnd.jupyter.widget-view+json": {
       "model_id": "234a53b7529742468b161bf3cc6fcc61",
       "version_major": 2,
       "version_minor": 0
      },
      "text/plain": [
       "  0%|          | 0/4 [00:00<?, ?it/s]"
      ]
     },
     "metadata": {},
     "output_type": "display_data"
    }
   ],
   "source": [
    "datafiles = sorted([x for x in (data_path / 'airquality').glob(\"*\") if x.is_dir()])\n",
    "# concatnate all files\n",
    "parts = []\n",
    "for p_year in tqdm(datafiles, total=len(datafiles)):\n",
    "    new_path = data_path / 'airquality' / f'air-seoul-{p_year.name}.csv'\n",
    "    for p in p_year.glob('*'):\n",
    "        \n",
    "        df = load_data(p)\n",
    "        df = filter_seoul(df)\n",
    "        parts.append(df)\n",
    "    \n",
    "    df_all = pd.concat(parts).reset_index(drop=True)\n",
    "    if p_year.name == '2018':\n",
    "        # fillna for air-seoul-2018.csv\n",
    "        # '망' column contains null value due to policy changed\n",
    "        # create dictionary for measure point\n",
    "        m_dict = dict(df_all.loc[~df_all['망'].isna(), ['측정소코드', '망']].drop_duplicates().values)\n",
    "        df_all.loc[df_all['망'].isna(), '망'] = df_all.loc[df_all['망'].isna(), '망'].fillna(df_all['측정소코드'].map(m_dict)).values\n",
    "    \n",
    "    df_all.to_csv(new_path, encoding='utf-8', index=False)\n",
    "    parts = []"
   ]
  },
  {
   "cell_type": "code",
   "execution_count": 17,
   "metadata": {},
   "outputs": [
    {
     "name": "stdout",
     "output_type": "stream",
     "text": [
      "air-seoul-2018.csv: num-unique data: 80, measure_code: 40, district: 48, address: 48\n",
      "air-seoul-2019.csv: num-unique data: 40, measure_code: 40, district: 25, address: 25\n",
      "air-seoul-2020.csv: num-unique data: 40, measure_code: 40, district: 25, address: 25\n",
      "air-seoul-2021.csv: num-unique data: 40, measure_code: 40, district: 25, address: 25\n"
     ]
    }
   ],
   "source": [
    "# change column name and insert into database\n",
    "column_m_dict = {\n",
    "    '지역': 'district', \n",
    "    '측정소코드': 'measure_code', \n",
    "    '측정소명': 'measure_name', \n",
    "    '측정일시': 'datetime', \n",
    "    '주소': 'address',\n",
    "    '망': 'measure_point'\n",
    "}\n",
    "\n",
    "check_miss_match = {}\n",
    "for p in sorted((data_path / 'airquality').glob(\"*.csv\")):\n",
    "    df = pd.read_csv(p, encoding='utf-8').rename(columns=column_m_dict)\n",
    "    c = df.loc[:, ['district', 'measure_point', 'measure_code', 'measure_name', 'address']].drop_duplicates()\n",
    "    check_miss_match[int(p.name.rstrip('\\.csv').split('-')[-1])] = c\n",
    "    print(f\"{p.name}: num-unique data: {len(c)}, measure_code: {len(c['measure_code'].unique())}, district: {len(c['district'].unique())}, address: {len(c['district'].unique())}\")\n",
    "    # saved changed columns\n",
    "    df.to_csv(p, encoding='utf-8', index=False)"
   ]
  },
  {
   "cell_type": "code",
   "execution_count": 18,
   "metadata": {},
   "outputs": [],
   "source": [
    "# fix the district name and address by 2021 version of measurecode\n",
    "code2dist = dict(check_miss_match[2021].loc[:, ['measure_code', 'district']].values)\n",
    "code2add = dict(check_miss_match[2021].loc[:, ['measure_code', 'address']].values)\n",
    "df = pd.read_csv(data_path / 'airquality' / 'air-seoul-2018.csv', encoding='utf-8').rename(columns=column_m_dict)\n",
    "df['district'] = df['measure_code'].map(code2dist)\n",
    "df['address'] = df['measure_code'].map(code2add)\n",
    "df = df.set_index(['measure_code', 'district', 'measure_name', 'address', 'measure_point']).sort_values(['measure_code', 'datetime']).reset_index()\n",
    "\n",
    "# save \n",
    "df.to_csv(data_path / 'airquality' / 'air-seoul-2018.csv', encoding='utf-8', index=False)"
   ]
  },
  {
   "cell_type": "code",
   "execution_count": 5,
   "metadata": {},
   "outputs": [
    {
     "data": {
      "application/vnd.jupyter.widget-view+json": {
       "model_id": "bdeb06318a534d84bb1fb662a2816fd2",
       "version_major": 2,
       "version_minor": 0
      },
      "text/plain": [
       "  0%|          | 0/4 [00:00<?, ?it/s]"
      ]
     },
     "metadata": {},
     "output_type": "display_data"
    }
   ],
   "source": [
    "cur = conn.cursor()\n",
    "cur.execute(\n",
    "    \"\"\"\n",
    "    CREATE TABLE IF NOT EXISTS airmeasure (\n",
    "        sid INTEGER PRIMARY KEY,\n",
    "        measure_code INTEGER NOT NULL UNIQUE,\n",
    "        district TEXT, \n",
    "        measure_name TEXT, \n",
    "        address TEXT, \n",
    "        measure_point TEXT\n",
    "    );\n",
    "    \"\"\"\n",
    ")\n",
    "cur.execute(\n",
    "    \"\"\"\n",
    "    CREATE TABLE IF NOT EXISTS airquality (\n",
    "        airid INTEGER PRIMARY KEY,\n",
    "        measure_code INTEGER, \n",
    "        datetime TEXT, \n",
    "        SO2 REAL, \n",
    "        CO REAL, \n",
    "        O3 REAL,\n",
    "        NO2 REAL, \n",
    "        PM10 REAL, \n",
    "        PM25 REAL, \n",
    "        FOREIGN KEY (measure_code)\n",
    "            REFERENCES airmeasure (measure_code)\n",
    "            ON DELETE CASCADE \n",
    "            ON UPDATE NO ACTION\n",
    "    );\n",
    "    \"\"\"\n",
    ")\n",
    "\n",
    "airmeasure_columns = ['measure_code', 'district', 'measure_name', 'address', 'measure_point']\n",
    "airquality_columns = ['measure_code', 'datetime', 'SO2', 'CO', 'O3', 'NO2', 'PM10', 'PM25']\n",
    "df_airmeasure = None\n",
    "\n",
    "sql_airmeasure = \"\"\"\n",
    "INSERT INTO airmeasure (sid, measure_code, district, measure_name, address, measure_point)\n",
    "VALUES (?, ?, ?, ?, ?, ?);\n",
    "\"\"\"\n",
    "sql_airquality = \"\"\"\n",
    "INSERT INTO airquality (airid, measure_code, datetime, SO2, CO, O3, NO2, PM10, PM25) \n",
    "VALUES (?, ?, ?, ?, ?, ?, ?, ?, ?);\n",
    "\"\"\"\n",
    "idx = 0\n",
    "for p in tqdm(sorted((data_path / 'airquality').glob(\"*.csv\")), total=4):\n",
    "    df = pd.read_csv(p, encoding='utf-8')\n",
    "    df = df.set_index(['measure_code', 'district', 'measure_name', 'address', 'measure_point']).sort_values(['measure_code', 'datetime']).reset_index()\n",
    "\n",
    "    if df_airmeasure is None:\n",
    "        df_airmeasure = df.loc[:, airmeasure_columns].drop_duplicates().reset_index(drop=True)\n",
    "        # insert query\n",
    "        for i, x in df_airmeasure.iterrows():\n",
    "            cur.execute(sql_airmeasure, [i+1] + [x[c] for c in airmeasure_columns])\n",
    "    else:\n",
    "        df_temp = df.loc[:, airmeasure_columns].drop_duplicates().reset_index(drop=True)\n",
    "        if (df_temp != df_airmeasure).sum().sum():\n",
    "            raise ValueError(\"not equal table\")\n",
    "    for m in df_airmeasure['measure_code'].values:\n",
    "        df_airquality = df.loc[df['measure_code'] == m, airquality_columns]\n",
    "        df_airquality['datetime'] = pd.to_datetime(df_airquality['datetime']-1, format='%Y%m%d%H').dt.strftime('%Y-%m-%d %H:%M:%S')\n",
    "        \n",
    "        # insert row\n",
    "        for i, x in df_airquality.iterrows():\n",
    "            idx += 1\n",
    "            cur.execute(sql_airquality, [idx] + [x[c] for c in airquality_columns])\n",
    "\n",
    "cur.close()\n",
    "conn.commit()"
   ]
  },
  {
   "cell_type": "markdown",
   "metadata": {},
   "source": [
    "# Holiday Data"
   ]
  },
  {
   "cell_type": "code",
   "execution_count": 6,
   "metadata": {},
   "outputs": [],
   "source": [
    "from argparse import ArgumentParser\n",
    "from bs4 import BeautifulSoup as Soup\n",
    "import requests\n",
    "from datetime import datetime as dt\n",
    "\n",
    "parser = ArgumentParser()\n",
    "parser.add_argument(\"-i\", \"--interval\", default=1, type=int)\n",
    "parser.add_argument(\"-s\", \"--start\", default=2018, type=int)\n",
    "parser.add_argument(\"-e\", \"--end\", default=2021, type=int)\n",
    "parser.add_argument(\"-c\", \"--country\", default=\"south-korea\")\n",
    "args = parser.parse_known_args()[0]"
   ]
  },
  {
   "cell_type": "code",
   "execution_count": 7,
   "metadata": {},
   "outputs": [],
   "source": [
    "def get_holiday_data(html):\n",
    "    tables = html.find('table', attrs={\"id\": \"holidays-table\"}).find(\"tbody\")\n",
    "    rows = tables.find_all('tr')\n",
    "\n",
    "    data = [(\"date\", \"day\", \"name\", \"type\")]\n",
    "    for r in rows:\n",
    "        tags = r.find_all(\"td\")\n",
    "        if len(tags) == 0:\n",
    "            continue\n",
    "        date = r.attrs[\"data-date\"]\n",
    "        date = dt.fromtimestamp(int(int(date) / 1e3))\n",
    "        new_row = [f\"{date.year:04d}-{date.month:02d}-{date.day:02d}\"] + [x.text.strip() for x in tags]\n",
    "        data.append(new_row)\n",
    "    return data\n",
    "\n",
    "def craw_data(year, country=\"south-korea\"):\n",
    "    url = f\"https://www.timeanddate.com/holidays/{country}/{year}\"\n",
    "    r = requests.get(url)\n",
    "    html = Soup(r.text, \"html5lib\")\n",
    "    return html"
   ]
  },
  {
   "cell_type": "code",
   "execution_count": 8,
   "metadata": {},
   "outputs": [],
   "source": [
    "all_data = []\n",
    "for y in range(args.start, args.end+1):\n",
    "    html = craw_data(y, args.country)\n",
    "    data = get_holiday_data(html)\n",
    "    all_data.append(pd.DataFrame(data[1:], columns=data[0]))\n",
    "    \n",
    "df_holiday = pd.concat(all_data)\n",
    "\n",
    "df_holiday = df_holiday.reset_index(drop=True)\n",
    "df_holiday.to_csv(data_path / f\"holiday_{args.start}-{args.end}.tsv\", sep=\"\\t\", index=False)"
   ]
  },
  {
   "cell_type": "code",
   "execution_count": 9,
   "metadata": {},
   "outputs": [
    {
     "data": {
      "application/vnd.jupyter.widget-view+json": {
       "model_id": "c10bf6977a39438baa10af0dd96cf28f",
       "version_major": 2,
       "version_minor": 0
      },
      "text/plain": [
       "  0%|          | 0/129 [00:00<?, ?it/s]"
      ]
     },
     "metadata": {},
     "output_type": "display_data"
    }
   ],
   "source": [
    "cur = conn.cursor()\n",
    "cur.execute(\n",
    "\"\"\"\n",
    "CREATE TABLE IF NOT EXISTS holiday (\n",
    "    hid INTEGER PRIMARY KEY,\n",
    "    date TEXT,\n",
    "    day TEXT, \n",
    "    name TEXT, \n",
    "    type TEXT\n",
    ");\n",
    "\"\"\"\n",
    ")\n",
    "sql_holiday = \"\"\"\n",
    "INSERT INTO holiday (hid, date, day, name, type)\n",
    "VALUES (?, ?, ?, ?, ?);\n",
    "\"\"\"\n",
    "holiday_columns = ['date', 'day', 'name', 'type']\n",
    "for i, x in tqdm(df_holiday.iterrows(), total=len(df_holiday)):\n",
    "    cur.execute(sql_holiday, [i+1] + [x[c] for c in holiday_columns])\n",
    "\n",
    "cur.close()\n",
    "conn.commit()"
   ]
  },
  {
   "cell_type": "markdown",
   "metadata": {},
   "source": [
    "# Weather Data\n",
    "\n",
    "ASOS: 종관기상관측이란 종관규모의 날씨를 파악하기 위하여 정해진 시각에 모든 관측소에서 같은 시각에 실시하는 지상관측을 말합니다.\n",
    "\n",
    "종관규모는 일기도에 표현되어 있는 보통의 고기압이나 저기압의 공간적 크기 및 수명을 말하며, 주로 매일의 날씨 현상을 뜻합니다.\n",
    "\n",
    "https://data.kma.go.kr/data/grnd/selectAsosRltmList.do?pgmNo=36\n",
    "\n",
    "- 1회 조회 가능 최대 기간: 분 1일, 시간 1년, 일 10년, 월·연 제한 없음(장기간 자료는 '파일셋 조회' 메뉴 이용)\n",
    "- 시간/분 자료에 대해 관측값의 정상 여부를 판단하는 품질검사 플래그(QC FLAG) 정보 제공\n",
    "    * 제공 요소: 기온, 습도, 기압, 지면온도, 풍향, 풍속, 일조 / 플래그 종류(의미): 0(정상), 1(오류), 9(결측)\n",
    "\n",
    "- 전일 자료는 당일 10시 이후 확인 가능\n",
    "\n",
    "http://web.kma.go.kr/communication/knowledge/spring_list.jsp?bid=spring&mode=view&num=247\n",
    "\n",
    "mid cloud?\n",
    "\n",
    "https://www.scienceall.com/%EC%A4%91%EC%B8%B5-%EA%B5%AC%EB%A6%84middle-cloud/\n",
    "\n",
    "현상번호?\n",
    "\n",
    "https://data.kma.go.kr/community/board/selectBoardList.do?bbrdTypeNo=3&pgmNo=95\n",
    "\n",
    "시정?\n",
    "\n",
    "https://ko.wikipedia.org/wiki/%EC%8B%9C%EC%A0%95"
   ]
  },
  {
   "cell_type": "code",
   "execution_count": 10,
   "metadata": {},
   "outputs": [],
   "source": [
    "columns = {\n",
    "    '지점': 'measure_code', \n",
    "    '지점명': 'measure_name', \n",
    "    '일시': 'datetime', \n",
    "    '기온(°C)': 'temperature', \n",
    "    '기온 QC플래그': 'temperature_flag',\n",
    "    '강수량(mm)': 'precipitation', \n",
    "    '강수량 QC플래그': 'precipitation_flag',\n",
    "    '풍속(m/s)': 'wind_speed', \n",
    "    '풍속 QC플래그': 'wind_speed_flag',\n",
    "    '풍향(16방위)': 'wind_direction', \n",
    "    '풍향 QC플래그': 'wind_direction_flag', \n",
    "    '습도(%)': 'humidity', \n",
    "    '습도 QC플래그': 'humidity_flag',\n",
    "    '증기압(hPa)': 'vapor_pressure', \n",
    "    '이슬점온도(°C)': 'dew_point_temperature', \n",
    "    '현지기압(hPa)': 'local_pressure', \n",
    "    '현지기압 QC플래그': 'local_pressure_flag', \n",
    "    '해면기압(hPa)': 'sea_level_pressure',\n",
    "    '해면기압 QC플래그': 'sea_level_pressure_flag', \n",
    "    '일조(hr)': 'sunshine', \n",
    "    '일조 QC플래그': 'sunshine_flag', \n",
    "    '일사(MJ/m2)': 'solar_radiation', \n",
    "    '일사 QC플래그': 'solar_radiation_flag', \n",
    "    '적설(cm)': 'snow',\n",
    "    '3시간신적설(cm)': 'snow_3hour', \n",
    "    '전운량(10분위)': 'cloud', \n",
    "    '중하층운량(10분위)': 'mid_level_cloud',\n",
    "    '운형(운형약어)': 'cloud_type', \n",
    "    '최저운고(100m )': 'lowest_cloud',\n",
    "    '시정(10m)': 'visibility', \n",
    "    '지면상태(지면상태코드)': 'ground_status_code', \n",
    "    '현상번호(국내식)': 'weather_status_code', \n",
    "    '지면온도(°C)': 'ground_temperature', \n",
    "    '지면온도 QC플래그': 'ground_temperature_flag',\n",
    "    '5cm 지중온도(°C)': '5cm_soil_temperature', \n",
    "    '10cm 지중온도(°C)': '10cm_soil_temperature', \n",
    "    '20cm 지중온도(°C)': '20cm_soil_temperature', \n",
    "    '30cm 지중온도(°C)': '30cm_soil_temperature'\n",
    "}\n",
    "\n",
    "data = []\n",
    "for year in [2018, 2019, 2020, 2021]:\n",
    "    df = pd.read_csv(data_path / \"weather\" / f\"{year}년.csv\", encoding=\"euc-kr\")\n",
    "    df = df.rename(columns=columns)\n",
    "    df['datetime'] = pd.to_datetime(df['datetime'], format='%Y-%m-%d %H:%M').dt.strftime('%Y-%m-%d %H:%M:%S')\n",
    "    data.append(df)\n",
    "df_weather = pd.concat(data).reset_index(drop=True)"
   ]
  },
  {
   "cell_type": "code",
   "execution_count": 11,
   "metadata": {},
   "outputs": [
    {
     "data": {
      "application/vnd.jupyter.widget-view+json": {
       "model_id": "bdcbcd98024b4d4eb158002dd753b629",
       "version_major": 2,
       "version_minor": 0
      },
      "text/plain": [
       "  0%|          | 0/31392 [00:00<?, ?it/s]"
      ]
     },
     "metadata": {},
     "output_type": "display_data"
    }
   ],
   "source": [
    "cur = conn.cursor()\n",
    "cur.execute(\n",
    "\"\"\"\n",
    "CREATE TABLE IF NOT EXISTS weather (\n",
    "    wid INTEGER PRIMARY KEY,\n",
    "    measure_code INTEGER,\n",
    "    measure_name TEXT,\n",
    "    datetime TEXT,\n",
    "    temperature REAL,\n",
    "    temperature_flag REAL,\n",
    "    precipitation REAL,\n",
    "    precipitation_flag REAL,\n",
    "    wind_speed REAL,\n",
    "    wind_speed_flag REAL,\n",
    "    wind_direction REAL,\n",
    "    wind_direction_flag REAL,\n",
    "    humidity REAL,\n",
    "    humidity_flag REAL,\n",
    "    vapor_pressure REAL,\n",
    "    dew_point_temperature REAL,\n",
    "    local_pressure REAL,\n",
    "    local_pressure_flag REAL,\n",
    "    sea_level_pressure REAL,\n",
    "    sea_level_pressure_flag REAL,\n",
    "    sunshine REAL,\n",
    "    sunshine_flag REAL,\n",
    "    solar_radiation REAL,\n",
    "    solar_radiation_flag REAL,\n",
    "    snow REAL,\n",
    "    'snow_3hour' REAL,\n",
    "    cloud REAL,\n",
    "    mid_level_cloud REAL,\n",
    "    cloud_type TEXT,\n",
    "    lowest_cloud REAL,\n",
    "    visibility INTEGER,\n",
    "    ground_status_code REAL,\n",
    "    weather_status_code REAL,\n",
    "    ground_temperature REAL,\n",
    "    ground_temperature_flag REAL,\n",
    "    '5cm_soil_temperature' REAL,\n",
    "    '10cm_soil_temperature' REAL,\n",
    "    '20cm_soil_temperature' REAL,\n",
    "    '30cm_soil_temperature' REAL\n",
    ");\n",
    "\"\"\"\n",
    ")\n",
    "\n",
    "weather_columns = [\n",
    "    'measure_code', 'measure_name', 'datetime', 'temperature',\n",
    "    'temperature_flag', 'precipitation', 'precipitation_flag',\n",
    "    'wind_speed', 'wind_speed_flag', 'wind_direction',\n",
    "    'wind_direction_flag', 'humidity', 'humidity_flag',\n",
    "    'vapor_pressure', 'dew_point_temperature', 'local_pressure',\n",
    "    'local_pressure_flag', 'sea_level_pressure',\n",
    "    'sea_level_pressure_flag', 'sunshine', 'sunshine_flag',\n",
    "    'solar_radiation', 'solar_radiation_flag', 'snow', 'snow_3hour',\n",
    "    'cloud', 'mid_level_cloud', 'cloud_type', 'lowest_cloud',\n",
    "    'visibility', 'ground_status_code', 'weather_status_code',\n",
    "    'ground_temperature', 'ground_temperature_flag',\n",
    "    '5cm_soil_temperature', '10cm_soil_temperature',\n",
    "    '20cm_soil_temperature', '30cm_soil_temperature'\n",
    "]\n",
    "sql_weather = f\"\"\"\n",
    "INSERT INTO weather ('wid', {', '.join([f\"'{x}'\" for x in weather_columns])})\n",
    "VALUES (?{', ?'*(len(weather_columns))} );\n",
    "\"\"\"\n",
    "\n",
    "for i, x in tqdm(df_weather.iterrows(), total=len(df_weather)):\n",
    "    cur.execute(sql_weather, [i+1] + [x[c] for c in weather_columns])\n",
    "\n",
    "cur.close()\n",
    "conn.commit()"
   ]
  },
  {
   "cell_type": "code",
   "execution_count": 12,
   "metadata": {},
   "outputs": [],
   "source": [
    "sql = \"\"\"SELECT * FROM sqlite_master WHERE type='table'\n",
    "\"\"\"\n",
    "cur = conn.cursor()\n",
    "res = cur.execute(sql).fetchall()\n",
    "cur.close()"
   ]
  },
  {
   "cell_type": "code",
   "execution_count": 14,
   "metadata": {},
   "outputs": [
    {
     "name": "stdout",
     "output_type": "stream",
     "text": [
      "airmeasure\n",
      "airquality\n",
      "holiday\n",
      "weather\n"
     ]
    }
   ],
   "source": [
    "for x in res:\n",
    "    print(x[1])"
   ]
  }
 ],
 "metadata": {
  "interpreter": {
   "hash": "ab7f212329a491b497f27876271d03c022f2dd26760015eef69af619991238fd"
  },
  "kernelspec": {
   "display_name": "Python 3.8.12 ('venv')",
   "language": "python",
   "name": "python3"
  },
  "language_info": {
   "codemirror_mode": {
    "name": "ipython",
    "version": 3
   },
   "file_extension": ".py",
   "mimetype": "text/x-python",
   "name": "python",
   "nbconvert_exporter": "python",
   "pygments_lexer": "ipython3",
   "version": "3.8.12"
  },
  "orig_nbformat": 4
 },
 "nbformat": 4,
 "nbformat_minor": 2
}
