{
 "cells": [
  {
   "cell_type": "markdown",
   "metadata": {},
   "source": [
    "# Data Handling"
   ]
  },
  {
   "cell_type": "code",
   "execution_count": 1,
   "metadata": {},
   "outputs": [],
   "source": [
    "import sys\n",
    "import numpy as np\n",
    "import pandas as pd\n",
    "# from datetime import datetime as dt\n",
    "# from datetime import timedelta\n",
    "from tqdm.notebook import tqdm\n",
    "from pathlib import Path\n",
    "\n",
    "proj_path = Path().absolute().parent\n",
    "sys.path.append(str(proj_path))\n",
    "data_path = proj_path / 'data' \n",
    "\n",
    "from src.dbengine import DBEngine\n",
    "db = DBEngine(db_path=data_path / \"airpollution.db\")"
   ]
  },
  {
   "cell_type": "code",
   "execution_count": 2,
   "metadata": {},
   "outputs": [
    {
     "data": {
      "text/plain": [
       "SO2     0\n",
       "CO      0\n",
       "O3      0\n",
       "NO2     0\n",
       "PM10    0\n",
       "PM25    0\n",
       "dtype: int64"
      ]
     },
     "execution_count": 2,
     "metadata": {},
     "output_type": "execute_result"
    }
   ],
   "source": [
    "# what columns to use?\n",
    "columns = ['district', 'datetime', 'SO2', 'CO', 'O3', 'NO2', 'PM10', 'PM25']\n",
    "\n",
    "sql = \"\"\"\n",
    "SELECT aq.measure_code, aq.datetime, aq.SO2, aq.CO, aq.O3, aq.NO2, aq.PM10, aq.PM25\n",
    "FROM airquality AS aq\n",
    "\"\"\"\n",
    "res = db.query(sql)\n",
    "df = pd.DataFrame(res).rename(columns=dict(enumerate(columns)))\n",
    "df['datetime'] = pd.to_datetime(df['datetime'])\n",
    "df = df.set_index(['district', 'datetime']).sort_index()\n",
    "# should fill the null values using previous datetime's value\n",
    "\n",
    "df = df.mask(df.isnull()).groupby([df.index.get_level_values(1).time]).fillna(method = 'ffill')\n",
    "df.isnull().sum()"
   ]
  },
  {
   "cell_type": "code",
   "execution_count": 3,
   "metadata": {},
   "outputs": [],
   "source": [
    "# what columns to use?\n",
    "# resample \n",
    "\n",
    "columns = [\n",
    "    'datetime', 'PM10', 'PM25', 'SO2', 'CO', 'O3', 'NO2', 'temperature', \n",
    "    'precipitation', 'wind_speed', 'wind_direction', 'humidity', 'vapor_pressure', \n",
    "    'local_pressure', 'sea_level_pressure', 'sunshine', 'solar_radiation', \n",
    "    'ground_temperature', '5cm_soil_temperature', '10cm_soil_temperature', '20cm_soil_temperature', '30cm_soil_temperature'\n",
    "]\n",
    "\n",
    "sql = \"\"\"\n",
    "SELECT \n",
    "    a.datetime, a.PM10, a.PM25, a.SO2, a.CO, a.O3, a.NO2, w.temperature,\n",
    "    w.precipitation, w.wind_speed, w.wind_direction, w.humidity, w.vapor_pressure, \n",
    "    w.local_pressure, w.sea_level_pressure, w.sunshine, w.solar_radiation,\n",
    "    w.\"ground_temperature\", w.\"5cm_soil_temperature\", w.\"10cm_soil_temperature\", w.\"20cm_soil_temperature\", w.\"30cm_soil_temperature\"\n",
    "FROM (\n",
    "    SELECT \n",
    "        aq.datetime, AVG(aq.SO2) SO2, AVG(aq.CO) CO, AVG(aq.O3) O3, AVG(aq.NO2) NO2, AVG(aq.PM10) PM10, AVG(aq.PM25) PM25\n",
    "    FROM airquality AS aq\n",
    "    GROUP BY aq.datetime\n",
    "    ORDER BY aq.datetime\n",
    ") AS a\n",
    "JOIN weather AS w\n",
    "ON a.datetime = w.datetime\n",
    "\"\"\"\n",
    "res = db.query(sql)\n",
    "df = pd.DataFrame(res).rename(columns=dict(enumerate(columns))).set_index(['datetime']).sort_index()"
   ]
  },
  {
   "cell_type": "code",
   "execution_count": 4,
   "metadata": {},
   "outputs": [
    {
     "name": "stdout",
     "output_type": "stream",
     "text": [
      "['temperature' 'precipitation' 'wind_speed' 'wind_direction'\n",
      " 'vapor_pressure' 'local_pressure' 'sea_level_pressure' 'sunshine'\n",
      " 'solar_radiation' 'ground_temperature' '5cm_soil_temperature'\n",
      " '10cm_soil_temperature' '20cm_soil_temperature' '30cm_soil_temperature']\n"
     ]
    },
    {
     "data": {
      "text/plain": [
       "PM10                         0.0\n",
       "PM25                         0.0\n",
       "SO2                          0.0\n",
       "CO                           0.0\n",
       "O3                           0.0\n",
       "NO2                          0.0\n",
       "temperature                  2.0\n",
       "precipitation            28071.0\n",
       "wind_speed                  11.0\n",
       "wind_direction              11.0\n",
       "humidity                     0.0\n",
       "vapor_pressure               4.0\n",
       "local_pressure              13.0\n",
       "sea_level_pressure          13.0\n",
       "sunshine                 14137.0\n",
       "solar_radiation          14137.0\n",
       "ground_temperature          23.0\n",
       "5cm_soil_temperature        24.0\n",
       "10cm_soil_temperature       23.0\n",
       "20cm_soil_temperature       24.0\n",
       "30cm_soil_temperature       24.0\n",
       "Name: count, dtype: float64"
      ]
     },
     "execution_count": 4,
     "metadata": {},
     "output_type": "execute_result"
    }
   ],
   "source": [
    "df_null = len(df) - df.describe().loc['count']\n",
    "print(df_null.index[(df_null > 0).values].values)\n",
    "df_null"
   ]
  },
  {
   "cell_type": "code",
   "execution_count": 5,
   "metadata": {},
   "outputs": [
    {
     "name": "stdout",
     "output_type": "stream",
     "text": [
      "temperature\n",
      "['2018-11-29 18:00:00' '2020-08-26 13:00:00']\n",
      "wind_speed\n",
      "['2018-12-16 05:00:00' '2018-12-16 06:00:00'] ... ['2021-01-07 11:00:00' '2021-01-07 12:00:00']\n",
      "wind_direction\n",
      "['2018-12-16 05:00:00' '2018-12-16 06:00:00'] ... ['2021-01-07 11:00:00' '2021-01-07 12:00:00']\n",
      "vapor_pressure\n",
      "['2018-01-26 12:00:00' '2018-01-26 13:00:00' '2020-08-26 09:00:00'\n",
      " '2020-08-26 10:00:00']\n",
      "local_pressure\n",
      "['2020-08-26 05:00:00' '2020-08-26 10:00:00'] ... ['2020-11-27 17:00:00' '2020-11-27 18:00:00']\n",
      "sea_level_pressure\n",
      "['2020-08-26 00:00:00' '2020-08-26 10:00:00'] ... ['2020-11-27 17:00:00' '2020-11-27 18:00:00']\n",
      "ground_temperature\n",
      "['2018-02-15 06:00:00' '2018-02-15 07:00:00'] ... ['2021-06-12 00:00:00' '2021-06-12 01:00:00']\n",
      "5cm_soil_temperature\n",
      "['2018-01-26 01:00:00' '2018-02-15 06:00:00'] ... ['2021-06-12 00:00:00' '2021-06-12 01:00:00']\n",
      "10cm_soil_temperature\n",
      "['2018-02-15 06:00:00' '2018-02-15 07:00:00'] ... ['2021-06-12 00:00:00' '2021-06-12 01:00:00']\n",
      "20cm_soil_temperature\n",
      "['2018-01-26 01:00:00' '2018-02-15 06:00:00'] ... ['2021-06-12 00:00:00' '2021-06-12 01:00:00']\n",
      "30cm_soil_temperature\n",
      "['2018-01-26 01:00:00' '2018-02-15 06:00:00'] ... ['2021-06-12 00:00:00' '2021-06-12 01:00:00']\n"
     ]
    }
   ],
   "source": [
    "check_columns = [\n",
    "    'temperature', 'wind_speed', 'wind_direction', 'vapor_pressure', 'local_pressure', 'sea_level_pressure',\n",
    "    'ground_temperature', '5cm_soil_temperature', '10cm_soil_temperature', '20cm_soil_temperature', '30cm_soil_temperature'\n",
    "]\n",
    "\n",
    "for c in check_columns:\n",
    "    idx = df.loc[df[c].isnull(), c].index\n",
    "    print(c)\n",
    "    if len(idx) > 4:\n",
    "        print(idx.values[:2], '...', idx.values[-2:])\n",
    "    else:\n",
    "        print(idx.values)"
   ]
  },
  {
   "cell_type": "code",
   "execution_count": null,
   "metadata": {},
   "outputs": [],
   "source": []
  }
 ],
 "metadata": {
  "interpreter": {
   "hash": "31f5ad409cdd467ecf3120512f3deb4dcc0a445587ce3facfbd8260d291bb18d"
  },
  "kernelspec": {
   "display_name": "Python 3.8.12 ('base')",
   "language": "python",
   "name": "python3"
  },
  "language_info": {
   "codemirror_mode": {
    "name": "ipython",
    "version": 3
   },
   "file_extension": ".py",
   "mimetype": "text/x-python",
   "name": "python",
   "nbconvert_exporter": "python",
   "pygments_lexer": "ipython3",
   "version": "3.8.12"
  }
 },
 "nbformat": 4,
 "nbformat_minor": 2
}