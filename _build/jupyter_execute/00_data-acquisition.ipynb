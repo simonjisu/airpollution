{
 "cells": [
  {
   "cell_type": "markdown",
   "metadata": {},
   "source": [
    "# Data Acquisition"
   ]
  },
  {
   "cell_type": "code",
   "execution_count": 1,
   "metadata": {},
   "outputs": [],
   "source": [
    "import sqlite3\n",
    "import pandas as pd\n",
    "from pathlib import Path\n",
    "\n",
    "from tqdm.notebook import tqdm\n",
    "\n",
    "proj_path = Path().absolute().parent\n",
    "data_path = proj_path / 'data' "
   ]
  },
  {
   "cell_type": "markdown",
   "metadata": {},
   "source": [
    "# SQLite3 Database"
   ]
  },
  {
   "cell_type": "code",
   "execution_count": 2,
   "metadata": {},
   "outputs": [],
   "source": [
    "conn = sqlite3.connect(data_path / \"airpollution.db\")"
   ]
  },
  {
   "cell_type": "markdown",
   "metadata": {},
   "source": [
    "# Airquality Data\n",
    "\n",
    "https://www.airkorea.or.kr/web/last_amb_hour_data?pMENU_NO=123"
   ]
  },
  {
   "cell_type": "code",
   "execution_count": 3,
   "metadata": {},
   "outputs": [],
   "source": [
    "def load_data(path:Path) -> pd.DataFrame:\n",
    "    \"\"\"Load data function\n",
    "\n",
    "    Args:\n",
    "        path (Path): path of data with file name\n",
    "        enc (str, optional): encoding. Defaults to 'utf-8'.\n",
    "    Returns:\n",
    "        pd.DataFrame \n",
    "    \"\"\"    \n",
    "    if path.name.split('.')[-1] == 'xlsx':\n",
    "        df = pd.read_excel(path)\n",
    "    else:\n",
    "        try:\n",
    "            df = pd.read_csv(path, encoding='cp949')\n",
    "        except UnicodeDecodeError:\n",
    "            df = pd.read_csv(path, encoding='utf-8')\n",
    "\n",
    "    return df\n",
    "\n",
    "def filter_seoul(df: pd.DataFrame) -> pd.DataFrame:\n",
    "    return df.loc[df['지역'].str.contains('서울'), :]"
   ]
  },
  {
   "cell_type": "code",
   "execution_count": 4,
   "metadata": {},
   "outputs": [
    {
     "data": {
      "application/vnd.jupyter.widget-view+json": {
       "model_id": "95780f9104364b94ad0b3d2956f9c42b",
       "version_major": 2,
       "version_minor": 0
      },
      "text/plain": [
       "  0%|          | 0/4 [00:00<?, ?it/s]"
      ]
     },
     "metadata": {},
     "output_type": "display_data"
    },
    {
     "ename": "KeyboardInterrupt",
     "evalue": "",
     "output_type": "error",
     "traceback": [
      "\u001b[0;31m---------------------------------------------------------------------------\u001b[0m",
      "\u001b[0;31mKeyboardInterrupt\u001b[0m                         Traceback (most recent call last)",
      "Input \u001b[0;32mIn [4]\u001b[0m, in \u001b[0;36m<cell line: 4>\u001b[0;34m()\u001b[0m\n\u001b[1;32m      5\u001b[0m new_path \u001b[38;5;241m=\u001b[39m data_path \u001b[38;5;241m/\u001b[39m \u001b[38;5;124m'\u001b[39m\u001b[38;5;124mairquality\u001b[39m\u001b[38;5;124m'\u001b[39m \u001b[38;5;241m/\u001b[39m \u001b[38;5;124mf\u001b[39m\u001b[38;5;124m'\u001b[39m\u001b[38;5;124mair-seoul-\u001b[39m\u001b[38;5;132;01m{\u001b[39;00mp_year\u001b[38;5;241m.\u001b[39mname\u001b[38;5;132;01m}\u001b[39;00m\u001b[38;5;124m.csv\u001b[39m\u001b[38;5;124m'\u001b[39m\n\u001b[1;32m      6\u001b[0m \u001b[38;5;28;01mfor\u001b[39;00m p \u001b[38;5;129;01min\u001b[39;00m p_year\u001b[38;5;241m.\u001b[39mglob(\u001b[38;5;124m'\u001b[39m\u001b[38;5;124m*\u001b[39m\u001b[38;5;124m'\u001b[39m):\n\u001b[0;32m----> 8\u001b[0m     df \u001b[38;5;241m=\u001b[39m \u001b[43mload_data\u001b[49m\u001b[43m(\u001b[49m\u001b[43mp\u001b[49m\u001b[43m)\u001b[49m\n\u001b[1;32m      9\u001b[0m     df \u001b[38;5;241m=\u001b[39m filter_seoul(df)\n\u001b[1;32m     10\u001b[0m     parts\u001b[38;5;241m.\u001b[39mappend(df)\n",
      "Input \u001b[0;32mIn [3]\u001b[0m, in \u001b[0;36mload_data\u001b[0;34m(path)\u001b[0m\n\u001b[1;32m      2\u001b[0m \u001b[38;5;124;03m\"\"\"Load data function\u001b[39;00m\n\u001b[1;32m      3\u001b[0m \n\u001b[1;32m      4\u001b[0m \u001b[38;5;124;03mArgs:\u001b[39;00m\n\u001b[0;32m   (...)\u001b[0m\n\u001b[1;32m      8\u001b[0m \u001b[38;5;124;03m    pd.DataFrame \u001b[39;00m\n\u001b[1;32m      9\u001b[0m \u001b[38;5;124;03m\"\"\"\u001b[39;00m    \n\u001b[1;32m     10\u001b[0m \u001b[38;5;28;01mif\u001b[39;00m path\u001b[38;5;241m.\u001b[39mname\u001b[38;5;241m.\u001b[39msplit(\u001b[38;5;124m'\u001b[39m\u001b[38;5;124m.\u001b[39m\u001b[38;5;124m'\u001b[39m)[\u001b[38;5;241m-\u001b[39m\u001b[38;5;241m1\u001b[39m] \u001b[38;5;241m==\u001b[39m \u001b[38;5;124m'\u001b[39m\u001b[38;5;124mxlsx\u001b[39m\u001b[38;5;124m'\u001b[39m:\n\u001b[0;32m---> 11\u001b[0m     df \u001b[38;5;241m=\u001b[39m \u001b[43mpd\u001b[49m\u001b[38;5;241;43m.\u001b[39;49m\u001b[43mread_excel\u001b[49m\u001b[43m(\u001b[49m\u001b[43mpath\u001b[49m\u001b[43m)\u001b[49m\n\u001b[1;32m     12\u001b[0m \u001b[38;5;28;01melse\u001b[39;00m:\n\u001b[1;32m     13\u001b[0m     \u001b[38;5;28;01mtry\u001b[39;00m:\n",
      "File \u001b[0;32m~/miniconda3/lib/python3.8/site-packages/pandas/util/_decorators.py:311\u001b[0m, in \u001b[0;36mdeprecate_nonkeyword_arguments.<locals>.decorate.<locals>.wrapper\u001b[0;34m(*args, **kwargs)\u001b[0m\n\u001b[1;32m    305\u001b[0m \u001b[38;5;28;01mif\u001b[39;00m \u001b[38;5;28mlen\u001b[39m(args) \u001b[38;5;241m>\u001b[39m num_allow_args:\n\u001b[1;32m    306\u001b[0m     warnings\u001b[38;5;241m.\u001b[39mwarn(\n\u001b[1;32m    307\u001b[0m         msg\u001b[38;5;241m.\u001b[39mformat(arguments\u001b[38;5;241m=\u001b[39marguments),\n\u001b[1;32m    308\u001b[0m         \u001b[38;5;167;01mFutureWarning\u001b[39;00m,\n\u001b[1;32m    309\u001b[0m         stacklevel\u001b[38;5;241m=\u001b[39mstacklevel,\n\u001b[1;32m    310\u001b[0m     )\n\u001b[0;32m--> 311\u001b[0m \u001b[38;5;28;01mreturn\u001b[39;00m \u001b[43mfunc\u001b[49m\u001b[43m(\u001b[49m\u001b[38;5;241;43m*\u001b[39;49m\u001b[43margs\u001b[49m\u001b[43m,\u001b[49m\u001b[43m \u001b[49m\u001b[38;5;241;43m*\u001b[39;49m\u001b[38;5;241;43m*\u001b[39;49m\u001b[43mkwargs\u001b[49m\u001b[43m)\u001b[49m\n",
      "File \u001b[0;32m~/miniconda3/lib/python3.8/site-packages/pandas/io/excel/_base.py:465\u001b[0m, in \u001b[0;36mread_excel\u001b[0;34m(io, sheet_name, header, names, index_col, usecols, squeeze, dtype, engine, converters, true_values, false_values, skiprows, nrows, na_values, keep_default_na, na_filter, verbose, parse_dates, date_parser, thousands, decimal, comment, skipfooter, convert_float, mangle_dupe_cols, storage_options)\u001b[0m\n\u001b[1;32m    459\u001b[0m     \u001b[38;5;28;01mraise\u001b[39;00m \u001b[38;5;167;01mValueError\u001b[39;00m(\n\u001b[1;32m    460\u001b[0m         \u001b[38;5;124m\"\u001b[39m\u001b[38;5;124mEngine should not be specified when passing \u001b[39m\u001b[38;5;124m\"\u001b[39m\n\u001b[1;32m    461\u001b[0m         \u001b[38;5;124m\"\u001b[39m\u001b[38;5;124man ExcelFile - ExcelFile already has the engine set\u001b[39m\u001b[38;5;124m\"\u001b[39m\n\u001b[1;32m    462\u001b[0m     )\n\u001b[1;32m    464\u001b[0m \u001b[38;5;28;01mtry\u001b[39;00m:\n\u001b[0;32m--> 465\u001b[0m     data \u001b[38;5;241m=\u001b[39m \u001b[43mio\u001b[49m\u001b[38;5;241;43m.\u001b[39;49m\u001b[43mparse\u001b[49m\u001b[43m(\u001b[49m\n\u001b[1;32m    466\u001b[0m \u001b[43m        \u001b[49m\u001b[43msheet_name\u001b[49m\u001b[38;5;241;43m=\u001b[39;49m\u001b[43msheet_name\u001b[49m\u001b[43m,\u001b[49m\n\u001b[1;32m    467\u001b[0m \u001b[43m        \u001b[49m\u001b[43mheader\u001b[49m\u001b[38;5;241;43m=\u001b[39;49m\u001b[43mheader\u001b[49m\u001b[43m,\u001b[49m\n\u001b[1;32m    468\u001b[0m \u001b[43m        \u001b[49m\u001b[43mnames\u001b[49m\u001b[38;5;241;43m=\u001b[39;49m\u001b[43mnames\u001b[49m\u001b[43m,\u001b[49m\n\u001b[1;32m    469\u001b[0m \u001b[43m        \u001b[49m\u001b[43mindex_col\u001b[49m\u001b[38;5;241;43m=\u001b[39;49m\u001b[43mindex_col\u001b[49m\u001b[43m,\u001b[49m\n\u001b[1;32m    470\u001b[0m \u001b[43m        \u001b[49m\u001b[43musecols\u001b[49m\u001b[38;5;241;43m=\u001b[39;49m\u001b[43musecols\u001b[49m\u001b[43m,\u001b[49m\n\u001b[1;32m    471\u001b[0m \u001b[43m        \u001b[49m\u001b[43msqueeze\u001b[49m\u001b[38;5;241;43m=\u001b[39;49m\u001b[43msqueeze\u001b[49m\u001b[43m,\u001b[49m\n\u001b[1;32m    472\u001b[0m \u001b[43m        \u001b[49m\u001b[43mdtype\u001b[49m\u001b[38;5;241;43m=\u001b[39;49m\u001b[43mdtype\u001b[49m\u001b[43m,\u001b[49m\n\u001b[1;32m    473\u001b[0m \u001b[43m        \u001b[49m\u001b[43mconverters\u001b[49m\u001b[38;5;241;43m=\u001b[39;49m\u001b[43mconverters\u001b[49m\u001b[43m,\u001b[49m\n\u001b[1;32m    474\u001b[0m \u001b[43m        \u001b[49m\u001b[43mtrue_values\u001b[49m\u001b[38;5;241;43m=\u001b[39;49m\u001b[43mtrue_values\u001b[49m\u001b[43m,\u001b[49m\n\u001b[1;32m    475\u001b[0m \u001b[43m        \u001b[49m\u001b[43mfalse_values\u001b[49m\u001b[38;5;241;43m=\u001b[39;49m\u001b[43mfalse_values\u001b[49m\u001b[43m,\u001b[49m\n\u001b[1;32m    476\u001b[0m \u001b[43m        \u001b[49m\u001b[43mskiprows\u001b[49m\u001b[38;5;241;43m=\u001b[39;49m\u001b[43mskiprows\u001b[49m\u001b[43m,\u001b[49m\n\u001b[1;32m    477\u001b[0m \u001b[43m        \u001b[49m\u001b[43mnrows\u001b[49m\u001b[38;5;241;43m=\u001b[39;49m\u001b[43mnrows\u001b[49m\u001b[43m,\u001b[49m\n\u001b[1;32m    478\u001b[0m \u001b[43m        \u001b[49m\u001b[43mna_values\u001b[49m\u001b[38;5;241;43m=\u001b[39;49m\u001b[43mna_values\u001b[49m\u001b[43m,\u001b[49m\n\u001b[1;32m    479\u001b[0m \u001b[43m        \u001b[49m\u001b[43mkeep_default_na\u001b[49m\u001b[38;5;241;43m=\u001b[39;49m\u001b[43mkeep_default_na\u001b[49m\u001b[43m,\u001b[49m\n\u001b[1;32m    480\u001b[0m \u001b[43m        \u001b[49m\u001b[43mna_filter\u001b[49m\u001b[38;5;241;43m=\u001b[39;49m\u001b[43mna_filter\u001b[49m\u001b[43m,\u001b[49m\n\u001b[1;32m    481\u001b[0m \u001b[43m        \u001b[49m\u001b[43mverbose\u001b[49m\u001b[38;5;241;43m=\u001b[39;49m\u001b[43mverbose\u001b[49m\u001b[43m,\u001b[49m\n\u001b[1;32m    482\u001b[0m \u001b[43m        \u001b[49m\u001b[43mparse_dates\u001b[49m\u001b[38;5;241;43m=\u001b[39;49m\u001b[43mparse_dates\u001b[49m\u001b[43m,\u001b[49m\n\u001b[1;32m    483\u001b[0m \u001b[43m        \u001b[49m\u001b[43mdate_parser\u001b[49m\u001b[38;5;241;43m=\u001b[39;49m\u001b[43mdate_parser\u001b[49m\u001b[43m,\u001b[49m\n\u001b[1;32m    484\u001b[0m \u001b[43m        \u001b[49m\u001b[43mthousands\u001b[49m\u001b[38;5;241;43m=\u001b[39;49m\u001b[43mthousands\u001b[49m\u001b[43m,\u001b[49m\n\u001b[1;32m    485\u001b[0m \u001b[43m        \u001b[49m\u001b[43mdecimal\u001b[49m\u001b[38;5;241;43m=\u001b[39;49m\u001b[43mdecimal\u001b[49m\u001b[43m,\u001b[49m\n\u001b[1;32m    486\u001b[0m \u001b[43m        \u001b[49m\u001b[43mcomment\u001b[49m\u001b[38;5;241;43m=\u001b[39;49m\u001b[43mcomment\u001b[49m\u001b[43m,\u001b[49m\n\u001b[1;32m    487\u001b[0m \u001b[43m        \u001b[49m\u001b[43mskipfooter\u001b[49m\u001b[38;5;241;43m=\u001b[39;49m\u001b[43mskipfooter\u001b[49m\u001b[43m,\u001b[49m\n\u001b[1;32m    488\u001b[0m \u001b[43m        \u001b[49m\u001b[43mconvert_float\u001b[49m\u001b[38;5;241;43m=\u001b[39;49m\u001b[43mconvert_float\u001b[49m\u001b[43m,\u001b[49m\n\u001b[1;32m    489\u001b[0m \u001b[43m        \u001b[49m\u001b[43mmangle_dupe_cols\u001b[49m\u001b[38;5;241;43m=\u001b[39;49m\u001b[43mmangle_dupe_cols\u001b[49m\u001b[43m,\u001b[49m\n\u001b[1;32m    490\u001b[0m \u001b[43m    \u001b[49m\u001b[43m)\u001b[49m\n\u001b[1;32m    491\u001b[0m \u001b[38;5;28;01mfinally\u001b[39;00m:\n\u001b[1;32m    492\u001b[0m     \u001b[38;5;66;03m# make sure to close opened file handles\u001b[39;00m\n\u001b[1;32m    493\u001b[0m     \u001b[38;5;28;01mif\u001b[39;00m should_close:\n",
      "File \u001b[0;32m~/miniconda3/lib/python3.8/site-packages/pandas/io/excel/_base.py:1458\u001b[0m, in \u001b[0;36mExcelFile.parse\u001b[0;34m(self, sheet_name, header, names, index_col, usecols, squeeze, converters, true_values, false_values, skiprows, nrows, na_values, parse_dates, date_parser, thousands, comment, skipfooter, convert_float, mangle_dupe_cols, **kwds)\u001b[0m\n\u001b[1;32m   1424\u001b[0m \u001b[38;5;28;01mdef\u001b[39;00m \u001b[38;5;21mparse\u001b[39m(\n\u001b[1;32m   1425\u001b[0m     \u001b[38;5;28mself\u001b[39m,\n\u001b[1;32m   1426\u001b[0m     sheet_name: \u001b[38;5;28mstr\u001b[39m \u001b[38;5;241m|\u001b[39m \u001b[38;5;28mint\u001b[39m \u001b[38;5;241m|\u001b[39m \u001b[38;5;28mlist\u001b[39m[\u001b[38;5;28mint\u001b[39m] \u001b[38;5;241m|\u001b[39m \u001b[38;5;28mlist\u001b[39m[\u001b[38;5;28mstr\u001b[39m] \u001b[38;5;241m|\u001b[39m \u001b[38;5;28;01mNone\u001b[39;00m \u001b[38;5;241m=\u001b[39m \u001b[38;5;241m0\u001b[39m,\n\u001b[0;32m   (...)\u001b[0m\n\u001b[1;32m   1445\u001b[0m     \u001b[38;5;241m*\u001b[39m\u001b[38;5;241m*\u001b[39mkwds,\n\u001b[1;32m   1446\u001b[0m ) \u001b[38;5;241m-\u001b[39m\u001b[38;5;241m>\u001b[39m DataFrame \u001b[38;5;241m|\u001b[39m \u001b[38;5;28mdict\u001b[39m[\u001b[38;5;28mstr\u001b[39m, DataFrame] \u001b[38;5;241m|\u001b[39m \u001b[38;5;28mdict\u001b[39m[\u001b[38;5;28mint\u001b[39m, DataFrame]:\n\u001b[1;32m   1447\u001b[0m     \u001b[38;5;124;03m\"\"\"\u001b[39;00m\n\u001b[1;32m   1448\u001b[0m \u001b[38;5;124;03m    Parse specified sheet(s) into a DataFrame.\u001b[39;00m\n\u001b[1;32m   1449\u001b[0m \n\u001b[0;32m   (...)\u001b[0m\n\u001b[1;32m   1456\u001b[0m \u001b[38;5;124;03m        DataFrame from the passed in Excel file.\u001b[39;00m\n\u001b[1;32m   1457\u001b[0m \u001b[38;5;124;03m    \"\"\"\u001b[39;00m\n\u001b[0;32m-> 1458\u001b[0m     \u001b[38;5;28;01mreturn\u001b[39;00m \u001b[38;5;28;43mself\u001b[39;49m\u001b[38;5;241;43m.\u001b[39;49m\u001b[43m_reader\u001b[49m\u001b[38;5;241;43m.\u001b[39;49m\u001b[43mparse\u001b[49m\u001b[43m(\u001b[49m\n\u001b[1;32m   1459\u001b[0m \u001b[43m        \u001b[49m\u001b[43msheet_name\u001b[49m\u001b[38;5;241;43m=\u001b[39;49m\u001b[43msheet_name\u001b[49m\u001b[43m,\u001b[49m\n\u001b[1;32m   1460\u001b[0m \u001b[43m        \u001b[49m\u001b[43mheader\u001b[49m\u001b[38;5;241;43m=\u001b[39;49m\u001b[43mheader\u001b[49m\u001b[43m,\u001b[49m\n\u001b[1;32m   1461\u001b[0m \u001b[43m        \u001b[49m\u001b[43mnames\u001b[49m\u001b[38;5;241;43m=\u001b[39;49m\u001b[43mnames\u001b[49m\u001b[43m,\u001b[49m\n\u001b[1;32m   1462\u001b[0m \u001b[43m        \u001b[49m\u001b[43mindex_col\u001b[49m\u001b[38;5;241;43m=\u001b[39;49m\u001b[43mindex_col\u001b[49m\u001b[43m,\u001b[49m\n\u001b[1;32m   1463\u001b[0m \u001b[43m        \u001b[49m\u001b[43musecols\u001b[49m\u001b[38;5;241;43m=\u001b[39;49m\u001b[43musecols\u001b[49m\u001b[43m,\u001b[49m\n\u001b[1;32m   1464\u001b[0m \u001b[43m        \u001b[49m\u001b[43msqueeze\u001b[49m\u001b[38;5;241;43m=\u001b[39;49m\u001b[43msqueeze\u001b[49m\u001b[43m,\u001b[49m\n\u001b[1;32m   1465\u001b[0m \u001b[43m        \u001b[49m\u001b[43mconverters\u001b[49m\u001b[38;5;241;43m=\u001b[39;49m\u001b[43mconverters\u001b[49m\u001b[43m,\u001b[49m\n\u001b[1;32m   1466\u001b[0m \u001b[43m        \u001b[49m\u001b[43mtrue_values\u001b[49m\u001b[38;5;241;43m=\u001b[39;49m\u001b[43mtrue_values\u001b[49m\u001b[43m,\u001b[49m\n\u001b[1;32m   1467\u001b[0m \u001b[43m        \u001b[49m\u001b[43mfalse_values\u001b[49m\u001b[38;5;241;43m=\u001b[39;49m\u001b[43mfalse_values\u001b[49m\u001b[43m,\u001b[49m\n\u001b[1;32m   1468\u001b[0m \u001b[43m        \u001b[49m\u001b[43mskiprows\u001b[49m\u001b[38;5;241;43m=\u001b[39;49m\u001b[43mskiprows\u001b[49m\u001b[43m,\u001b[49m\n\u001b[1;32m   1469\u001b[0m \u001b[43m        \u001b[49m\u001b[43mnrows\u001b[49m\u001b[38;5;241;43m=\u001b[39;49m\u001b[43mnrows\u001b[49m\u001b[43m,\u001b[49m\n\u001b[1;32m   1470\u001b[0m \u001b[43m        \u001b[49m\u001b[43mna_values\u001b[49m\u001b[38;5;241;43m=\u001b[39;49m\u001b[43mna_values\u001b[49m\u001b[43m,\u001b[49m\n\u001b[1;32m   1471\u001b[0m \u001b[43m        \u001b[49m\u001b[43mparse_dates\u001b[49m\u001b[38;5;241;43m=\u001b[39;49m\u001b[43mparse_dates\u001b[49m\u001b[43m,\u001b[49m\n\u001b[1;32m   1472\u001b[0m \u001b[43m        \u001b[49m\u001b[43mdate_parser\u001b[49m\u001b[38;5;241;43m=\u001b[39;49m\u001b[43mdate_parser\u001b[49m\u001b[43m,\u001b[49m\n\u001b[1;32m   1473\u001b[0m \u001b[43m        \u001b[49m\u001b[43mthousands\u001b[49m\u001b[38;5;241;43m=\u001b[39;49m\u001b[43mthousands\u001b[49m\u001b[43m,\u001b[49m\n\u001b[1;32m   1474\u001b[0m \u001b[43m        \u001b[49m\u001b[43mcomment\u001b[49m\u001b[38;5;241;43m=\u001b[39;49m\u001b[43mcomment\u001b[49m\u001b[43m,\u001b[49m\n\u001b[1;32m   1475\u001b[0m \u001b[43m        \u001b[49m\u001b[43mskipfooter\u001b[49m\u001b[38;5;241;43m=\u001b[39;49m\u001b[43mskipfooter\u001b[49m\u001b[43m,\u001b[49m\n\u001b[1;32m   1476\u001b[0m \u001b[43m        \u001b[49m\u001b[43mconvert_float\u001b[49m\u001b[38;5;241;43m=\u001b[39;49m\u001b[43mconvert_float\u001b[49m\u001b[43m,\u001b[49m\n\u001b[1;32m   1477\u001b[0m \u001b[43m        \u001b[49m\u001b[43mmangle_dupe_cols\u001b[49m\u001b[38;5;241;43m=\u001b[39;49m\u001b[43mmangle_dupe_cols\u001b[49m\u001b[43m,\u001b[49m\n\u001b[1;32m   1478\u001b[0m \u001b[43m        \u001b[49m\u001b[38;5;241;43m*\u001b[39;49m\u001b[38;5;241;43m*\u001b[39;49m\u001b[43mkwds\u001b[49m\u001b[43m,\u001b[49m\n\u001b[1;32m   1479\u001b[0m \u001b[43m    \u001b[49m\u001b[43m)\u001b[49m\n",
      "File \u001b[0;32m~/miniconda3/lib/python3.8/site-packages/pandas/io/excel/_base.py:638\u001b[0m, in \u001b[0;36mBaseExcelReader.parse\u001b[0;34m(self, sheet_name, header, names, index_col, usecols, squeeze, dtype, true_values, false_values, skiprows, nrows, na_values, verbose, parse_dates, date_parser, thousands, decimal, comment, skipfooter, convert_float, mangle_dupe_cols, **kwds)\u001b[0m\n\u001b[1;32m    635\u001b[0m \u001b[38;5;28;01melse\u001b[39;00m:  \u001b[38;5;66;03m# assume an integer if not a string\u001b[39;00m\n\u001b[1;32m    636\u001b[0m     sheet \u001b[38;5;241m=\u001b[39m \u001b[38;5;28mself\u001b[39m\u001b[38;5;241m.\u001b[39mget_sheet_by_index(asheetname)\n\u001b[0;32m--> 638\u001b[0m data \u001b[38;5;241m=\u001b[39m \u001b[38;5;28;43mself\u001b[39;49m\u001b[38;5;241;43m.\u001b[39;49m\u001b[43mget_sheet_data\u001b[49m\u001b[43m(\u001b[49m\u001b[43msheet\u001b[49m\u001b[43m,\u001b[49m\u001b[43m \u001b[49m\u001b[43mconvert_float\u001b[49m\u001b[43m)\u001b[49m\n\u001b[1;32m    639\u001b[0m \u001b[38;5;28;01mif\u001b[39;00m \u001b[38;5;28mhasattr\u001b[39m(sheet, \u001b[38;5;124m\"\u001b[39m\u001b[38;5;124mclose\u001b[39m\u001b[38;5;124m\"\u001b[39m):\n\u001b[1;32m    640\u001b[0m     \u001b[38;5;66;03m# pyxlsb opens two TemporaryFiles\u001b[39;00m\n\u001b[1;32m    641\u001b[0m     sheet\u001b[38;5;241m.\u001b[39mclose()\n",
      "File \u001b[0;32m~/miniconda3/lib/python3.8/site-packages/pandas/io/excel/_openpyxl.py:575\u001b[0m, in \u001b[0;36mOpenpyxlReader.get_sheet_data\u001b[0;34m(self, sheet, convert_float)\u001b[0m\n\u001b[1;32m    573\u001b[0m data: \u001b[38;5;28mlist\u001b[39m[\u001b[38;5;28mlist\u001b[39m[Scalar]] \u001b[38;5;241m=\u001b[39m []\n\u001b[1;32m    574\u001b[0m last_row_with_data \u001b[38;5;241m=\u001b[39m \u001b[38;5;241m-\u001b[39m\u001b[38;5;241m1\u001b[39m\n\u001b[0;32m--> 575\u001b[0m \u001b[38;5;28;01mfor\u001b[39;00m row_number, row \u001b[38;5;129;01min\u001b[39;00m \u001b[38;5;28menumerate\u001b[39m(sheet\u001b[38;5;241m.\u001b[39mrows):\n\u001b[1;32m    576\u001b[0m     converted_row \u001b[38;5;241m=\u001b[39m [\u001b[38;5;28mself\u001b[39m\u001b[38;5;241m.\u001b[39m_convert_cell(cell, convert_float) \u001b[38;5;28;01mfor\u001b[39;00m cell \u001b[38;5;129;01min\u001b[39;00m row]\n\u001b[1;32m    577\u001b[0m     \u001b[38;5;28;01mwhile\u001b[39;00m converted_row \u001b[38;5;129;01mand\u001b[39;00m converted_row[\u001b[38;5;241m-\u001b[39m\u001b[38;5;241m1\u001b[39m] \u001b[38;5;241m==\u001b[39m \u001b[38;5;124m\"\u001b[39m\u001b[38;5;124m\"\u001b[39m:\n\u001b[1;32m    578\u001b[0m         \u001b[38;5;66;03m# trim trailing empty elements\u001b[39;00m\n",
      "File \u001b[0;32m~/miniconda3/lib/python3.8/site-packages/openpyxl/worksheet/_read_only.py:79\u001b[0m, in \u001b[0;36mReadOnlyWorksheet._cells_by_row\u001b[0;34m(self, min_col, min_row, max_col, max_row, values_only)\u001b[0m\n\u001b[1;32m     75\u001b[0m src \u001b[38;5;241m=\u001b[39m \u001b[38;5;28mself\u001b[39m\u001b[38;5;241m.\u001b[39m_get_source()\n\u001b[1;32m     76\u001b[0m parser \u001b[38;5;241m=\u001b[39m WorkSheetParser(src, \u001b[38;5;28mself\u001b[39m\u001b[38;5;241m.\u001b[39m_shared_strings,\n\u001b[1;32m     77\u001b[0m                          data_only\u001b[38;5;241m=\u001b[39m\u001b[38;5;28mself\u001b[39m\u001b[38;5;241m.\u001b[39mparent\u001b[38;5;241m.\u001b[39mdata_only, epoch\u001b[38;5;241m=\u001b[39m\u001b[38;5;28mself\u001b[39m\u001b[38;5;241m.\u001b[39mparent\u001b[38;5;241m.\u001b[39mepoch,\n\u001b[1;32m     78\u001b[0m                          date_formats\u001b[38;5;241m=\u001b[39m\u001b[38;5;28mself\u001b[39m\u001b[38;5;241m.\u001b[39mparent\u001b[38;5;241m.\u001b[39m_date_formats)\n\u001b[0;32m---> 79\u001b[0m \u001b[38;5;28;01mfor\u001b[39;00m idx, row \u001b[38;5;129;01min\u001b[39;00m parser\u001b[38;5;241m.\u001b[39mparse():\n\u001b[1;32m     80\u001b[0m     \u001b[38;5;28;01mif\u001b[39;00m max_row \u001b[38;5;129;01mis\u001b[39;00m \u001b[38;5;129;01mnot\u001b[39;00m \u001b[38;5;28;01mNone\u001b[39;00m \u001b[38;5;129;01mand\u001b[39;00m idx \u001b[38;5;241m>\u001b[39m max_row:\n\u001b[1;32m     81\u001b[0m         \u001b[38;5;28;01mbreak\u001b[39;00m\n",
      "File \u001b[0;32m~/miniconda3/lib/python3.8/site-packages/openpyxl/worksheet/_reader.py:144\u001b[0m, in \u001b[0;36mWorkSheetParser.parse\u001b[0;34m(self)\u001b[0m\n\u001b[1;32m    125\u001b[0m properties \u001b[38;5;241m=\u001b[39m {\n\u001b[1;32m    126\u001b[0m     PRINT_TAG: (\u001b[38;5;124m'\u001b[39m\u001b[38;5;124mprint_options\u001b[39m\u001b[38;5;124m'\u001b[39m, PrintOptions),\n\u001b[1;32m    127\u001b[0m     MARGINS_TAG: (\u001b[38;5;124m'\u001b[39m\u001b[38;5;124mpage_margins\u001b[39m\u001b[38;5;124m'\u001b[39m, PageMargins),\n\u001b[0;32m   (...)\u001b[0m\n\u001b[1;32m    139\u001b[0m \n\u001b[1;32m    140\u001b[0m }\n\u001b[1;32m    142\u001b[0m it \u001b[38;5;241m=\u001b[39m iterparse(\u001b[38;5;28mself\u001b[39m\u001b[38;5;241m.\u001b[39msource) \u001b[38;5;66;03m# add a finaliser to close the source when this becomes possible\u001b[39;00m\n\u001b[0;32m--> 144\u001b[0m \u001b[38;5;28;01mfor\u001b[39;00m _, element \u001b[38;5;129;01min\u001b[39;00m it:\n\u001b[1;32m    145\u001b[0m     tag_name \u001b[38;5;241m=\u001b[39m element\u001b[38;5;241m.\u001b[39mtag\n\u001b[1;32m    146\u001b[0m     \u001b[38;5;28;01mif\u001b[39;00m tag_name \u001b[38;5;129;01min\u001b[39;00m dispatcher:\n",
      "File \u001b[0;32m~/miniconda3/lib/python3.8/xml/etree/ElementTree.py:1232\u001b[0m, in \u001b[0;36miterparse.<locals>.iterator\u001b[0;34m()\u001b[0m\n\u001b[1;32m   1230\u001b[0m     \u001b[38;5;28;01mif\u001b[39;00m \u001b[38;5;129;01mnot\u001b[39;00m data:\n\u001b[1;32m   1231\u001b[0m         \u001b[38;5;28;01mbreak\u001b[39;00m\n\u001b[0;32m-> 1232\u001b[0m     \u001b[43mpullparser\u001b[49m\u001b[38;5;241;43m.\u001b[39;49m\u001b[43mfeed\u001b[49m\u001b[43m(\u001b[49m\u001b[43mdata\u001b[49m\u001b[43m)\u001b[49m\n\u001b[1;32m   1233\u001b[0m root \u001b[38;5;241m=\u001b[39m pullparser\u001b[38;5;241m.\u001b[39m_close_and_return_root()\n\u001b[1;32m   1234\u001b[0m \u001b[38;5;28;01myield from\u001b[39;00m pullparser\u001b[38;5;241m.\u001b[39mread_events()\n",
      "File \u001b[0;32m~/miniconda3/lib/python3.8/xml/etree/ElementTree.py:1274\u001b[0m, in \u001b[0;36mXMLPullParser.feed\u001b[0;34m(self, data)\u001b[0m\n\u001b[1;32m   1272\u001b[0m \u001b[38;5;28;01mif\u001b[39;00m data:\n\u001b[1;32m   1273\u001b[0m     \u001b[38;5;28;01mtry\u001b[39;00m:\n\u001b[0;32m-> 1274\u001b[0m         \u001b[38;5;28;43mself\u001b[39;49m\u001b[38;5;241;43m.\u001b[39;49m\u001b[43m_parser\u001b[49m\u001b[38;5;241;43m.\u001b[39;49m\u001b[43mfeed\u001b[49m\u001b[43m(\u001b[49m\u001b[43mdata\u001b[49m\u001b[43m)\u001b[49m\n\u001b[1;32m   1275\u001b[0m     \u001b[38;5;28;01mexcept\u001b[39;00m \u001b[38;5;167;01mSyntaxError\u001b[39;00m \u001b[38;5;28;01mas\u001b[39;00m exc:\n\u001b[1;32m   1276\u001b[0m         \u001b[38;5;28mself\u001b[39m\u001b[38;5;241m.\u001b[39m_events_queue\u001b[38;5;241m.\u001b[39mappend(exc)\n",
      "File \u001b[0;32m~/miniconda3/lib/python3.8/xml/etree/ElementTree.py:1693\u001b[0m, in \u001b[0;36mXMLParser.feed\u001b[0;34m(self, data)\u001b[0m\n\u001b[1;32m   1691\u001b[0m \u001b[38;5;124;03m\"\"\"Feed encoded data to parser.\"\"\"\u001b[39;00m\n\u001b[1;32m   1692\u001b[0m \u001b[38;5;28;01mtry\u001b[39;00m:\n\u001b[0;32m-> 1693\u001b[0m     \u001b[38;5;28;43mself\u001b[39;49m\u001b[38;5;241;43m.\u001b[39;49m\u001b[43mparser\u001b[49m\u001b[38;5;241;43m.\u001b[39;49m\u001b[43mParse\u001b[49m\u001b[43m(\u001b[49m\u001b[43mdata\u001b[49m\u001b[43m,\u001b[49m\u001b[43m \u001b[49m\u001b[38;5;241;43m0\u001b[39;49m\u001b[43m)\u001b[49m\n\u001b[1;32m   1694\u001b[0m \u001b[38;5;28;01mexcept\u001b[39;00m \u001b[38;5;28mself\u001b[39m\u001b[38;5;241m.\u001b[39m_error \u001b[38;5;28;01mas\u001b[39;00m v:\n\u001b[1;32m   1695\u001b[0m     \u001b[38;5;28mself\u001b[39m\u001b[38;5;241m.\u001b[39m_raiseerror(v)\n",
      "File \u001b[0;32m/tmp/build/80754af9/python-split_1634043551344/work/Modules/pyexpat.c:461\u001b[0m, in \u001b[0;36mEndElement\u001b[0;34m()\u001b[0m\n",
      "File \u001b[0;32m~/miniconda3/lib/python3.8/xml/etree/ElementTree.py:1564\u001b[0m, in \u001b[0;36mXMLParser._setevents.<locals>.handler\u001b[0;34m(tag, event, append, end)\u001b[0m\n\u001b[1;32m   1562\u001b[0m \u001b[38;5;28;01mdef\u001b[39;00m \u001b[38;5;21mhandler\u001b[39m(tag, event\u001b[38;5;241m=\u001b[39mevent_name, append\u001b[38;5;241m=\u001b[39mappend,\n\u001b[1;32m   1563\u001b[0m             end\u001b[38;5;241m=\u001b[39m\u001b[38;5;28mself\u001b[39m\u001b[38;5;241m.\u001b[39m_end):\n\u001b[0;32m-> 1564\u001b[0m     append((event, \u001b[43mend\u001b[49m\u001b[43m(\u001b[49m\u001b[43mtag\u001b[49m\u001b[43m)\u001b[49m))\n",
      "File \u001b[0;32m~/miniconda3/lib/python3.8/xml/etree/ElementTree.py:1634\u001b[0m, in \u001b[0;36mXMLParser._end\u001b[0;34m(self, tag)\u001b[0m\n\u001b[1;32m   1633\u001b[0m \u001b[38;5;28;01mdef\u001b[39;00m \u001b[38;5;21m_end\u001b[39m(\u001b[38;5;28mself\u001b[39m, tag):\n\u001b[0;32m-> 1634\u001b[0m     \u001b[38;5;28;01mreturn\u001b[39;00m \u001b[38;5;28mself\u001b[39m\u001b[38;5;241m.\u001b[39mtarget\u001b[38;5;241m.\u001b[39mend(\u001b[38;5;28;43mself\u001b[39;49m\u001b[38;5;241;43m.\u001b[39;49m\u001b[43m_fixname\u001b[49m\u001b[43m(\u001b[49m\u001b[43mtag\u001b[49m\u001b[43m)\u001b[49m)\n",
      "File \u001b[0;32m~/miniconda3/lib/python3.8/xml/etree/ElementTree.py:1607\u001b[0m, in \u001b[0;36mXMLParser._fixname\u001b[0;34m(self, key)\u001b[0m\n\u001b[1;32m   1604\u001b[0m \u001b[38;5;28;01mdef\u001b[39;00m \u001b[38;5;21m_fixname\u001b[39m(\u001b[38;5;28mself\u001b[39m, key):\n\u001b[1;32m   1605\u001b[0m     \u001b[38;5;66;03m# expand qname, and convert name string to ascii, if possible\u001b[39;00m\n\u001b[1;32m   1606\u001b[0m     \u001b[38;5;28;01mtry\u001b[39;00m:\n\u001b[0;32m-> 1607\u001b[0m         name \u001b[38;5;241m=\u001b[39m \u001b[38;5;28;43mself\u001b[39;49m\u001b[38;5;241;43m.\u001b[39;49m\u001b[43m_names\u001b[49m[key]\n\u001b[1;32m   1608\u001b[0m     \u001b[38;5;28;01mexcept\u001b[39;00m \u001b[38;5;167;01mKeyError\u001b[39;00m:\n\u001b[1;32m   1609\u001b[0m         name \u001b[38;5;241m=\u001b[39m key\n",
      "\u001b[0;31mKeyboardInterrupt\u001b[0m: "
     ]
    }
   ],
   "source": [
    "datafiles = sorted([x for x in (data_path / 'airquality').glob(\"*\") if x.is_dir()])\n",
    "# concatnate all files\n",
    "parts = []\n",
    "for p_year in tqdm(datafiles, total=len(datafiles)):\n",
    "    new_path = data_path / 'airquality' / f'air-seoul-{p_year.name}.csv'\n",
    "    for p in p_year.glob('*'):\n",
    "        \n",
    "        df = load_data(p)\n",
    "        df = filter_seoul(df)\n",
    "        parts.append(df)\n",
    "    \n",
    "    df_all = pd.concat(parts).reset_index(drop=True)\n",
    "    if p_year.name == '2018':\n",
    "        # fillna for air-seoul-2018.csv\n",
    "        # '망' column contains null value due to policy changed\n",
    "        # create dictionary for measure point\n",
    "        m_dict = dict(df_all.loc[~df_all['망'].isna(), ['측정소코드', '망']].drop_duplicates().values)\n",
    "        df_all.loc[df_all['망'].isna(), '망'] = df_all.loc[df_all['망'].isna(), '망'].fillna(df_all['측정소코드'].map(m_dict)).values\n",
    "    \n",
    "    df_all.to_csv(new_path, encoding='utf-8', index=False)\n",
    "    parts = []"
   ]
  },
  {
   "cell_type": "code",
   "execution_count": 17,
   "metadata": {},
   "outputs": [
    {
     "name": "stdout",
     "output_type": "stream",
     "text": [
      "air-seoul-2018.csv: num-unique data: 80, measure_code: 40, district: 48, address: 48\n",
      "air-seoul-2019.csv: num-unique data: 40, measure_code: 40, district: 25, address: 25\n",
      "air-seoul-2020.csv: num-unique data: 40, measure_code: 40, district: 25, address: 25\n",
      "air-seoul-2021.csv: num-unique data: 40, measure_code: 40, district: 25, address: 25\n"
     ]
    }
   ],
   "source": [
    "# change column name and insert into database\n",
    "column_m_dict = {\n",
    "    '지역': 'district', \n",
    "    '측정소코드': 'measure_code', \n",
    "    '측정소명': 'measure_name', \n",
    "    '측정일시': 'datetime', \n",
    "    '주소': 'address',\n",
    "    '망': 'measure_point'\n",
    "}\n",
    "\n",
    "check_miss_match = {}\n",
    "for p in sorted((data_path / 'airquality').glob(\"*.csv\")):\n",
    "    df = pd.read_csv(p, encoding='utf-8').rename(columns=column_m_dict)\n",
    "    c = df.loc[:, ['district', 'measure_point', 'measure_code', 'measure_name', 'address']].drop_duplicates()\n",
    "    check_miss_match[int(p.name.rstrip('\\.csv').split('-')[-1])] = c\n",
    "    print(f\"{p.name}: num-unique data: {len(c)}, measure_code: {len(c['measure_code'].unique())}, district: {len(c['district'].unique())}, address: {len(c['district'].unique())}\")\n",
    "    # saved changed columns\n",
    "    df.to_csv(p, encoding='utf-8', index=False)"
   ]
  },
  {
   "cell_type": "code",
   "execution_count": 18,
   "metadata": {},
   "outputs": [],
   "source": [
    "# fix the district name and address by 2021 version of measurecode\n",
    "code2dist = dict(check_miss_match[2021].loc[:, ['measure_code', 'district']].values)\n",
    "code2add = dict(check_miss_match[2021].loc[:, ['measure_code', 'address']].values)\n",
    "df = pd.read_csv(data_path / 'airquality' / 'air-seoul-2018.csv', encoding='utf-8').rename(columns=column_m_dict)\n",
    "df['district'] = df['measure_code'].map(code2dist)\n",
    "df['address'] = df['measure_code'].map(code2add)\n",
    "df = df.set_index(['measure_code', 'district', 'measure_name', 'address', 'measure_point']).sort_values(['measure_code', 'datetime']).reset_index()\n",
    "\n",
    "# save \n",
    "df.to_csv(data_path / 'airquality' / 'air-seoul-2018.csv', encoding='utf-8', index=False)"
   ]
  },
  {
   "cell_type": "code",
   "execution_count": 5,
   "metadata": {},
   "outputs": [
    {
     "data": {
      "application/vnd.jupyter.widget-view+json": {
       "model_id": "bdeb06318a534d84bb1fb662a2816fd2",
       "version_major": 2,
       "version_minor": 0
      },
      "text/plain": [
       "  0%|          | 0/4 [00:00<?, ?it/s]"
      ]
     },
     "metadata": {},
     "output_type": "display_data"
    }
   ],
   "source": [
    "cur = conn.cursor()\n",
    "cur.execute(\n",
    "    \"\"\"\n",
    "    CREATE TABLE IF NOT EXISTS airmeasure (\n",
    "        sid INTEGER PRIMARY KEY,\n",
    "        measure_code INTEGER NOT NULL UNIQUE,\n",
    "        district TEXT, \n",
    "        measure_name TEXT, \n",
    "        address TEXT, \n",
    "        measure_point TEXT\n",
    "    );\n",
    "    \"\"\"\n",
    ")\n",
    "cur.execute(\n",
    "    \"\"\"\n",
    "    CREATE TABLE IF NOT EXISTS airquality (\n",
    "        airid INTEGER PRIMARY KEY,\n",
    "        measure_code INTEGER, \n",
    "        datetime TEXT, \n",
    "        SO2 REAL, \n",
    "        CO REAL, \n",
    "        O3 REAL,\n",
    "        NO2 REAL, \n",
    "        PM10 REAL, \n",
    "        PM25 REAL, \n",
    "        FOREIGN KEY (measure_code)\n",
    "            REFERENCES airmeasure (measure_code)\n",
    "            ON DELETE CASCADE \n",
    "            ON UPDATE NO ACTION\n",
    "    );\n",
    "    \"\"\"\n",
    ")\n",
    "\n",
    "airmeasure_columns = ['measure_code', 'district', 'measure_name', 'address', 'measure_point']\n",
    "airquality_columns = ['measure_code', 'datetime', 'SO2', 'CO', 'O3', 'NO2', 'PM10', 'PM25']\n",
    "df_airmeasure = None\n",
    "\n",
    "sql_airmeasure = \"\"\"\n",
    "INSERT INTO airmeasure (sid, measure_code, district, measure_name, address, measure_point)\n",
    "VALUES (?, ?, ?, ?, ?, ?);\n",
    "\"\"\"\n",
    "sql_airquality = \"\"\"\n",
    "INSERT INTO airquality (airid, measure_code, datetime, SO2, CO, O3, NO2, PM10, PM25) \n",
    "VALUES (?, ?, ?, ?, ?, ?, ?, ?, ?);\n",
    "\"\"\"\n",
    "idx = 0\n",
    "for p in tqdm(sorted((data_path / 'airquality').glob(\"*.csv\")), total=4):\n",
    "    df = pd.read_csv(p, encoding='utf-8')\n",
    "    df = df.set_index(['measure_code', 'district', 'measure_name', 'address', 'measure_point']).sort_values(['measure_code', 'datetime']).reset_index()\n",
    "\n",
    "    if df_airmeasure is None:\n",
    "        df_airmeasure = df.loc[:, airmeasure_columns].drop_duplicates().reset_index(drop=True)\n",
    "        # insert query\n",
    "        for i, x in df_airmeasure.iterrows():\n",
    "            cur.execute(sql_airmeasure, [i+1] + [x[c] for c in airmeasure_columns])\n",
    "    else:\n",
    "        df_temp = df.loc[:, airmeasure_columns].drop_duplicates().reset_index(drop=True)\n",
    "        if (df_temp != df_airmeasure).sum().sum():\n",
    "            raise ValueError(\"not equal table\")\n",
    "    for m in df_airmeasure['measure_code'].values:\n",
    "        df_airquality = df.loc[df['measure_code'] == m, airquality_columns]\n",
    "        df_airquality['datetime'] = pd.to_datetime(df_airquality['datetime']-1, format='%Y%m%d%H').dt.strftime('%Y-%m-%d %H:%M:%S')\n",
    "        \n",
    "        # insert row\n",
    "        for i, x in df_airquality.iterrows():\n",
    "            idx += 1\n",
    "            cur.execute(sql_airquality, [idx] + [x[c] for c in airquality_columns])\n",
    "\n",
    "cur.close()\n",
    "conn.commit()"
   ]
  },
  {
   "cell_type": "markdown",
   "metadata": {},
   "source": [
    "# Holiday Data"
   ]
  },
  {
   "cell_type": "code",
   "execution_count": 6,
   "metadata": {},
   "outputs": [],
   "source": [
    "from argparse import ArgumentParser\n",
    "from bs4 import BeautifulSoup as Soup\n",
    "import requests\n",
    "from datetime import datetime as dt\n",
    "\n",
    "parser = ArgumentParser()\n",
    "parser.add_argument(\"-i\", \"--interval\", default=1, type=int)\n",
    "parser.add_argument(\"-s\", \"--start\", default=2018, type=int)\n",
    "parser.add_argument(\"-e\", \"--end\", default=2021, type=int)\n",
    "parser.add_argument(\"-c\", \"--country\", default=\"south-korea\")\n",
    "args = parser.parse_known_args()[0]"
   ]
  },
  {
   "cell_type": "code",
   "execution_count": 7,
   "metadata": {},
   "outputs": [],
   "source": [
    "def get_holiday_data(html):\n",
    "    tables = html.find('table', attrs={\"id\": \"holidays-table\"}).find(\"tbody\")\n",
    "    rows = tables.find_all('tr')\n",
    "\n",
    "    data = [(\"date\", \"day\", \"name\", \"type\")]\n",
    "    for r in rows:\n",
    "        tags = r.find_all(\"td\")\n",
    "        if len(tags) == 0:\n",
    "            continue\n",
    "        date = r.attrs[\"data-date\"]\n",
    "        date = dt.fromtimestamp(int(int(date) / 1e3))\n",
    "        new_row = [f\"{date.year:04d}-{date.month:02d}-{date.day:02d}\"] + [x.text.strip() for x in tags]\n",
    "        data.append(new_row)\n",
    "    return data\n",
    "\n",
    "def craw_data(year, country=\"south-korea\"):\n",
    "    url = f\"https://www.timeanddate.com/holidays/{country}/{year}\"\n",
    "    r = requests.get(url)\n",
    "    html = Soup(r.text, \"html5lib\")\n",
    "    return html"
   ]
  },
  {
   "cell_type": "code",
   "execution_count": 8,
   "metadata": {},
   "outputs": [],
   "source": [
    "all_data = []\n",
    "for y in range(args.start, args.end+1):\n",
    "    html = craw_data(y, args.country)\n",
    "    data = get_holiday_data(html)\n",
    "    all_data.append(pd.DataFrame(data[1:], columns=data[0]))\n",
    "    \n",
    "df_holiday = pd.concat(all_data)\n",
    "\n",
    "df_holiday = df_holiday.reset_index(drop=True)\n",
    "df_holiday.to_csv(data_path / f\"holiday_{args.start}-{args.end}.tsv\", sep=\"\\t\", index=False)"
   ]
  },
  {
   "cell_type": "code",
   "execution_count": 9,
   "metadata": {},
   "outputs": [
    {
     "data": {
      "application/vnd.jupyter.widget-view+json": {
       "model_id": "c10bf6977a39438baa10af0dd96cf28f",
       "version_major": 2,
       "version_minor": 0
      },
      "text/plain": [
       "  0%|          | 0/129 [00:00<?, ?it/s]"
      ]
     },
     "metadata": {},
     "output_type": "display_data"
    }
   ],
   "source": [
    "cur = conn.cursor()\n",
    "cur.execute(\n",
    "\"\"\"\n",
    "CREATE TABLE IF NOT EXISTS holiday (\n",
    "    hid INTEGER PRIMARY KEY,\n",
    "    date TEXT,\n",
    "    day TEXT, \n",
    "    name TEXT, \n",
    "    type TEXT\n",
    ");\n",
    "\"\"\"\n",
    ")\n",
    "sql_holiday = \"\"\"\n",
    "INSERT INTO holiday (hid, date, day, name, type)\n",
    "VALUES (?, ?, ?, ?, ?);\n",
    "\"\"\"\n",
    "holiday_columns = ['date', 'day', 'name', 'type']\n",
    "for i, x in tqdm(df_holiday.iterrows(), total=len(df_holiday)):\n",
    "    cur.execute(sql_holiday, [i+1] + [x[c] for c in holiday_columns])\n",
    "\n",
    "cur.close()\n",
    "conn.commit()"
   ]
  },
  {
   "cell_type": "markdown",
   "metadata": {},
   "source": [
    "# Weather Data\n",
    "\n",
    "ASOS: 종관기상관측이란 종관규모의 날씨를 파악하기 위하여 정해진 시각에 모든 관측소에서 같은 시각에 실시하는 지상관측을 말합니다.\n",
    "\n",
    "종관규모는 일기도에 표현되어 있는 보통의 고기압이나 저기압의 공간적 크기 및 수명을 말하며, 주로 매일의 날씨 현상을 뜻합니다.\n",
    "\n",
    "https://data.kma.go.kr/data/grnd/selectAsosRltmList.do?pgmNo=36\n",
    "\n",
    "- 1회 조회 가능 최대 기간: 분 1일, 시간 1년, 일 10년, 월·연 제한 없음(장기간 자료는 '파일셋 조회' 메뉴 이용)\n",
    "- 시간/분 자료에 대해 관측값의 정상 여부를 판단하는 품질검사 플래그(QC FLAG) 정보 제공\n",
    "    * 제공 요소: 기온, 습도, 기압, 지면온도, 풍향, 풍속, 일조 / 플래그 종류(의미): 0(정상), 1(오류), 9(결측)\n",
    "\n",
    "- 전일 자료는 당일 10시 이후 확인 가능\n",
    "\n",
    "http://web.kma.go.kr/communication/knowledge/spring_list.jsp?bid=spring&mode=view&num=247\n",
    "\n",
    "mid cloud?\n",
    "\n",
    "https://www.scienceall.com/%EC%A4%91%EC%B8%B5-%EA%B5%AC%EB%A6%84middle-cloud/\n",
    "\n",
    "현상번호?\n",
    "\n",
    "https://data.kma.go.kr/community/board/selectBoardList.do?bbrdTypeNo=3&pgmNo=95\n",
    "\n",
    "시정?\n",
    "\n",
    "https://ko.wikipedia.org/wiki/%EC%8B%9C%EC%A0%95"
   ]
  },
  {
   "cell_type": "code",
   "execution_count": 19,
   "metadata": {},
   "outputs": [],
   "source": [
    "columns = {\n",
    "    '지점': 'measure_code', \n",
    "    '지점명': 'measure_name', \n",
    "    '일시': 'datetime', \n",
    "    '기온(°C)': 'temperature', \n",
    "    '기온 QC플래그': 'temperature_flag',\n",
    "    '강수량(mm)': 'precipitation', \n",
    "    '강수량 QC플래그': 'precipitation_flag',\n",
    "    '풍속(m/s)': 'wind_speed', \n",
    "    '풍속 QC플래그': 'wind_speed_flag',\n",
    "    '풍향(16방위)': 'wind_direction', \n",
    "    '풍향 QC플래그': 'wind_direction_flag', \n",
    "    '습도(%)': 'humidity', \n",
    "    '습도 QC플래그': 'humidity_flag',\n",
    "    '증기압(hPa)': 'vapor_pressure', \n",
    "    '이슬점온도(°C)': 'dew_point_temperature', \n",
    "    '현지기압(hPa)': 'local_pressure', \n",
    "    '현지기압 QC플래그': 'local_pressure_flag', \n",
    "    '해면기압(hPa)': 'sea_level_pressure',\n",
    "    '해면기압 QC플래그': 'sea_level_pressure_flag', \n",
    "    '일조(hr)': 'sunshine', \n",
    "    '일조 QC플래그': 'sunshine_flag', \n",
    "    '일사(MJ/m2)': 'solar_radiation', \n",
    "    '일사 QC플래그': 'solar_radiation_flag', \n",
    "    '적설(cm)': 'snow',\n",
    "    '3시간신적설(cm)': 'snow_3hour', \n",
    "    '전운량(10분위)': 'cloud', \n",
    "    '중하층운량(10분위)': 'mid_level_cloud',\n",
    "    '운형(운형약어)': 'cloud_type', \n",
    "    '최저운고(100m )': 'lowest_cloud',\n",
    "    '시정(10m)': 'visibility', \n",
    "    '지면상태(지면상태코드)': 'ground_status_code', \n",
    "    '현상번호(국내식)': 'weather_status_code', \n",
    "    '지면온도(°C)': 'ground_temperature', \n",
    "    '지면온도 QC플래그': 'ground_temperature_flag',\n",
    "    '5cm 지중온도(°C)': '5cm_soil_temperature', \n",
    "    '10cm 지중온도(°C)': '10cm_soil_temperature', \n",
    "    '20cm 지중온도(°C)': '20cm_soil_temperature', \n",
    "    '30cm 지중온도(°C)': '30cm_soil_temperature'\n",
    "}\n",
    "\n",
    "data = []\n",
    "for year in [2018, 2019, 2020, 2021]:\n",
    "    df = pd.read_csv(data_path / \"weather\" / f\"{year}년.csv\", encoding=\"euc-kr\")\n",
    "    df = df.rename(columns=columns)\n",
    "    df['datetime'] = pd.to_datetime(df['datetime'], format='%Y-%m-%d %H:%M').dt.strftime('%Y-%m-%d %H:%M:%S')\n",
    "    data.append(df)\n",
    "df_weather = pd.concat(data).reset_index(drop=True)"
   ]
  },
  {
   "cell_type": "code",
   "execution_count": 9,
   "metadata": {},
   "outputs": [
    {
     "data": {
      "application/vnd.jupyter.widget-view+json": {
       "model_id": "22444d258c1e4075b9dc552000cdf23c",
       "version_major": 2,
       "version_minor": 0
      },
      "text/plain": [
       "  0%|          | 0/31392 [00:00<?, ?it/s]"
      ]
     },
     "metadata": {},
     "output_type": "display_data"
    }
   ],
   "source": [
    "cur = conn.cursor()\n",
    "cur.execute(\n",
    "\"\"\"\n",
    "CREATE TABLE IF NOT EXISTS weather (\n",
    "    wid INTEGER PRIMARY KEY,\n",
    "    measure_code INTEGER,\n",
    "    measure_name TEXT,\n",
    "    datetime TEXT,\n",
    "    temperature REAL,\n",
    "    temperature_flag REAL,\n",
    "    precipitation REAL,\n",
    "    precipitation_flag REAL,\n",
    "    wind_speed REAL,\n",
    "    wind_speed_flag REAL,\n",
    "    wind_direction REAL,\n",
    "    wind_direction_flag REAL,\n",
    "    humidity REAL,\n",
    "    humidity_flag REAL,\n",
    "    vapor_pressure REAL,\n",
    "    dew_point_temperature REAL,\n",
    "    local_pressure REAL,\n",
    "    local_pressure_flag REAL,\n",
    "    sea_level_pressure REAL,\n",
    "    sea_level_pressure_flag REAL,\n",
    "    sunshine REAL,\n",
    "    sunshine_flag REAL,\n",
    "    solar_radiation REAL,\n",
    "    solar_radiation_flag REAL,\n",
    "    snow REAL,\n",
    "    snow_3hour REAL,\n",
    "    cloud REAL,\n",
    "    mid_level_cloud REAL,\n",
    "    cloud_type TEXT,\n",
    "    lowest_cloud REAL,\n",
    "    visibility INTEGER,\n",
    "    ground_status_code REAL,\n",
    "    weather_status_code REAL,\n",
    "    ground_temperature REAL,\n",
    "    ground_temperature_flag REAL,\n",
    "    '5cm_soil_temperature' REAL,\n",
    "    '10cm_soil_temperature' REAL,\n",
    "    '20cm_soil_temperature' REAL,\n",
    "    '30cm_soil_temperature' REAL\n",
    ");\n",
    "\"\"\"\n",
    ")\n",
    "\n",
    "weather_columns = [\n",
    "    'measure_code', 'measure_name', 'datetime', 'temperature',\n",
    "    'temperature_flag', 'precipitation', 'precipitation_flag',\n",
    "    'wind_speed', 'wind_speed_flag', 'wind_direction',\n",
    "    'wind_direction_flag', 'humidity', 'humidity_flag',\n",
    "    'vapor_pressure', 'dew_point_temperature', 'local_pressure',\n",
    "    'local_pressure_flag', 'sea_level_pressure',\n",
    "    'sea_level_pressure_flag', 'sunshine', 'sunshine_flag',\n",
    "    'solar_radiation', 'solar_radiation_flag', 'snow', 'snow_3hour',\n",
    "    'cloud', 'mid_level_cloud', 'cloud_type', 'lowest_cloud',\n",
    "    'visibility', 'ground_status_code', 'weather_status_code',\n",
    "    'ground_temperature', 'ground_temperature_flag',\n",
    "    '5cm_soil_temperature', '10cm_soil_temperature',\n",
    "    '20cm_soil_temperature', '30cm_soil_temperature'\n",
    "]\n",
    "sql_weather = f\"\"\"\n",
    "INSERT INTO weather ('wid', {', '.join([f\"'{x}'\" for x in weather_columns])})\n",
    "VALUES (?{', ?'*(len(weather_columns))} );\n",
    "\"\"\"\n",
    "\n",
    "for i, x in tqdm(df_weather.iterrows(), total=len(df_weather)):\n",
    "    cur.execute(sql_weather, [i+1] + [x[c] for c in weather_columns])\n",
    "\n",
    "cur.close()\n",
    "conn.commit()"
   ]
  },
  {
   "cell_type": "code",
   "execution_count": 12,
   "metadata": {},
   "outputs": [],
   "source": [
    "sql = \"\"\"SELECT * FROM sqlite_master WHERE type='table'\n",
    "\"\"\"\n",
    "cur = conn.cursor()\n",
    "res = cur.execute(sql).fetchall()\n",
    "cur.close()"
   ]
  },
  {
   "cell_type": "code",
   "execution_count": 14,
   "metadata": {},
   "outputs": [
    {
     "name": "stdout",
     "output_type": "stream",
     "text": [
      "airmeasure\n",
      "airquality\n",
      "holiday\n",
      "weather\n"
     ]
    }
   ],
   "source": [
    "for x in res:\n",
    "    print(x[1])"
   ]
  },
  {
   "cell_type": "code",
   "execution_count": null,
   "metadata": {},
   "outputs": [],
   "source": []
  }
 ],
 "metadata": {
  "interpreter": {
   "hash": "ab7f212329a491b497f27876271d03c022f2dd26760015eef69af619991238fd"
  },
  "kernelspec": {
   "display_name": "Python 3.8.12 ('venv')",
   "language": "python",
   "name": "python3"
  },
  "language_info": {
   "codemirror_mode": {
    "name": "ipython",
    "version": 3
   },
   "file_extension": ".py",
   "mimetype": "text/x-python",
   "name": "python",
   "nbconvert_exporter": "python",
   "pygments_lexer": "ipython3",
   "version": "3.8.12"
  }
 },
 "nbformat": 4,
 "nbformat_minor": 2
}