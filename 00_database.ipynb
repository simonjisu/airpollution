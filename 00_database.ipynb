{
 "cells": [
  {
   "cell_type": "code",
   "execution_count": 1,
   "metadata": {},
   "outputs": [],
   "source": [
    "import os\n",
    "import sqlite3\n",
    "import pandas as pd\n",
    "from pathlib import Path\n",
    "\n",
    "from collections import defaultdict\n",
    "from tqdm.notebook import tqdm\n",
    "from typing import Any, Union\n",
    "\n",
    "import dask\n",
    "import dask.dataframe as dd\n",
    "\n",
    "data_path = Path() / 'data' \n"
   ]
  },
  {
   "cell_type": "markdown",
   "metadata": {},
   "source": [
    "# SQLite3 Database"
   ]
  },
  {
   "cell_type": "code",
   "execution_count": 2,
   "metadata": {},
   "outputs": [],
   "source": [
    "conn = sqlite3.connect(\"airpollution.db\")"
   ]
  },
  {
   "cell_type": "markdown",
   "metadata": {},
   "source": [
    "# Airquality Data"
   ]
  },
  {
   "cell_type": "code",
   "execution_count": 3,
   "metadata": {},
   "outputs": [],
   "source": [
    "def load_data(path:Path) -> pd.DataFrame:\n",
    "    \"\"\"Load data function\n",
    "\n",
    "    Args:\n",
    "        path (Path): path of data with file name\n",
    "        enc (str, optional): encoding. Defaults to 'utf-8'.\n",
    "    Returns:\n",
    "        pd.DataFrame \n",
    "    \"\"\"    \n",
    "    if path.name.split('.')[-1] == 'xlsx':\n",
    "        df = pd.read_excel(path)\n",
    "    else:\n",
    "        try:\n",
    "            df = pd.read_csv(path, encoding='cp949')\n",
    "        except UnicodeDecodeError:\n",
    "            df = pd.read_csv(path, encoding='utf-8')\n",
    "\n",
    "    return df\n",
    "\n",
    "def filter_seoul(df):\n",
    "    return df.loc[df['지역'].str.contains('서울'), :]"
   ]
  },
  {
   "cell_type": "code",
   "execution_count": 5,
   "metadata": {},
   "outputs": [
    {
     "data": {
      "application/vnd.jupyter.widget-view+json": {
       "model_id": "7de29ffb75524f6aa00f4af0c9e6a8b0",
       "version_major": 2,
       "version_minor": 0
      },
      "text/plain": [
       "  0%|          | 0/4 [00:00<?, ?it/s]"
      ]
     },
     "metadata": {},
     "output_type": "display_data"
    }
   ],
   "source": [
    "datafiles = sorted([x for x in (data_path / 'airquality').glob(\"*\") if x.is_dir()])\n",
    "\n",
    "# concatnate all files\n",
    "parts = []\n",
    "for p_year in tqdm(datafiles, total=len(datafiles)):\n",
    "    new_path = data_path / 'airquality' / f'air-seoul-{p_year.name}.csv'\n",
    "    for p in p_year.glob('*'):\n",
    "        \n",
    "        df = load_data(p)\n",
    "        df = filter_seoul(df)\n",
    "        parts.append(df)\n",
    "    \n",
    "    df_all = pd.concat(parts).reset_index(drop=True)\n",
    "    if p_year.name == '2018':\n",
    "        # fillna for air-seoul-2018.csv\n",
    "        # '망' column contains null value due to policy changed\n",
    "        # create dictionary for measure point\n",
    "        m_dict = dict(df_all.loc[~df_all['망'].isna(), ['측정소코드', '망']].drop_duplicates().values)\n",
    "        df_all.loc[df_all['망'].isna(), '망'] = df_all.loc[df_all['망'].isna(), '망'].fillna(df_all['측정소코드'].map(m_dict)).values\n",
    "    \n",
    "    df_all.to_csv(new_path, encoding='utf-8', index=False)\n",
    "    parts = []"
   ]
  },
  {
   "cell_type": "code",
   "execution_count": 32,
   "metadata": {},
   "outputs": [],
   "source": [
    "# change column name and insert into database\n",
    "column_m_dict = {\n",
    "    '지역': 'district', \n",
    "    '측정소코드': 'measurecode', \n",
    "    '측정소명': 'measurename', \n",
    "    '측정일시': 'date', \n",
    "    '주소': 'address',\n",
    "    '망': 'measurepoint'\n",
    "}\n",
    "\n",
    "cur = conn.cursor()\n",
    "cur.execute(\n",
    "    \"\"\"\n",
    "    CREATE TABLE IF NOT EXISTS airmeasure (\n",
    "        sid INTEGER PRIMARY KEY,\n",
    "        measurecode INTEGER NOT NULL UNIQUE,\n",
    "        district TEXT, \n",
    "        measurename TEXT, \n",
    "        address TEXT, \n",
    "        measurepoint TEXT\n",
    "    );\n",
    "    \"\"\"\n",
    ")\n",
    "\n",
    "cur.execute(\n",
    "    \"\"\"\n",
    "    CREATE TABLE IF NOT EXISTS airquality (\n",
    "        airid INTEGER PRIMARY KEY,\n",
    "        measurecode INTEGER, \n",
    "        date TEXT, \n",
    "        SO2 REAL, \n",
    "        CO REAL, \n",
    "        O3 REAL,\n",
    "        NO2 REAL, \n",
    "        PM10 REAL, \n",
    "        PM25 REAL, \n",
    "        FOREIGN KEY (measurecode)\n",
    "            REFERENCES airmeasure (measurecode)\n",
    "            ON DELETE CASCADE \n",
    "            ON UPDATE NO ACTION\n",
    "    );\n",
    "    \"\"\"\n",
    ")\n",
    "for p in (data_path / 'airquality').glob(\"*.csv\"):\n",
    "    df = pd.read_csv(p, encoding='utf-8').rename(columns=column_m_dict)\n",
    "    \n",
    "    df['date'] = pd.to_datetime(df['date']-1, format='%Y%m%d%H').dt.strftime('%Y-%m-%d %H')\n",
    "    break"
   ]
  },
  {
   "cell_type": "code",
   "execution_count": 20,
   "metadata": {},
   "outputs": [
    {
     "data": {
      "text/plain": [
       "Index(['district', 'measurecode', 'measurename', 'date', 'SO2', 'CO', 'O3',\n",
       "       'NO2', 'PM10', 'PM25', 'address', 'measurepoint'],\n",
       "      dtype='object')"
      ]
     },
     "execution_count": 20,
     "metadata": {},
     "output_type": "execute_result"
    }
   ],
   "source": [
    "df.set_index(['district', 'measurecode', 'measurename', 'address'])"
   ]
  },
  {
   "cell_type": "code",
   "execution_count": 33,
   "metadata": {},
   "outputs": [
    {
     "data": {
      "text/html": [
       "<div>\n",
       "<style scoped>\n",
       "    .dataframe tbody tr th:only-of-type {\n",
       "        vertical-align: middle;\n",
       "    }\n",
       "\n",
       "    .dataframe tbody tr th {\n",
       "        vertical-align: top;\n",
       "    }\n",
       "\n",
       "    .dataframe thead th {\n",
       "        text-align: right;\n",
       "    }\n",
       "</style>\n",
       "<table border=\"1\" class=\"dataframe\">\n",
       "  <thead>\n",
       "    <tr style=\"text-align: right;\">\n",
       "      <th></th>\n",
       "      <th>district</th>\n",
       "      <th>measurecode</th>\n",
       "      <th>measurename</th>\n",
       "      <th>date</th>\n",
       "      <th>SO2</th>\n",
       "      <th>CO</th>\n",
       "      <th>O3</th>\n",
       "      <th>NO2</th>\n",
       "      <th>PM10</th>\n",
       "      <th>PM25</th>\n",
       "      <th>address</th>\n",
       "      <th>measurepoint</th>\n",
       "    </tr>\n",
       "  </thead>\n",
       "  <tbody>\n",
       "    <tr>\n",
       "      <th>0</th>\n",
       "      <td>서울 중구</td>\n",
       "      <td>111121</td>\n",
       "      <td>중구</td>\n",
       "      <td>2018-01-01 00</td>\n",
       "      <td>0.004</td>\n",
       "      <td>0.5</td>\n",
       "      <td>0.020</td>\n",
       "      <td>0.020</td>\n",
       "      <td>34.0</td>\n",
       "      <td>19.0</td>\n",
       "      <td>서울 중구 덕수궁길 15</td>\n",
       "      <td>도시대기</td>\n",
       "    </tr>\n",
       "    <tr>\n",
       "      <th>1</th>\n",
       "      <td>서울 중구</td>\n",
       "      <td>111121</td>\n",
       "      <td>중구</td>\n",
       "      <td>2018-01-01 01</td>\n",
       "      <td>0.004</td>\n",
       "      <td>0.4</td>\n",
       "      <td>0.024</td>\n",
       "      <td>0.016</td>\n",
       "      <td>27.0</td>\n",
       "      <td>14.0</td>\n",
       "      <td>서울 중구 덕수궁길 15</td>\n",
       "      <td>도시대기</td>\n",
       "    </tr>\n",
       "    <tr>\n",
       "      <th>2</th>\n",
       "      <td>서울 중구</td>\n",
       "      <td>111121</td>\n",
       "      <td>중구</td>\n",
       "      <td>2018-01-01 02</td>\n",
       "      <td>0.004</td>\n",
       "      <td>0.4</td>\n",
       "      <td>0.018</td>\n",
       "      <td>0.022</td>\n",
       "      <td>26.0</td>\n",
       "      <td>14.0</td>\n",
       "      <td>서울 중구 덕수궁길 15</td>\n",
       "      <td>도시대기</td>\n",
       "    </tr>\n",
       "    <tr>\n",
       "      <th>3</th>\n",
       "      <td>서울 중구</td>\n",
       "      <td>111121</td>\n",
       "      <td>중구</td>\n",
       "      <td>2018-01-01 03</td>\n",
       "      <td>0.004</td>\n",
       "      <td>0.5</td>\n",
       "      <td>0.010</td>\n",
       "      <td>0.030</td>\n",
       "      <td>26.0</td>\n",
       "      <td>15.0</td>\n",
       "      <td>서울 중구 덕수궁길 15</td>\n",
       "      <td>도시대기</td>\n",
       "    </tr>\n",
       "    <tr>\n",
       "      <th>4</th>\n",
       "      <td>서울 중구</td>\n",
       "      <td>111121</td>\n",
       "      <td>중구</td>\n",
       "      <td>2018-01-01 04</td>\n",
       "      <td>0.004</td>\n",
       "      <td>0.6</td>\n",
       "      <td>0.011</td>\n",
       "      <td>0.029</td>\n",
       "      <td>28.0</td>\n",
       "      <td>16.0</td>\n",
       "      <td>서울 중구 덕수궁길 15</td>\n",
       "      <td>도시대기</td>\n",
       "    </tr>\n",
       "  </tbody>\n",
       "</table>\n",
       "</div>"
      ],
      "text/plain": [
       "  district  measurecode measurename           date    SO2   CO     O3    NO2  \\\n",
       "0    서울 중구       111121          중구  2018-01-01 00  0.004  0.5  0.020  0.020   \n",
       "1    서울 중구       111121          중구  2018-01-01 01  0.004  0.4  0.024  0.016   \n",
       "2    서울 중구       111121          중구  2018-01-01 02  0.004  0.4  0.018  0.022   \n",
       "3    서울 중구       111121          중구  2018-01-01 03  0.004  0.5  0.010  0.030   \n",
       "4    서울 중구       111121          중구  2018-01-01 04  0.004  0.6  0.011  0.029   \n",
       "\n",
       "   PM10  PM25        address measurepoint  \n",
       "0  34.0  19.0  서울 중구 덕수궁길 15         도시대기  \n",
       "1  27.0  14.0  서울 중구 덕수궁길 15         도시대기  \n",
       "2  26.0  14.0  서울 중구 덕수궁길 15         도시대기  \n",
       "3  26.0  15.0  서울 중구 덕수궁길 15         도시대기  \n",
       "4  28.0  16.0  서울 중구 덕수궁길 15         도시대기  "
      ]
     },
     "execution_count": 33,
     "metadata": {},
     "output_type": "execute_result"
    }
   ],
   "source": [
    "df.head()"
   ]
  },
  {
   "cell_type": "code",
   "execution_count": 25,
   "metadata": {},
   "outputs": [],
   "source": [
    "from datetime import datetime as dt\n",
    "dt.strptime()"
   ]
  },
  {
   "cell_type": "code",
   "execution_count": 28,
   "metadata": {},
   "outputs": [
    {
     "data": {
      "text/plain": [
       "0         2018-01-01 00\n",
       "1         2018-01-01 01\n",
       "2         2018-01-01 02\n",
       "3         2018-01-01 03\n",
       "4         2018-01-01 04\n",
       "              ...      \n",
       "343099    2018-12-31 19\n",
       "343100    2018-12-31 20\n",
       "343101    2018-12-31 21\n",
       "343102    2018-12-31 22\n",
       "343103    2018-12-31 23\n",
       "Name: date, Length: 343104, dtype: object"
      ]
     },
     "execution_count": 28,
     "metadata": {},
     "output_type": "execute_result"
    }
   ],
   "source": [
    "df['date'].dt.strftime('%Y-%m-%d %H')"
   ]
  },
  {
   "cell_type": "code",
   "execution_count": 15,
   "metadata": {},
   "outputs": [
    {
     "data": {
      "text/plain": [
       "0         2018010100\n",
       "1         2018010101\n",
       "2         2018010102\n",
       "3         2018010103\n",
       "4         2018010104\n",
       "             ...    \n",
       "343099    2018123119\n",
       "343100    2018123120\n",
       "343101    2018123121\n",
       "343102    2018123122\n",
       "343103    2018123123\n",
       "Name: date, Length: 343104, dtype: int64"
      ]
     },
     "execution_count": 15,
     "metadata": {},
     "output_type": "execute_result"
    }
   ],
   "source": [
    "df['date'] - 1"
   ]
  },
  {
   "cell_type": "code",
   "execution_count": 24,
   "metadata": {},
   "outputs": [
    {
     "name": "stderr",
     "output_type": "stream",
     "text": [
      "C:\\Users\\simon\\AppData\\Local\\Temp\\ipykernel_4620\\158533918.py:1: DtypeWarning: Columns (11) have mixed types. Specify dtype option on import or set low_memory=False.\n",
      "  df = pd.read_csv(p, encoding='utf-8')\n"
     ]
    }
   ],
   "source": []
  },
  {
   "cell_type": "code",
   "execution_count": 51,
   "metadata": {},
   "outputs": [
    {
     "data": {
      "text/plain": [
       "343104"
      ]
     },
     "execution_count": 51,
     "metadata": {},
     "output_type": "execute_result"
    }
   ],
   "source": [
    "len(df)"
   ]
  },
  {
   "cell_type": "markdown",
   "metadata": {},
   "source": [
    "# Traffic Data"
   ]
  },
  {
   "cell_type": "code",
   "execution_count": 19,
   "metadata": {},
   "outputs": [],
   "source": [
    "datafiles = sorted([x for x in (data_path / 'traffic').glob(\"*\") if x.is_dir()])\n",
    "p = next(datafiles[-1].glob('*'))\n",
    "\n",
    "df = pd.read_excel(p)"
   ]
  },
  {
   "cell_type": "code",
   "execution_count": 20,
   "metadata": {},
   "outputs": [
    {
     "ename": "KeyError",
     "evalue": "'지점명'",
     "output_type": "error",
     "traceback": [
      "\u001b[1;31m---------------------------------------------------------------------------\u001b[0m",
      "\u001b[1;31mKeyError\u001b[0m                                  Traceback (most recent call last)",
      "File \u001b[1;32m~\\miniconda3\\envs\\venv\\lib\\site-packages\\pandas\\core\\indexes\\base.py:3621\u001b[0m, in \u001b[0;36mIndex.get_loc\u001b[1;34m(self, key, method, tolerance)\u001b[0m\n\u001b[0;32m   <a href='file:///c%3A/Users/simon/miniconda3/envs/venv/lib/site-packages/pandas/core/indexes/base.py?line=3619'>3620</a>\u001b[0m \u001b[39mtry\u001b[39;00m:\n\u001b[1;32m-> <a href='file:///c%3A/Users/simon/miniconda3/envs/venv/lib/site-packages/pandas/core/indexes/base.py?line=3620'>3621</a>\u001b[0m     \u001b[39mreturn\u001b[39;00m \u001b[39mself\u001b[39;49m\u001b[39m.\u001b[39;49m_engine\u001b[39m.\u001b[39;49mget_loc(casted_key)\n\u001b[0;32m   <a href='file:///c%3A/Users/simon/miniconda3/envs/venv/lib/site-packages/pandas/core/indexes/base.py?line=3621'>3622</a>\u001b[0m \u001b[39mexcept\u001b[39;00m \u001b[39mKeyError\u001b[39;00m \u001b[39mas\u001b[39;00m err:\n",
      "File \u001b[1;32m~\\miniconda3\\envs\\venv\\lib\\site-packages\\pandas\\_libs\\index.pyx:136\u001b[0m, in \u001b[0;36mpandas._libs.index.IndexEngine.get_loc\u001b[1;34m()\u001b[0m\n",
      "File \u001b[1;32m~\\miniconda3\\envs\\venv\\lib\\site-packages\\pandas\\_libs\\index.pyx:163\u001b[0m, in \u001b[0;36mpandas._libs.index.IndexEngine.get_loc\u001b[1;34m()\u001b[0m\n",
      "File \u001b[1;32mpandas\\_libs\\hashtable_class_helper.pxi:5198\u001b[0m, in \u001b[0;36mpandas._libs.hashtable.PyObjectHashTable.get_item\u001b[1;34m()\u001b[0m\n",
      "File \u001b[1;32mpandas\\_libs\\hashtable_class_helper.pxi:5206\u001b[0m, in \u001b[0;36mpandas._libs.hashtable.PyObjectHashTable.get_item\u001b[1;34m()\u001b[0m\n",
      "\u001b[1;31mKeyError\u001b[0m: '지점명'",
      "\nThe above exception was the direct cause of the following exception:\n",
      "\u001b[1;31mKeyError\u001b[0m                                  Traceback (most recent call last)",
      "\u001b[1;32mc:\\Users\\simon\\Desktop\\Codes\\airpollution\\00_database.ipynb Cell 9'\u001b[0m in \u001b[0;36m<cell line: 1>\u001b[1;34m()\u001b[0m\n\u001b[1;32m----> <a href='vscode-notebook-cell:/c%3A/Users/simon/Desktop/Codes/airpollution/00_database.ipynb#ch0000020?line=0'>1</a>\u001b[0m df[\u001b[39m'\u001b[39;49m\u001b[39m지점명\u001b[39;49m\u001b[39m'\u001b[39;49m]\u001b[39m.\u001b[39munique()\n",
      "File \u001b[1;32m~\\miniconda3\\envs\\venv\\lib\\site-packages\\pandas\\core\\frame.py:3505\u001b[0m, in \u001b[0;36mDataFrame.__getitem__\u001b[1;34m(self, key)\u001b[0m\n\u001b[0;32m   <a href='file:///c%3A/Users/simon/miniconda3/envs/venv/lib/site-packages/pandas/core/frame.py?line=3502'>3503</a>\u001b[0m \u001b[39mif\u001b[39;00m \u001b[39mself\u001b[39m\u001b[39m.\u001b[39mcolumns\u001b[39m.\u001b[39mnlevels \u001b[39m>\u001b[39m \u001b[39m1\u001b[39m:\n\u001b[0;32m   <a href='file:///c%3A/Users/simon/miniconda3/envs/venv/lib/site-packages/pandas/core/frame.py?line=3503'>3504</a>\u001b[0m     \u001b[39mreturn\u001b[39;00m \u001b[39mself\u001b[39m\u001b[39m.\u001b[39m_getitem_multilevel(key)\n\u001b[1;32m-> <a href='file:///c%3A/Users/simon/miniconda3/envs/venv/lib/site-packages/pandas/core/frame.py?line=3504'>3505</a>\u001b[0m indexer \u001b[39m=\u001b[39m \u001b[39mself\u001b[39;49m\u001b[39m.\u001b[39;49mcolumns\u001b[39m.\u001b[39;49mget_loc(key)\n\u001b[0;32m   <a href='file:///c%3A/Users/simon/miniconda3/envs/venv/lib/site-packages/pandas/core/frame.py?line=3505'>3506</a>\u001b[0m \u001b[39mif\u001b[39;00m is_integer(indexer):\n\u001b[0;32m   <a href='file:///c%3A/Users/simon/miniconda3/envs/venv/lib/site-packages/pandas/core/frame.py?line=3506'>3507</a>\u001b[0m     indexer \u001b[39m=\u001b[39m [indexer]\n",
      "File \u001b[1;32m~\\miniconda3\\envs\\venv\\lib\\site-packages\\pandas\\core\\indexes\\base.py:3623\u001b[0m, in \u001b[0;36mIndex.get_loc\u001b[1;34m(self, key, method, tolerance)\u001b[0m\n\u001b[0;32m   <a href='file:///c%3A/Users/simon/miniconda3/envs/venv/lib/site-packages/pandas/core/indexes/base.py?line=3620'>3621</a>\u001b[0m     \u001b[39mreturn\u001b[39;00m \u001b[39mself\u001b[39m\u001b[39m.\u001b[39m_engine\u001b[39m.\u001b[39mget_loc(casted_key)\n\u001b[0;32m   <a href='file:///c%3A/Users/simon/miniconda3/envs/venv/lib/site-packages/pandas/core/indexes/base.py?line=3621'>3622</a>\u001b[0m \u001b[39mexcept\u001b[39;00m \u001b[39mKeyError\u001b[39;00m \u001b[39mas\u001b[39;00m err:\n\u001b[1;32m-> <a href='file:///c%3A/Users/simon/miniconda3/envs/venv/lib/site-packages/pandas/core/indexes/base.py?line=3622'>3623</a>\u001b[0m     \u001b[39mraise\u001b[39;00m \u001b[39mKeyError\u001b[39;00m(key) \u001b[39mfrom\u001b[39;00m \u001b[39merr\u001b[39;00m\n\u001b[0;32m   <a href='file:///c%3A/Users/simon/miniconda3/envs/venv/lib/site-packages/pandas/core/indexes/base.py?line=3623'>3624</a>\u001b[0m \u001b[39mexcept\u001b[39;00m \u001b[39mTypeError\u001b[39;00m:\n\u001b[0;32m   <a href='file:///c%3A/Users/simon/miniconda3/envs/venv/lib/site-packages/pandas/core/indexes/base.py?line=3624'>3625</a>\u001b[0m     \u001b[39m# If we have a listlike key, _check_indexing_error will raise\u001b[39;00m\n\u001b[0;32m   <a href='file:///c%3A/Users/simon/miniconda3/envs/venv/lib/site-packages/pandas/core/indexes/base.py?line=3625'>3626</a>\u001b[0m     \u001b[39m#  InvalidIndexError. Otherwise we fall through and re-raise\u001b[39;00m\n\u001b[0;32m   <a href='file:///c%3A/Users/simon/miniconda3/envs/venv/lib/site-packages/pandas/core/indexes/base.py?line=3626'>3627</a>\u001b[0m     \u001b[39m#  the TypeError.\u001b[39;00m\n\u001b[0;32m   <a href='file:///c%3A/Users/simon/miniconda3/envs/venv/lib/site-packages/pandas/core/indexes/base.py?line=3627'>3628</a>\u001b[0m     \u001b[39mself\u001b[39m\u001b[39m.\u001b[39m_check_indexing_error(key)\n",
      "\u001b[1;31mKeyError\u001b[0m: '지점명'"
     ]
    }
   ],
   "source": [
    "df['지점명'].unique()"
   ]
  },
  {
   "cell_type": "code",
   "execution_count": 21,
   "metadata": {},
   "outputs": [
    {
     "data": {
      "text/html": [
       "<div>\n",
       "<style scoped>\n",
       "    .dataframe tbody tr th:only-of-type {\n",
       "        vertical-align: middle;\n",
       "    }\n",
       "\n",
       "    .dataframe tbody tr th {\n",
       "        vertical-align: top;\n",
       "    }\n",
       "\n",
       "    .dataframe thead th {\n",
       "        text-align: right;\n",
       "    }\n",
       "</style>\n",
       "<table border=\"1\" class=\"dataframe\">\n",
       "  <thead>\n",
       "    <tr style=\"text-align: right;\">\n",
       "      <th></th>\n",
       "      <th>지점별 일자별 교통량 범례</th>\n",
       "      <th>Unnamed: 1</th>\n",
       "      <th>Unnamed: 2</th>\n",
       "      <th>Unnamed: 3</th>\n",
       "    </tr>\n",
       "  </thead>\n",
       "  <tbody>\n",
       "    <tr>\n",
       "      <th>0</th>\n",
       "      <td>구분</td>\n",
       "      <td>설명</td>\n",
       "      <td>표현 예시</td>\n",
       "      <td>예시 설명</td>\n",
       "    </tr>\n",
       "    <tr>\n",
       "      <th>1</th>\n",
       "      <td>일자</td>\n",
       "      <td>교통량 조사 일자</td>\n",
       "      <td>20181201</td>\n",
       "      <td>43435</td>\n",
       "    </tr>\n",
       "    <tr>\n",
       "      <th>2</th>\n",
       "      <td>요일</td>\n",
       "      <td>교통량 조사 요일</td>\n",
       "      <td>토</td>\n",
       "      <td>토요일</td>\n",
       "    </tr>\n",
       "    <tr>\n",
       "      <th>3</th>\n",
       "      <td>지점명</td>\n",
       "      <td>교통량 조사 도로명(조사지점명)</td>\n",
       "      <td>성산로(금화터널)</td>\n",
       "      <td>조사지점의 도로명(지점명)</td>\n",
       "    </tr>\n",
       "    <tr>\n",
       "      <th>4</th>\n",
       "      <td>지점번호</td>\n",
       "      <td>조사지점을 5개 영역(A,B,C,D,F)으로 구분하고 일련번호를 부여함\\n- [A(...</td>\n",
       "      <td>A-01</td>\n",
       "      <td>도심 1번 지점</td>\n",
       "    </tr>\n",
       "    <tr>\n",
       "      <th>5</th>\n",
       "      <td>방향</td>\n",
       "      <td>유입 : 외곽에서 서울시청으로 들어오는 방향\\n유출 : 시울시청에서 외곽으로 나가는 방향</td>\n",
       "      <td>유입/유출</td>\n",
       "      <td>NaN</td>\n",
       "    </tr>\n",
       "    <tr>\n",
       "      <th>6</th>\n",
       "      <td>구분</td>\n",
       "      <td>조사지점에서 가까운 교차로명으로 방향표시</td>\n",
       "      <td>봉원고가차도→독립문역</td>\n",
       "      <td>봉원고가차도에서 독립문역 방향의 교통량</td>\n",
       "    </tr>\n",
       "    <tr>\n",
       "      <th>7</th>\n",
       "      <td>시간대</td>\n",
       "      <td>1시간 단위를 표시</td>\n",
       "      <td>0시</td>\n",
       "      <td>0시~1시</td>\n",
       "    </tr>\n",
       "    <tr>\n",
       "      <th>8</th>\n",
       "      <td>교통량</td>\n",
       "      <td>1시간 교통량</td>\n",
       "      <td>809</td>\n",
       "      <td>809대/시</td>\n",
       "    </tr>\n",
       "  </tbody>\n",
       "</table>\n",
       "</div>"
      ],
      "text/plain": [
       "  지점별 일자별 교통량 범례                                         Unnamed: 1  \\\n",
       "0             구분                                                 설명   \n",
       "1             일자                                          교통량 조사 일자   \n",
       "2             요일                                          교통량 조사 요일   \n",
       "3            지점명                                  교통량 조사 도로명(조사지점명)   \n",
       "4           지점번호  조사지점을 5개 영역(A,B,C,D,F)으로 구분하고 일련번호를 부여함\\n- [A(...   \n",
       "5             방향  유입 : 외곽에서 서울시청으로 들어오는 방향\\n유출 : 시울시청에서 외곽으로 나가는 방향   \n",
       "6             구분                             조사지점에서 가까운 교차로명으로 방향표시   \n",
       "7            시간대                                         1시간 단위를 표시   \n",
       "8            교통량                                            1시간 교통량   \n",
       "\n",
       "    Unnamed: 2             Unnamed: 3  \n",
       "0        표현 예시                  예시 설명  \n",
       "1     20181201                  43435  \n",
       "2            토                    토요일  \n",
       "3    성산로(금화터널)         조사지점의 도로명(지점명)  \n",
       "4         A-01               도심 1번 지점  \n",
       "5        유입/유출                    NaN  \n",
       "6  봉원고가차도→독립문역  봉원고가차도에서 독립문역 방향의 교통량  \n",
       "7           0시                  0시~1시  \n",
       "8          809                 809대/시  "
      ]
     },
     "execution_count": 21,
     "metadata": {},
     "output_type": "execute_result"
    }
   ],
   "source": [
    "df"
   ]
  }
 ],
 "metadata": {
  "interpreter": {
   "hash": "ab7f212329a491b497f27876271d03c022f2dd26760015eef69af619991238fd"
  },
  "kernelspec": {
   "display_name": "Python 3.8.12 ('venv')",
   "language": "python",
   "name": "python3"
  },
  "language_info": {
   "codemirror_mode": {
    "name": "ipython",
    "version": 3
   },
   "file_extension": ".py",
   "mimetype": "text/x-python",
   "name": "python",
   "nbconvert_exporter": "python",
   "pygments_lexer": "ipython3",
   "version": "3.8.12"
  },
  "orig_nbformat": 4
 },
 "nbformat": 4,
 "nbformat_minor": 2
}
