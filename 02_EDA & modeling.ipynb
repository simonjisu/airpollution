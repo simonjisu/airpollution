{
 "cells": [
  {
   "cell_type": "code",
   "execution_count": 90,
   "id": "89df7978",
   "metadata": {},
   "outputs": [],
   "source": [
    "from datetime import datetime as dt\n",
    "from datetime import timedelta\n",
    "import numpy as np\n",
    "import pandas as pd\n",
    "from pathlib import Path\n",
    "from tqdm.notebook import tqdm\n",
    "\n",
    "import seaborn as sns\n",
    "import matplotlib.pyplot as plt"
   ]
  },
  {
   "cell_type": "code",
   "execution_count": 91,
   "id": "7d7a9990",
   "metadata": {},
   "outputs": [],
   "source": [
    "data_path = Path(\"data\")"
   ]
  },
  {
   "cell_type": "code",
   "execution_count": 117,
   "id": "2c88efe7",
   "metadata": {},
   "outputs": [
    {
     "data": {
      "text/html": [
       "<div>\n",
       "<style scoped>\n",
       "    .dataframe tbody tr th:only-of-type {\n",
       "        vertical-align: middle;\n",
       "    }\n",
       "\n",
       "    .dataframe tbody tr th {\n",
       "        vertical-align: top;\n",
       "    }\n",
       "\n",
       "    .dataframe thead th {\n",
       "        text-align: right;\n",
       "    }\n",
       "</style>\n",
       "<table border=\"1\" class=\"dataframe\">\n",
       "  <thead>\n",
       "    <tr style=\"text-align: right;\">\n",
       "      <th></th>\n",
       "      <th>date</th>\n",
       "      <th>temperature</th>\n",
       "      <th>precipitation</th>\n",
       "      <th>windSpeed</th>\n",
       "      <th>windDirection</th>\n",
       "      <th>humidity</th>\n",
       "      <th>spotAtmosphericPressure</th>\n",
       "      <th>groundTemperature</th>\n",
       "    </tr>\n",
       "  </thead>\n",
       "  <tbody>\n",
       "    <tr>\n",
       "      <th>0</th>\n",
       "      <td>2018-01-01 00:00</td>\n",
       "      <td>-3.2</td>\n",
       "      <td>0.0</td>\n",
       "      <td>0.5</td>\n",
       "      <td>110.0</td>\n",
       "      <td>40.0</td>\n",
       "      <td>1015.4</td>\n",
       "      <td>-2.2</td>\n",
       "    </tr>\n",
       "    <tr>\n",
       "      <th>1</th>\n",
       "      <td>2018-01-01 01:00</td>\n",
       "      <td>-3.3</td>\n",
       "      <td>0.0</td>\n",
       "      <td>0.7</td>\n",
       "      <td>360.0</td>\n",
       "      <td>41.0</td>\n",
       "      <td>1015.1</td>\n",
       "      <td>-2.7</td>\n",
       "    </tr>\n",
       "    <tr>\n",
       "      <th>2</th>\n",
       "      <td>2018-01-01 02:00</td>\n",
       "      <td>-3.7</td>\n",
       "      <td>0.0</td>\n",
       "      <td>0.9</td>\n",
       "      <td>270.0</td>\n",
       "      <td>42.0</td>\n",
       "      <td>1015.2</td>\n",
       "      <td>-3.0</td>\n",
       "    </tr>\n",
       "    <tr>\n",
       "      <th>3</th>\n",
       "      <td>2018-01-01 03:00</td>\n",
       "      <td>-4.0</td>\n",
       "      <td>0.0</td>\n",
       "      <td>1.0</td>\n",
       "      <td>290.0</td>\n",
       "      <td>44.0</td>\n",
       "      <td>1015.5</td>\n",
       "      <td>-3.5</td>\n",
       "    </tr>\n",
       "    <tr>\n",
       "      <th>4</th>\n",
       "      <td>2018-01-01 04:00</td>\n",
       "      <td>-4.2</td>\n",
       "      <td>0.0</td>\n",
       "      <td>1.1</td>\n",
       "      <td>290.0</td>\n",
       "      <td>53.0</td>\n",
       "      <td>1015.5</td>\n",
       "      <td>-3.8</td>\n",
       "    </tr>\n",
       "    <tr>\n",
       "      <th>...</th>\n",
       "      <td>...</td>\n",
       "      <td>...</td>\n",
       "      <td>...</td>\n",
       "      <td>...</td>\n",
       "      <td>...</td>\n",
       "      <td>...</td>\n",
       "      <td>...</td>\n",
       "      <td>...</td>\n",
       "    </tr>\n",
       "    <tr>\n",
       "      <th>26299</th>\n",
       "      <td>2020-12-31 19:00</td>\n",
       "      <td>-7.1</td>\n",
       "      <td>0.0</td>\n",
       "      <td>2.4</td>\n",
       "      <td>250.0</td>\n",
       "      <td>58.0</td>\n",
       "      <td>1014.2</td>\n",
       "      <td>-4.3</td>\n",
       "    </tr>\n",
       "    <tr>\n",
       "      <th>26300</th>\n",
       "      <td>2020-12-31 20:00</td>\n",
       "      <td>-7.1</td>\n",
       "      <td>0.0</td>\n",
       "      <td>3.2</td>\n",
       "      <td>250.0</td>\n",
       "      <td>59.0</td>\n",
       "      <td>1014.8</td>\n",
       "      <td>-5.2</td>\n",
       "    </tr>\n",
       "    <tr>\n",
       "      <th>26301</th>\n",
       "      <td>2020-12-31 21:00</td>\n",
       "      <td>-7.2</td>\n",
       "      <td>0.0</td>\n",
       "      <td>2.7</td>\n",
       "      <td>250.0</td>\n",
       "      <td>61.0</td>\n",
       "      <td>1015.3</td>\n",
       "      <td>-5.7</td>\n",
       "    </tr>\n",
       "    <tr>\n",
       "      <th>26302</th>\n",
       "      <td>2020-12-31 22:00</td>\n",
       "      <td>-7.4</td>\n",
       "      <td>0.0</td>\n",
       "      <td>2.5</td>\n",
       "      <td>270.0</td>\n",
       "      <td>66.0</td>\n",
       "      <td>1016.0</td>\n",
       "      <td>-6.1</td>\n",
       "    </tr>\n",
       "    <tr>\n",
       "      <th>26303</th>\n",
       "      <td>2020-12-31 23:00</td>\n",
       "      <td>-7.6</td>\n",
       "      <td>0.0</td>\n",
       "      <td>2.2</td>\n",
       "      <td>290.0</td>\n",
       "      <td>65.0</td>\n",
       "      <td>1016.3</td>\n",
       "      <td>-6.5</td>\n",
       "    </tr>\n",
       "  </tbody>\n",
       "</table>\n",
       "<p>26304 rows × 8 columns</p>\n",
       "</div>"
      ],
      "text/plain": [
       "                   date  temperature  precipitation  windSpeed  windDirection  \\\n",
       "0      2018-01-01 00:00         -3.2            0.0        0.5          110.0   \n",
       "1      2018-01-01 01:00         -3.3            0.0        0.7          360.0   \n",
       "2      2018-01-01 02:00         -3.7            0.0        0.9          270.0   \n",
       "3      2018-01-01 03:00         -4.0            0.0        1.0          290.0   \n",
       "4      2018-01-01 04:00         -4.2            0.0        1.1          290.0   \n",
       "...                 ...          ...            ...        ...            ...   \n",
       "26299  2020-12-31 19:00         -7.1            0.0        2.4          250.0   \n",
       "26300  2020-12-31 20:00         -7.1            0.0        3.2          250.0   \n",
       "26301  2020-12-31 21:00         -7.2            0.0        2.7          250.0   \n",
       "26302  2020-12-31 22:00         -7.4            0.0        2.5          270.0   \n",
       "26303  2020-12-31 23:00         -7.6            0.0        2.2          290.0   \n",
       "\n",
       "       humidity  spotAtmosphericPressure  groundTemperature  \n",
       "0          40.0                   1015.4               -2.2  \n",
       "1          41.0                   1015.1               -2.7  \n",
       "2          42.0                   1015.2               -3.0  \n",
       "3          44.0                   1015.5               -3.5  \n",
       "4          53.0                   1015.5               -3.8  \n",
       "...         ...                      ...                ...  \n",
       "26299      58.0                   1014.2               -4.3  \n",
       "26300      59.0                   1014.8               -5.2  \n",
       "26301      61.0                   1015.3               -5.7  \n",
       "26302      66.0                   1016.0               -6.1  \n",
       "26303      65.0                   1016.3               -6.5  \n",
       "\n",
       "[26304 rows x 8 columns]"
      ]
     },
     "execution_count": 117,
     "metadata": {},
     "output_type": "execute_result"
    }
   ],
   "source": [
    "df_weather.to_csv()"
   ]
  },
  {
   "cell_type": "code",
   "execution_count": 118,
   "id": "7607e733",
   "metadata": {},
   "outputs": [],
   "source": [
    "df_airq = pd.read_csv(data_path / \"airq_filled_by_gu_2018-2020.tsv\", encoding=\"utf-8\", sep=\"\\t\")\n",
    "df_airq = df_airq.loc[(df_airq.district != \"강북구\")]\n",
    "df_weather = pd.read_csv(data_path / \"weather_filled_2018-2020.tsv\", encoding=\"utf-8\", sep=\"\\t\")\n",
    "\n",
    "\n",
    "\n",
    "df_airq_baek = pd.read_csv(data_path / \"airq_baek_filled_2018-2020.tsv\", encoding=\"utf-8\", sep=\"\\t\")\n",
    "df_airq_baek = df_airq_baek.loc[:, ['measurename', 'date', 'SO2', 'CO', 'O3', 'NO2', 'PM10', 'PM25', 'PM10_AQI', 'PM25_AQI']].rename(columns={\"measurename\": \"district\"})\n",
    "df_weather_baek = pd.read_csv(data_path / \"weather_baek_filled_2018-2020.tsv\", encoding=\"utf-8\", sep=\"\\t\")\n",
    "\n",
    "df_traffic = pd.read_csv(data_path / \"traffic_filled_by_gu_2018-2020.tsv\", encoding=\"utf-8\", sep=\"\\t\")\n"
   ]
  },
  {
   "cell_type": "code",
   "execution_count": 129,
   "id": "84f12239",
   "metadata": {},
   "outputs": [],
   "source": [
    "df_airq[\"date\"] = pd.to_datetime(df_airq[\"date\"])\n",
    "df_weather[\"date\"] = pd.to_datetime(df_weather[\"date\"])\n",
    "\n",
    "df_airq_baek[\"date\"] = pd.to_datetime(df_airq_baek[\"date\"])\n",
    "df_weather_baek[\"date\"] = pd.to_datetime(df_weather_baek[\"date\"])\n",
    "df_traffic[\"date\"] = pd.to_datetime(df_traffic[\"date\"])\n"
   ]
  },
  {
   "cell_type": "code",
   "execution_count": 134,
   "id": "b91a91c1",
   "metadata": {},
   "outputs": [],
   "source": [
    "df_airq.merge(df_weather, on=\"date\").to_csv(data_path / \"df_seoul.tsv\", encoding=\"utf-8\", sep=\"\\t\", index=False)\n",
    "df_airq_baek.merge(df_weather_baek, on=\"date\").to_csv(data_path / \"df_baek.tsv\", encoding=\"utf-8\", sep=\"\\t\", index=False)"
   ]
  },
  {
   "cell_type": "code",
   "execution_count": 137,
   "id": "e33ea8f4",
   "metadata": {},
   "outputs": [],
   "source": [
    "df_airq_weather"
   ]
  },
  {
   "cell_type": "markdown",
   "id": "fe8c5a68",
   "metadata": {},
   "source": [
    "## conver to category\n",
    "\n",
    "\n",
    "https://www.airnow.gov/aqi/aqi-basics/\n",
    "\n",
    "|Daily AQI Color|Levels of Concern|Values of Index|Description of Air Quality\n",
    "|---|---|---|---\n",
    "|Green|Good|0 to 50|Air quality is satisfactory, and air pollution poses little or no risk.\n",
    "|Yellow|Moderate|51 to 100|Air quality is acceptable. However, there may be a risk for some people, particularly those who are unusually sensitive to air pollution.\n",
    "|Orange|Unhealthy for Sensitive Groups|101 to 150|Members of sensitive groups may experience health effects. The general public is less likely to be affected.\n",
    "|Red|Unhealthy|151 to 200|Some members of the general public may experience health effects; members of sensitive groups may experience more serious health effects.\n",
    "|Purple|Very Unhealthy|201 to 300|Health alert: The risk of health effects is increased for everyone.\n",
    "|Maroon|Hazardous|301 and higher|Health warning of emergency conditions: everyone is more likely to be affected."
   ]
  },
  {
   "cell_type": "code",
   "execution_count": 31,
   "id": "1aead89c",
   "metadata": {},
   "outputs": [],
   "source": [
    "def get_aqi_cate(c):\n",
    "    if (c >= 0) and (c <= 50):\n",
    "        return 0\n",
    "    elif (c > 50) and (c <= 100):\n",
    "        return 1\n",
    "    elif (c > 100) and (c <= 150):\n",
    "        return 2\n",
    "    elif (c > 150) and (c <= 200):\n",
    "        return 3\n",
    "    elif (c > 200) and (c <= 300):\n",
    "        return 4\n",
    "    elif (c > 300):\n",
    "        return 5\n",
    "    else:\n",
    "        return -1"
   ]
  },
  {
   "cell_type": "code",
   "execution_count": 53,
   "id": "981e7a2c",
   "metadata": {},
   "outputs": [],
   "source": [
    "df_airq[\"PM10_AQI_CATE\"] = df_airq[\"PM10_AQI\"].apply(get_aqi_cate)\n",
    "df_airq[\"PM25_AQI_CATE\"] = df_airq[\"PM25_AQI\"].apply(get_aqi_cate)\n",
    "df_airq_baek[\"PM10_AQI_CATE\"] = df_airq_baek[\"PM10_AQI\"].apply(get_aqi_cate)\n",
    "df_airq_baek[\"PM25_AQI_CATE\"] = df_airq_baek[\"PM25_AQI\"].apply(get_aqi_cate)"
   ]
  },
  {
   "cell_type": "code",
   "execution_count": 54,
   "id": "94b27731",
   "metadata": {},
   "outputs": [
    {
     "data": {
      "image/png": "[encoded data removed]",
      "text/plain": [
       "<Figure size 864x432 with 2 Axes>"
      ]
     },
     "metadata": {
      "needs_background": "light"
     },
     "output_type": "display_data"
    }
   ],
   "source": [
    "fig, axes = plt.subplots(1, 2, figsize=(12, 6))\n",
    "for ax, x in zip(axes.flatten(), [\"PM10_AQI_CATE\", \"PM25_AQI_CATE\"]):\n",
    "    sns.countplot(x=x, data=df_airq, ax=ax)\n",
    "    ax.set_title(f\"{x}\", fontsize=12)\n",
    "    ax.set_xlabel(f\"{x.split('_')[0]} categories\", fontsize=12)\n",
    "    ax.set_ylabel(\"count\", fontsize=12)\n",
    "fig.suptitle(\"AQI Seoul Category Count Plot\", fontsize=14)\n",
    "plt.tight_layout()\n",
    "plt.show()\n",
    "\n",
    "fig.savefig(\"AQI Seoul Category Count Plot.png\")"
   ]
  },
  {
   "cell_type": "code",
   "execution_count": 56,
   "id": "8784da8b",
   "metadata": {},
   "outputs": [
    {
     "data": {
      "image/png": "[encoded data removed]",
      "text/plain": [
       "<Figure size 864x432 with 2 Axes>"
      ]
     },
     "metadata": {
      "needs_background": "light"
     },
     "output_type": "display_data"
    }
   ],
   "source": [
    "fig, axes = plt.subplots(1, 2, figsize=(12, 6))\n",
    "for ax, x in zip(axes.flatten(), [\"PM10_AQI_CATE\", \"PM25_AQI_CATE\"]):\n",
    "    sns.countplot(x=x, data=df_airq_baek, ax=ax)\n",
    "    ax.set_title(f\"{x}\", fontsize=12)\n",
    "    ax.set_xlabel(f\"{x.split('_')[0]} categories\", fontsize=12)\n",
    "    ax.set_ylabel(\"count\", fontsize=12)\n",
    "fig.suptitle(\"AQI BaekRyungDo Category Count Plot\", fontsize=14)\n",
    "plt.tight_layout()\n",
    "plt.show()\n",
    "\n",
    "fig.savefig(\"AQI BaekRyungDo Category Count Plot.png\")"
   ]
  },
  {
   "cell_type": "code",
   "execution_count": 76,
   "id": "c724363a",
   "metadata": {},
   "outputs": [],
   "source": [
    "df = df_airq"
   ]
  },
  {
   "cell_type": "code",
   "execution_count": 89,
   "id": "098ecf3e",
   "metadata": {},
   "outputs": [],
   "source": [
    "gu2idx = dict(enumerate(df[\"district\"].unique()))\n",
    "idx2gu = {v: k for k, v in gu2idx.items()}"
   ]
  },
  {
   "cell_type": "code",
   "execution_count": null,
   "id": "91e487b3",
   "metadata": {},
   "outputs": [],
   "source": []
  },
  {
   "cell_type": "code",
   "execution_count": 80,
   "id": "bab102ae",
   "metadata": {},
   "outputs": [],
   "source": [
    "df[\"group\"] = df[\"date\"].dt.strftime(\"%Y-%m-%d\")"
   ]
  },
  {
   "cell_type": "code",
   "execution_count": 81,
   "id": "b05834f6",
   "metadata": {},
   "outputs": [],
   "source": [
    "test_set_year_mask = df_airq[\"date\"].dt.year == 2020\n",
    "df_train = df.loc[~test_set_year_mask, :]\n",
    "df_test = df.loc[test_set_year_mask, :]"
   ]
  },
  {
   "cell_type": "code",
   "execution_count": null,
   "id": "8ddf1a25",
   "metadata": {},
   "outputs": [],
   "source": []
  },
  {
   "cell_type": "code",
   "execution_count": null,
   "id": "a8821c65",
   "metadata": {},
   "outputs": [],
   "source": []
  },
  {
   "cell_type": "code",
   "execution_count": 61,
   "id": "95d20f3a",
   "metadata": {},
   "outputs": [],
   "source": [
    "def sliding_window(T: int, window_size: int, time_lag: int):\n",
    "    X_idx = np.expand_dims(np.arange(window_size), 0) + \\\n",
    "                np.expand_dims(np.arange(T - window_size - time_lag + 1), 0).T\n",
    "    y_idx = np.arange(time_lag + window_size - 1 , T)\n",
    "    \n",
    "    return X_idx, y_idx"
   ]
  },
  {
   "cell_type": "code",
   "execution_count": null,
   "id": "14cf1a85",
   "metadata": {},
   "outputs": [],
   "source": [
    "window_size=24"
   ]
  },
  {
   "cell_type": "code",
   "execution_count": 62,
   "id": "9107bb17",
   "metadata": {},
   "outputs": [],
   "source": [
    "T = len(df_train)"
   ]
  },
  {
   "cell_type": "code",
   "execution_count": 63,
   "id": "e241d6ae",
   "metadata": {},
   "outputs": [
    {
     "data": {
      "text/plain": [
       "438000"
      ]
     },
     "execution_count": 63,
     "metadata": {},
     "output_type": "execute_result"
    }
   ],
   "source": [
    "X_idx, y_idx = sliding_window(T: int, window_size: int, time_lag: int)"
   ]
  }
 ],
 "metadata": {
  "kernelspec": {
   "display_name": "Python 3",
   "language": "python",
   "name": "python3"
  },
  "language_info": {
   "codemirror_mode": {
    "name": "ipython",
    "version": 3
   },
   "file_extension": ".py",
   "mimetype": "text/x-python",
   "name": "python",
   "nbconvert_exporter": "python",
   "pygments_lexer": "ipython3",
   "version": "3.7.10"
  }
 },
 "nbformat": 4,
 "nbformat_minor": 5
}
