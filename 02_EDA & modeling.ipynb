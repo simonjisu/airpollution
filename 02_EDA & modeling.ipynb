{
 "cells": [
  {
   "cell_type": "code",
   "execution_count": 1,
   "id": "89df7978",
   "metadata": {},
   "outputs": [
    {
     "name": "stderr",
     "output_type": "stream",
     "text": [
      "c:\\users\\simon\\miniconda3\\envs\\air\\lib\\site-packages\\pytorch_lightning\\metrics\\__init__.py:43: LightningDeprecationWarning: `pytorch_lightning.metrics.*` module has been renamed to `torchmetrics.*` and split off to its own package (https://github.com/PyTorchLightning/metrics) since v1.3 and will be removed in v1.5\n",
      "  rank_zero_deprecation(\n"
     ]
    }
   ],
   "source": [
    "from datetime import datetime as dt\n",
    "from datetime import timedelta\n",
    "import numpy as np\n",
    "import pandas as pd\n",
    "from pathlib import Path\n",
    "from tqdm.notebook import tqdm\n",
    "import pickle\n",
    "\n",
    "import seaborn as sns\n",
    "import matplotlib.pyplot as plt\n",
    "\n",
    "import os\n",
    "import torchmetrics\n",
    "import torch\n",
    "import torch.nn as nn\n",
    "import pytorch_lightning as pl\n",
    "from torch.utils.data import DataLoader, Dataset"
   ]
  },
  {
   "cell_type": "code",
   "execution_count": 50,
   "id": "7d7a9990",
   "metadata": {},
   "outputs": [],
   "source": [
    "data_path = Path(\"data\")"
   ]
  },
  {
   "cell_type": "code",
   "execution_count": 76,
   "id": "5f59ab42-6a77-4b8f-b5ce-42d2209680df",
   "metadata": {},
   "outputs": [],
   "source": [
    "df_seoul = pd.read_csv(data_path / \"df_seoul.tsv\", encoding=\"utf-8\", sep=\"\\t\")\n",
    "df_baek = pd.read_csv(data_path / \"df_baek.tsv\", encoding=\"utf-8\", sep=\"\\t\")\n",
    "df_traffic = pd.read_csv(data_path / \"traffic_filled_by_gu_2018-2020.tsv\", encoding=\"utf-8\", sep=\"\\t\")\n",
    "\n",
    "df_seoul[\"date\"] = pd.to_datetime(df_seoul[\"date\"])\n",
    "df_baek[\"date\"] = pd.to_datetime(df_baek[\"date\"])\n",
    "df_traffic[\"date\"] = pd.to_datetime(df_traffic[\"date\"])\n",
    "\n",
    "df_seoul = df_seoul.merge(df_traffic, on=[\"date\", \"district\"])"
   ]
  },
  {
   "cell_type": "code",
   "execution_count": 77,
   "id": "1eb852af-7687-4ea2-996e-ba65c26f06fb",
   "metadata": {},
   "outputs": [
    {
     "name": "stdout",
     "output_type": "stream",
     "text": [
      "Seoul Data: (631296, 18)\n",
      "Baek Data: (26304, 17)\n"
     ]
    }
   ],
   "source": [
    "print(f\"Seoul Data: {df_seoul.shape}\")\n",
    "print(f\"Baek Data: {df_baek.shape}\")"
   ]
  },
  {
   "cell_type": "code",
   "execution_count": 78,
   "id": "3ef2d7a3-e285-48af-85b3-6a5893a893a5",
   "metadata": {},
   "outputs": [
    {
     "data": {
      "text/plain": [
       "district                   0\n",
       "date                       0\n",
       "SO2                        0\n",
       "CO                         0\n",
       "O3                         0\n",
       "NO2                        0\n",
       "PM10                       0\n",
       "PM25                       0\n",
       "PM10_AQI                   0\n",
       "PM25_AQI                   0\n",
       "temperature                0\n",
       "precipitation              0\n",
       "windSpeed                  0\n",
       "windDirection              0\n",
       "humidity                   0\n",
       "spotAtmosphericPressure    0\n",
       "groundTemperature          0\n",
       "traffic                    0\n",
       "dtype: int64"
      ]
     },
     "execution_count": 78,
     "metadata": {},
     "output_type": "execute_result"
    }
   ],
   "source": [
    "df_seoul.isnull().sum()"
   ]
  },
  {
   "cell_type": "code",
   "execution_count": 79,
   "id": "af77bdf0-659c-44a4-a1f4-b8de31761de3",
   "metadata": {},
   "outputs": [
    {
     "data": {
      "text/plain": [
       "district                   0\n",
       "date                       0\n",
       "SO2                        0\n",
       "CO                         0\n",
       "O3                         0\n",
       "NO2                        0\n",
       "PM10                       0\n",
       "PM25                       0\n",
       "PM10_AQI                   0\n",
       "PM25_AQI                   0\n",
       "temperature                0\n",
       "precipitation              0\n",
       "windSpeed                  0\n",
       "windDirection              0\n",
       "humidity                   0\n",
       "spotAtmosphericPressure    0\n",
       "groundTemperature          0\n",
       "dtype: int64"
      ]
     },
     "execution_count": 79,
     "metadata": {},
     "output_type": "execute_result"
    }
   ],
   "source": [
    "df_baek.isnull().sum()"
   ]
  },
  {
   "cell_type": "markdown",
   "id": "fe8c5a68",
   "metadata": {},
   "source": [
    "## convert to category\n",
    "\n",
    "\n",
    "https://www.airnow.gov/aqi/aqi-basics/\n",
    "\n",
    "|Daily AQI Color|Levels of Concern|Values of Index|Description of Air Quality\n",
    "|---|---|---|---\n",
    "|Green|Good|0 to 50|Air quality is satisfactory, and air pollution poses little or no risk.\n",
    "|Yellow|Moderate|51 to 100|Air quality is acceptable. However, there may be a risk for some people, particularly those who are unusually sensitive to air pollution.\n",
    "|Orange|Unhealthy for Sensitive Groups|101 to 150|Members of sensitive groups may experience health effects. The general public is less likely to be affected.\n",
    "|Red|Unhealthy|151 to 200|Some members of the general public may experience health effects; members of sensitive groups may experience more serious health effects.\n",
    "|Purple|Very Unhealthy|201 to 300|Health alert: The risk of health effects is increased for everyone.\n",
    "|Maroon|Hazardous|301 and higher|Health warning of emergency conditions: everyone is more likely to be affected."
   ]
  },
  {
   "cell_type": "code",
   "execution_count": 80,
   "id": "1aead89c",
   "metadata": {},
   "outputs": [],
   "source": [
    "def get_aqi_cate(c):\n",
    "    if (c >= 0) and (c <= 50):\n",
    "        return 0\n",
    "    elif (c > 50) and (c <= 100):\n",
    "        return 1\n",
    "    elif (c > 100) and (c <= 150):\n",
    "        return 2\n",
    "    elif (c > 150) and (c <= 200):\n",
    "        return 3\n",
    "    elif (c > 200) and (c <= 300):\n",
    "        return 4\n",
    "    elif (c > 300):\n",
    "        return 5\n",
    "    else:\n",
    "        return -1"
   ]
  },
  {
   "cell_type": "code",
   "execution_count": 81,
   "id": "981e7a2c",
   "metadata": {},
   "outputs": [],
   "source": [
    "df_seoul[\"PM10_AQI_CATE\"] = df_seoul[\"PM10_AQI\"].apply(get_aqi_cate)\n",
    "df_seoul[\"PM25_AQI_CATE\"] = df_seoul[\"PM25_AQI\"].apply(get_aqi_cate)\n",
    "df_baek[\"PM10_AQI_CATE\"] = df_baek[\"PM10_AQI\"].apply(get_aqi_cate)\n",
    "df_baek[\"PM25_AQI_CATE\"] = df_baek[\"PM25_AQI\"].apply(get_aqi_cate)"
   ]
  },
  {
   "cell_type": "code",
   "execution_count": 82,
   "id": "94b27731",
   "metadata": {},
   "outputs": [
    {
     "data": {
      "image/png": "[encoded data removed]",
      "text/plain": [
       "<Figure size 864x432 with 2 Axes>"
      ]
     },
     "metadata": {
      "needs_background": "light"
     },
     "output_type": "display_data"
    }
   ],
   "source": [
    "fig, axes = plt.subplots(1, 2, figsize=(12, 6))\n",
    "for ax, x in zip(axes.flatten(), [\"PM10_AQI_CATE\", \"PM25_AQI_CATE\"]):\n",
    "    sns.countplot(x=x, data=df_seoul, ax=ax)\n",
    "    ax.set_title(f\"{x}\", fontsize=12)\n",
    "    ax.set_xlabel(f\"{x.split('_')[0]} categories\", fontsize=12)\n",
    "    ax.set_ylabel(\"count\", fontsize=12)\n",
    "fig.suptitle(\"AQI Seoul Category Count Plot\", fontsize=14)\n",
    "plt.tight_layout()\n",
    "plt.show()\n",
    "\n",
    "fig.savefig(\"AQI Seoul Category Count Plot.png\")"
   ]
  },
  {
   "cell_type": "code",
   "execution_count": 83,
   "id": "5de6888d-e5a8-41c7-9ffe-09e6587f902f",
   "metadata": {},
   "outputs": [],
   "source": [
    "pm10_cnts = np.unique(df_seoul[\"PM10_AQI_CATE\"].values, return_counts=True)[1]\n",
    "pm10_cnts = list(pm10_cnts) + [0]*(6-len(pm10_cnts))\n",
    "pm25_cnts = np.unique(df_seoul[\"PM25_AQI_CATE\"].values, return_counts=True)[1]\n",
    "pm25_cnts = list(pm25_cnts) + [0]*(6-len(pm25_cnts))"
   ]
  },
  {
   "cell_type": "code",
   "execution_count": 84,
   "id": "79005369-9c43-4bee-80bf-f3c9aa0f8b4e",
   "metadata": {},
   "outputs": [],
   "source": [
    "pickle.dump([pm10_cnts, pm25_cnts], (data_path / \"class_weight.pickle\").open(\"wb\"))"
   ]
  },
  {
   "cell_type": "code",
   "execution_count": 85,
   "id": "8784da8b",
   "metadata": {},
   "outputs": [
    {
     "data": {
      "image/png": "[encoded data removed]",
      "text/plain": [
       "<Figure size 864x432 with 2 Axes>"
      ]
     },
     "metadata": {
      "needs_background": "light"
     },
     "output_type": "display_data"
    }
   ],
   "source": [
    "fig, axes = plt.subplots(1, 2, figsize=(12, 6))\n",
    "for ax, x in zip(axes.flatten(), [\"PM10_AQI_CATE\", \"PM25_AQI_CATE\"]):\n",
    "    sns.countplot(x=x, data=df_baek, ax=ax)\n",
    "    ax.set_title(f\"{x}\", fontsize=12)\n",
    "    ax.set_xlabel(f\"{x.split('_')[0]} categories\", fontsize=12)\n",
    "    ax.set_ylabel(\"count\", fontsize=12)\n",
    "fig.suptitle(\"AQI BaekRyungDo Category Count Plot\", fontsize=14)\n",
    "plt.tight_layout()\n",
    "plt.show()\n",
    "\n",
    "fig.savefig(\"AQI BaekRyungDo Category Count Plot.png\")"
   ]
  },
  {
   "cell_type": "markdown",
   "id": "d18c00ac-d8d8-489f-9679-15b119cb200c",
   "metadata": {},
   "source": [
    "## Encode district to number"
   ]
  },
  {
   "cell_type": "code",
   "execution_count": 86,
   "id": "b4536c05-0364-4364-ac3e-40793e25ddc7",
   "metadata": {},
   "outputs": [
    {
     "data": {
      "text/plain": [
       "array([ True,  True,  True,  True,  True,  True,  True,  True,  True,\n",
       "        True,  True,  True,  True,  True,  True,  True,  True,  True,\n",
       "        True,  True,  True,  True,  True,  True])"
      ]
     },
     "execution_count": 86,
     "metadata": {},
     "output_type": "execute_result"
    }
   ],
   "source": [
    "# Check if all the district is exist\n",
    "np.isin(df_seoul[\"district\"].unique(), df_traffic[\"district\"].unique())"
   ]
  },
  {
   "cell_type": "code",
   "execution_count": 87,
   "id": "098ecf3e",
   "metadata": {},
   "outputs": [
    {
     "data": {
      "text/plain": [
       "{'강남구': 0,\n",
       " '강동구': 1,\n",
       " '강서구': 2,\n",
       " '관악구': 3,\n",
       " '광진구': 4,\n",
       " '구로구': 5,\n",
       " '금천구': 6,\n",
       " '노원구': 7,\n",
       " '도봉구': 8,\n",
       " '동대문구': 9,\n",
       " '동작구': 10,\n",
       " '마포구': 11,\n",
       " '서대문구': 12,\n",
       " '서초구': 13,\n",
       " '성동구': 14,\n",
       " '성북구': 15,\n",
       " '송파구': 16,\n",
       " '양천구': 17,\n",
       " '영등포구': 18,\n",
       " '용산구': 19,\n",
       " '은평구': 20,\n",
       " '종로구': 21,\n",
       " '중구': 22,\n",
       " '중랑구': 23,\n",
       " '백령도': 24}"
      ]
     },
     "execution_count": 87,
     "metadata": {},
     "output_type": "execute_result"
    }
   ],
   "source": [
    "idx2gu = dict(enumerate(df_seoul[\"district\"].unique()))\n",
    "idx2gu[len(idx2gu)] = df_baek[\"district\"].unique()[0]  # add baek district\n",
    "gu2idx = {v: k for k, v in idx2gu.items()}\n",
    "gu2idx"
   ]
  },
  {
   "cell_type": "code",
   "execution_count": 88,
   "id": "a839df8c-1ad2-4e85-82c0-05696d6a6799",
   "metadata": {},
   "outputs": [],
   "source": [
    "pickle.dump(gu2idx, (data_path / \"gu2idx.pickle\").open(\"wb\"))"
   ]
  },
  {
   "cell_type": "code",
   "execution_count": 89,
   "id": "5ef458e9-d43f-4c21-99a3-f02875baa13a",
   "metadata": {},
   "outputs": [],
   "source": [
    "df_seoul[\"district\"] = df_seoul.loc[:, \"district\"].apply(gu2idx.get)\n",
    "df_baek[\"district\"] = df_baek.loc[:, \"district\"].apply(gu2idx.get)"
   ]
  },
  {
   "cell_type": "markdown",
   "id": "be81547f-b976-47ad-983a-e3145ab0dbe0",
   "metadata": {},
   "source": [
    "## Train & Test data Split\n",
    "\n",
    "2018~2019 for train / 2020 for test"
   ]
  },
  {
   "cell_type": "code",
   "execution_count": 90,
   "id": "de2946c7-72c9-404e-a12f-d4da8a9ccad5",
   "metadata": {},
   "outputs": [],
   "source": [
    "seoul_test_mask = df_seoul[\"date\"].dt.year == 2020\n",
    "baek_test_mask = df_baek[\"date\"].dt.year == 2020"
   ]
  },
  {
   "cell_type": "code",
   "execution_count": 91,
   "id": "9e718447-8f23-4db9-8ce9-fa8813f0a4b0",
   "metadata": {},
   "outputs": [],
   "source": [
    "df_train_seoul = df_seoul.loc[~seoul_test_mask, :]\n",
    "df_test_seoul = df_seoul.loc[seoul_test_mask, :]\n",
    "\n",
    "df_train_baek = df_baek.loc[~baek_test_mask, :]\n",
    "df_test_baek = df_baek.loc[baek_test_mask, :]"
   ]
  },
  {
   "cell_type": "code",
   "execution_count": 92,
   "id": "ebcec6db-5389-4d15-b39c-b260ce859872",
   "metadata": {},
   "outputs": [],
   "source": [
    "input_cols = [\n",
    "    'district', 'SO2', 'CO', 'O3', 'NO2', 'PM10', 'PM25', 'PM10_AQI', 'PM25_AQI', \n",
    "    'temperature', 'precipitation', 'windSpeed','windDirection', 'humidity', 'spotAtmosphericPressure', 'groundTemperature', 'traffic'\n",
    "]\n",
    "output_cols = ['PM10_AQI_CATE', 'PM25_AQI_CATE']"
   ]
  },
  {
   "cell_type": "markdown",
   "id": "5bd5528e-3436-461a-98aa-58e126f270c5",
   "metadata": {},
   "source": [
    "### normalize some columns"
   ]
  },
  {
   "cell_type": "code",
   "execution_count": 93,
   "id": "235c03b8-4011-40df-a96b-f26b1577e44f",
   "metadata": {},
   "outputs": [],
   "source": [
    "from sklearn.preprocessing import MinMaxScaler\n",
    "\n",
    "scaler_seoul = MinMaxScaler()\n",
    "scaler_baek = MinMaxScaler()"
   ]
  },
  {
   "cell_type": "code",
   "execution_count": 94,
   "id": "bc9de6e3-78c7-4aa3-8f87-cc71566826e5",
   "metadata": {},
   "outputs": [],
   "source": [
    "df_train_seoul_scaled = pd.concat(\n",
    "    [df_train_seoul.loc[:, [\"date\"]].reset_index(drop=True), \n",
    "    pd.DataFrame(\n",
    "        np.concatenate([\n",
    "            df_train_seoul.loc[:, [input_cols[0]]].values, \n",
    "            scaler_seoul.fit_transform(df_train_seoul.loc[:, input_cols[1:]]),\n",
    "            df_train_seoul.loc[:, output_cols].values\n",
    "        ], axis=1), \n",
    "        columns=(input_cols + output_cols)\n",
    "    )], axis=1\n",
    ").reset_index(drop=True)\n",
    "\n",
    "df_train_baek_scaled = pd.concat(\n",
    "    [df_train_baek.loc[:, [\"date\"]].reset_index(drop=True), \n",
    "    pd.DataFrame(\n",
    "        np.concatenate([\n",
    "            df_train_baek.loc[:, [input_cols[0]]].values, \n",
    "            scaler_baek.fit_transform(df_train_baek.loc[:, input_cols[1:-1]]),\n",
    "        ], axis=1), \n",
    "        columns=input_cols[:-1]\n",
    "    )], axis=1\n",
    ").reset_index(drop=True)\n",
    "\n",
    "df_test_seoul_scaled = pd.concat(\n",
    "    [df_test_seoul.loc[:, [\"date\"]].reset_index(drop=True), \n",
    "    pd.DataFrame(\n",
    "        np.concatenate([\n",
    "            df_test_seoul.loc[:, [input_cols[0]]].values, \n",
    "            scaler_seoul.transform(df_test_seoul.loc[:, input_cols[1:]]),\n",
    "            df_test_seoul.loc[:, output_cols].values\n",
    "        ], axis=1), \n",
    "        columns=(input_cols + output_cols)\n",
    "    )], axis=1\n",
    ").reset_index(drop=True)\n",
    "\n",
    "df_test_baek_scaled = pd.concat(\n",
    "    [df_test_baek.loc[:, [\"date\"]].reset_index(drop=True), \n",
    "    pd.DataFrame(\n",
    "        np.concatenate([\n",
    "            df_test_baek.loc[:, [input_cols[0]]].values, \n",
    "            scaler_baek.transform(df_test_baek.loc[:, input_cols[1:-1]]),\n",
    "        ], axis=1), \n",
    "        columns=input_cols[:-1]\n",
    "    )], axis=1\n",
    ").reset_index(drop=True)"
   ]
  },
  {
   "cell_type": "code",
   "execution_count": 95,
   "id": "e1fae9fb-41f4-4688-b4ff-a34078fae97c",
   "metadata": {},
   "outputs": [],
   "source": [
    "# change data type\n",
    "def change2int(df, baek=False):\n",
    "    df[\"district\"] = df[\"district\"].astype(int)\n",
    "    if not baek:\n",
    "        df[\"PM10_AQI_CATE\"] = df[\"PM10_AQI_CATE\"].astype(int)\n",
    "        df[\"PM25_AQI_CATE\"] = df[\"PM25_AQI_CATE\"].astype(int)\n",
    "    return df\n",
    "df_train_seoul_scaled = change2int(df_train_seoul_scaled)\n",
    "df_train_baek_scaled = change2int(df_train_baek_scaled, baek=True)\n",
    "df_test_seoul_scaled = change2int(df_test_seoul_scaled)\n",
    "df_test_baek_scaled = change2int(df_test_baek_scaled, baek=True)"
   ]
  },
  {
   "cell_type": "code",
   "execution_count": 96,
   "id": "ea3a682d-8a48-493a-9b3d-05a99cad0ee5",
   "metadata": {
    "tags": []
   },
   "outputs": [],
   "source": [
    "df_train_seoul_scaled = df_train_seoul_scaled.groupby(\"district\").apply(lambda x: x.sort_values(\"date\")).reset_index(-1, drop=True)\n",
    "# df_train_baek_scaled = df_train_baek_scaled.groupby(\"district\").apply(lambda x: x.sort_values(\"date\")).reset_index(-1, drop=True)\n",
    "df_test_seoul_scaled = df_test_seoul_scaled.groupby(\"district\").apply(lambda x: x.sort_values(\"date\")).reset_index(-1, drop=True)\n",
    "# df_test_baek_scaled = df_test_baek_scaled.groupby(\"district\").apply(lambda x: x.sort_values(\"date\")).reset_index(-1, drop=True)"
   ]
  },
  {
   "cell_type": "code",
   "execution_count": 148,
   "id": "a3199f2a-4ba4-4f21-9abb-79f78edeaf83",
   "metadata": {},
   "outputs": [],
   "source": [
    "T = len(df_train_seoul_scaled.loc[0])\n",
    "X_idx, y_idx = sliding_window(T, window_size, time_lag)"
   ]
  },
  {
   "cell_type": "code",
   "execution_count": 150,
   "id": "25687166-3a67-41b5-932a-2240ee15b9d0",
   "metadata": {},
   "outputs": [
    {
     "data": {
      "text/plain": [
       "array([['2018-01-01T00:00:00.000000000', '2018-01-01T01:00:00.000000000',\n",
       "        '2018-01-01T02:00:00.000000000', ...,\n",
       "        '2018-01-01T21:00:00.000000000', '2018-01-01T22:00:00.000000000',\n",
       "        '2018-01-01T23:00:00.000000000'],\n",
       "       ['2018-01-02T00:00:00.000000000', '2018-01-02T01:00:00.000000000',\n",
       "        '2018-01-02T02:00:00.000000000', ...,\n",
       "        '2018-01-02T21:00:00.000000000', '2018-01-02T22:00:00.000000000',\n",
       "        '2018-01-02T23:00:00.000000000'],\n",
       "       ['2018-01-03T00:00:00.000000000', '2018-01-03T01:00:00.000000000',\n",
       "        '2018-01-03T02:00:00.000000000', ...,\n",
       "        '2018-01-03T21:00:00.000000000', '2018-01-03T22:00:00.000000000',\n",
       "        '2018-01-03T23:00:00.000000000'],\n",
       "       ...,\n",
       "       ['2019-12-28T00:00:00.000000000', '2019-12-28T01:00:00.000000000',\n",
       "        '2019-12-28T02:00:00.000000000', ...,\n",
       "        '2019-12-28T21:00:00.000000000', '2019-12-28T22:00:00.000000000',\n",
       "        '2019-12-28T23:00:00.000000000'],\n",
       "       ['2019-12-29T00:00:00.000000000', '2019-12-29T01:00:00.000000000',\n",
       "        '2019-12-29T02:00:00.000000000', ...,\n",
       "        '2019-12-29T21:00:00.000000000', '2019-12-29T22:00:00.000000000',\n",
       "        '2019-12-29T23:00:00.000000000'],\n",
       "       ['2019-12-30T00:00:00.000000000', '2019-12-30T01:00:00.000000000',\n",
       "        '2019-12-30T02:00:00.000000000', ...,\n",
       "        '2019-12-30T21:00:00.000000000', '2019-12-30T22:00:00.000000000',\n",
       "        '2019-12-30T23:00:00.000000000']], dtype='datetime64[ns]')"
      ]
     },
     "execution_count": 150,
     "metadata": {},
     "output_type": "execute_result"
    }
   ],
   "source": [
    "df_train_seoul_scaled.loc[0][\"date\"].values[X_idx]"
   ]
  },
  {
   "cell_type": "markdown",
   "id": "cb6fc474-52ac-416a-a8a9-8ac3101e0c42",
   "metadata": {},
   "source": [
    "## Fit into RNN format"
   ]
  },
  {
   "cell_type": "code",
   "execution_count": 97,
   "id": "b0735131-fdcf-45c4-a183-f3c0ceeca2e0",
   "metadata": {},
   "outputs": [],
   "source": [
    "def sliding_window(T: int, window_size: int, time_lag: int):\n",
    "    X_idx = np.expand_dims(np.arange(window_size), 0) + np.expand_dims(np.arange(0, T - window_size - time_lag + 1, time_lag), 0).T\n",
    "    y_idx = np.expand_dims(np.arange(window_size), 0) + np.expand_dims(np.arange(time_lag, T - window_size + 1, time_lag), 0).T\n",
    "    return X_idx, y_idx"
   ]
  },
  {
   "cell_type": "code",
   "execution_count": 98,
   "id": "c2a755e4-5605-4938-95fd-02967c4ea7d7",
   "metadata": {},
   "outputs": [],
   "source": [
    "exp_type_dict = {\n",
    "    \"baseline\": ['SO2', 'CO', 'O3', 'NO2', 'PM10', 'PM25', 'PM10_AQI', 'PM25_AQI'], \n",
    "    \"weather\": ['SO2', 'CO', 'O3', 'NO2', 'PM10', 'PM25', 'PM10_AQI', 'PM25_AQI', 'temperature', 'precipitation', 'windSpeed', 'windDirection', 'humidity', 'spotAtmosphericPressure', 'groundTemperature'], \n",
    "    \"traffic\": ['SO2', 'CO', 'O3', 'NO2', 'PM10', 'PM25', 'PM10_AQI', 'PM25_AQI', 'temperature', 'precipitation', 'windSpeed', 'windDirection', 'humidity', 'spotAtmosphericPressure', 'groundTemperature', 'traffic']\n",
    "}"
   ]
  },
  {
   "cell_type": "code",
   "execution_count": 99,
   "id": "e23f2541-8b16-49af-bb60-bd59626ddc29",
   "metadata": {},
   "outputs": [],
   "source": [
    "districts = df_train_seoul_scaled.district.unique()\n",
    "window_size = 24\n",
    "time_lag = 24\n",
    "\n",
    "def get_exp_data(df_seoul_scaled, df_baek_scaled, exp_type_dict, districts, output_cols, window_size, time_lag):\n",
    "    exp_type_data = {}\n",
    "    for k, inp_cols in exp_type_dict.items():\n",
    "        baek_inp_cols = inp_cols[:-1] if k == \"traffic\" else inp_cols\n",
    "        data = []\n",
    "        for d in districts:\n",
    "            T = len(df_seoul_scaled.loc[d])\n",
    "            X_idx, y_idx = sliding_window(T, window_size, time_lag)\n",
    "\n",
    "            ss = df_seoul_scaled.loc[d, [\"district\"] + inp_cols].values[X_idx]\n",
    "            bs = df_baek_scaled.loc[:, [\"district\"] + baek_inp_cols].values[X_idx]\n",
    "            o = df_seoul_scaled.loc[d, output_cols].values[y_idx]\n",
    "            \n",
    "            data.append((ss, bs, o))\n",
    "        exp_type_data[k] = tuple(map(np.concatenate, list(zip(*data))))  # for seoul, baek, output (n_district * n_total_len, 24, n_feature)\n",
    "    return exp_type_data\n",
    "   \n",
    "exp_train_type_data = get_exp_data(df_train_seoul_scaled, df_train_baek_scaled, exp_type_dict, districts, output_cols, window_size, time_lag)\n",
    "exp_test_type_data = get_exp_data(df_test_seoul_scaled, df_test_baek_scaled, exp_type_dict, districts, output_cols, window_size, time_lag)"
   ]
  },
  {
   "cell_type": "code",
   "execution_count": 25,
   "id": "8a5e6eb1-fda0-48b0-b50e-8a84d8b7e2c5",
   "metadata": {},
   "outputs": [],
   "source": [
    "for k, v in exp_train_type_data.items():\n",
    "    pickle.dump(v, (data_path / f\"train_{k}.pickle\").open(\"wb\"))\n",
    "for k, v in exp_test_type_data.items():\n",
    "    pickle.dump(v, (data_path / f\"test_{k}.pickle\").open(\"wb\"))"
   ]
  },
  {
   "cell_type": "markdown",
   "id": "2c7a0486-75cd-403f-9937-a0e402f99ceb",
   "metadata": {},
   "source": [
    "## Dataloader"
   ]
  },
  {
   "cell_type": "code",
   "execution_count": 33,
   "id": "63082097-cecb-4b85-a5c8-9a6fbd36c079",
   "metadata": {},
   "outputs": [],
   "source": [
    "import torch\n",
    "from torch.utils.data import DataLoader, Dataset"
   ]
  },
  {
   "cell_type": "code",
   "execution_count": 10,
   "id": "65fbe6f6-d200-4bdd-a737-3e6adb5f1bf6",
   "metadata": {},
   "outputs": [],
   "source": [
    "data_path = Path(\"./data\")"
   ]
  },
  {
   "cell_type": "code",
   "execution_count": 11,
   "id": "8b2944be-915d-4e33-b397-32b8a6fb0ace",
   "metadata": {},
   "outputs": [],
   "source": [
    "class AirDataset(Dataset):\n",
    "    def __init__(self, data_path, exp_type, stage):\n",
    "        self.stage = stage\n",
    "        self.exp_type = exp_type\n",
    "        self.data_path = Path(data_path) / f\"{stage}_{exp_type}.pickle\"\n",
    "        data = pickle.load(self.data_path.open(\"rb\"))\n",
    "        self.x_seoul, self.x_baek, self.x_output = data\n",
    "        \n",
    "    def __getitem__(self, index):\n",
    "        # return index datas\n",
    "        return [self.x_seoul[index], self.x_baek[index], self.x_output[index]]\n",
    "        \n",
    "    def __len__(self):\n",
    "        # lengths of data\n",
    "        return len(self.x_seoul)\n",
    "    \n",
    "    def collcate_fn(self, data):\n",
    "        # data: B, 3, 24, n_feature\n",
    "        seoul, beak, output = map(np.array, list(zip(*data)))\n",
    "        t_seoul_dist = torch.LongTensor(seoul[:, :, 0])\n",
    "        t_beak_dist = torch.LongTensor(beak[:, :, 0])\n",
    "        t_seoul = torch.FloatTensor(seoul[:, :, 1:])\n",
    "        t_baek = torch.FloatTensor(beak[:, :, 1:])\n",
    "        t_output = torch.LongTensor(output).view(-1, 2)\n",
    "        return t_seoul, t_seoul_dist, t_baek, t_beak_dist, t_output"
   ]
  },
  {
   "cell_type": "code",
   "execution_count": 12,
   "id": "ce3a6757-310f-47af-bbf9-d38e8337d5d0",
   "metadata": {},
   "outputs": [],
   "source": [
    "ds = AirDataset(data_path, exp_type=\"traffic\", stage=\"train\")"
   ]
  },
  {
   "cell_type": "code",
   "execution_count": 13,
   "id": "69de555e-87cf-47b0-8f67-b884521c7476",
   "metadata": {},
   "outputs": [],
   "source": [
    "train_loader = DataLoader(ds, shuffle=True, batch_size=2, collate_fn=ds.collcate_fn)"
   ]
  },
  {
   "cell_type": "code",
   "execution_count": 14,
   "id": "ca3eab35-25ac-47a9-aef1-557cfbc3f2c0",
   "metadata": {},
   "outputs": [
    {
     "name": "stdout",
     "output_type": "stream",
     "text": [
      "torch.Size([2, 24, 16])\n",
      "torch.Size([2, 24])\n",
      "torch.Size([2, 24, 15])\n",
      "torch.Size([2, 24])\n",
      "torch.Size([48, 2])\n"
     ]
    }
   ],
   "source": [
    "for b in train_loader:\n",
    "    for x in b:\n",
    "        print(x.size())\n",
    "    break"
   ]
  },
  {
   "cell_type": "code",
   "execution_count": 15,
   "id": "d43aa086-e204-4d2e-9ee6-8d44be123f2b",
   "metadata": {},
   "outputs": [],
   "source": [
    "t_seoul, t_seoul_dist, t_baek, t_beak_dist, t_output = b"
   ]
  },
  {
   "cell_type": "code",
   "execution_count": null,
   "id": "8016e276-dbff-4a43-b13a-133d18de7b1a",
   "metadata": {},
   "outputs": [],
   "source": []
  },
  {
   "cell_type": "markdown",
   "id": "42b578de-32a0-4642-8c49-58f71d145906",
   "metadata": {},
   "source": [
    "# Model"
   ]
  },
  {
   "cell_type": "code",
   "execution_count": 38,
   "id": "ae136a95-8318-4d95-9305-73a634ef3ab2",
   "metadata": {},
   "outputs": [],
   "source": [
    "class Model(nn.Module):\n",
    "    def __init__(self, n_seoul_features, n_baek_features, n_gu, hidden, num_layers=2, num_classes=6, dropout=0.1):\n",
    "        super().__init__()\n",
    "        self.district_embedding = nn.Embedding(n_gu, hidden)\n",
    "        self.seoul_encoder = nn.LSTM(n_seoul_features, hidden, num_layers=num_layers, batch_first=True, bidirectional=False, dropout=dropout)\n",
    "        self.baek_encoder = nn.LSTM(n_baek_features, hidden, num_layers=num_layers, batch_first=True, bidirectional=False, dropout=dropout)\n",
    "        \n",
    "        self.layer_norm = nn.LayerNorm(2*hidden)\n",
    "        self.attn_lienar = nn.Linear(2*hidden, 2*hidden)\n",
    "        \n",
    "        self.decoder = nn.LSTM(2*hidden, hidden, num_layers=num_layers, batch_first=True, bidirectional=False, dropout=dropout)\n",
    "        self.linear_pm10 = nn.Linear(hidden, num_classes)\n",
    "        self.linear_pm25 = nn.Linear(hidden, num_classes)\n",
    "                \n",
    "    def forward(self, t_seoul, t_seoul_dist, t_baek, t_beak_dist, rt_attn=False):\n",
    "        embed_seoul = self.district_embedding(t_seoul_dist)  # (B, T_s, H)\n",
    "        embed_baek = self.district_embedding(t_beak_dist)  # (B, T_b, H)\n",
    "        o_seoul, (h_seoul, c_seoul) = self.seoul_encoder(t_seoul) # (B, T_s, H)\n",
    "        o_baek, (h_baek, c_baek) = self.baek_encoder(t_baek) # (B, T_b, H)\n",
    "        \n",
    "        seoul_context = torch.cat([embed_seoul, o_seoul], dim=2)  # (B, T_s, 2H)\n",
    "        baek_context = torch.cat([embed_baek, o_baek], dim=2)  # (B, T_b, 2H)\n",
    "        # attention\n",
    "        baek_transform = self.attn_lienar(baek_context)  # (B, T_b, 2H)\n",
    "        score_s2b = torch.bmm(seoul_context, baek_transform.transpose(1, 2))  # (B, T_s, T_b)\n",
    "        attn_s2b = torch.softmax(score_s2b, dim=2) # (B, T_s, T_b)\n",
    "        # attn_s2b: (B, T_s, T_b) -> (B, T_s, T_b, 1)\n",
    "        # baek_context: (B, 1, T_s, 2H)\n",
    "        # baek_context \\odot attn_s2b = (B, T_s, T_b, 1) \\odot (B, 1, T_b, 2H) = (B, T_s, T_b, 2H)\n",
    "        # -> reduce sum to T_b to get context for each column (B, T_s, 2H)\n",
    "        context = torch.mul(attn_s2b.unsqueeze(3), baek_context.unsqueeze(1)).sum(dim=2)\n",
    "        context = self.layer_norm(context)\n",
    "        o, (h, c) = self.decoder(context)  # (B, T, H)\n",
    "        o_pm10 = self.linear_pm10(o)  # (B, T, 6)\n",
    "        o_pm25 = self.linear_pm25(o)  # (B, T, 6)\n",
    "        if rt_attn:\n",
    "            return o_pm10, o_pm25, attn\n",
    "        return o_pm10, o_pm25\n",
    "    \n",
    "    def predict(self, t_seoul, t_seoul_dist, t_baek, t_beak_dist):\n",
    "        o_pm10, o_pm25 = self(t_seoul, t_seoul_dist, t_baek, t_beak_dist)\n",
    "        return o_pm10.argmax(-1), o_pm25.argmax(-1)"
   ]
  },
  {
   "cell_type": "code",
   "execution_count": 19,
   "id": "0d7663ce-815d-4957-abdf-eccccdb886d3",
   "metadata": {},
   "outputs": [],
   "source": [
    "exp_type = \"traffic\"\n",
    "n_seoul_features = len(exp_type_dict[exp_type])\n",
    "n_baek_features = len(exp_type_dict[exp_type][:-1]) if exp_type == \"traffic\" else len(exp_type_dict[exp_type])\n",
    "n_gu=len(gu2idx)\n",
    "hidden=50\n",
    "model = Model(n_seoul_features, n_baek_features, n_gu, hidden, num_layers=2, num_classes=6, dropout=0.1)\n",
    "o_pm10, o_pm25 = model(t_seoul, t_seoul_dist, t_baek, t_beak_dist)\n",
    "p_pm10, p_pm25 = model.predict(t_seoul, t_seoul_dist, t_baek, t_beak_dist)"
   ]
  },
  {
   "cell_type": "code",
   "execution_count": 21,
   "id": "bab102ae",
   "metadata": {},
   "outputs": [
    {
     "data": {
      "text/plain": [
       "(tensor([[0, 0, 0, 0, 0, 0, 0, 0, 0, 0, 0, 0, 0, 0, 0, 0, 0, 0, 0, 0, 0, 0, 0, 0],\n",
       "         [0, 0, 0, 0, 0, 0, 0, 0, 0, 0, 0, 0, 0, 0, 0, 0, 0, 0, 0, 0, 0, 0, 0, 0]]),\n",
       " tensor([[5, 5, 5, 5, 5, 5, 5, 5, 5, 5, 5, 5, 5, 5, 5, 5, 5, 5, 5, 5, 5, 5, 5, 5],\n",
       "         [5, 5, 5, 5, 5, 5, 5, 5, 5, 5, 5, 5, 5, 5, 5, 5, 5, 5, 5, 5, 5, 5, 5, 5]]))"
      ]
     },
     "execution_count": 21,
     "metadata": {},
     "output_type": "execute_result"
    }
   ],
   "source": [
    "p_pm10, p_pm25"
   ]
  },
  {
   "cell_type": "code",
   "execution_count": 22,
   "id": "14ae7635-fcf2-4a5a-8239-7271ba0fd60a",
   "metadata": {},
   "outputs": [
    {
     "data": {
      "text/plain": [
       "(tensor([0, 0, 0, 0, 0, 0, 0, 0, 1, 0, 0, 0, 0, 0, 1, 1, 1, 1, 1, 0, 1, 1, 0, 0,\n",
       "         0, 0, 0, 0, 0, 0, 0, 0, 0, 0, 0, 0, 0, 0, 0, 0, 0, 0, 0, 0, 0, 0, 0, 0]),\n",
       " tensor([1, 1, 1, 1, 1, 1, 1, 1, 2, 1, 1, 1, 1, 1, 2, 2, 2, 2, 2, 2, 2, 2, 2, 2,\n",
       "         1, 1, 1, 1, 1, 1, 0, 1, 1, 1, 1, 1, 1, 1, 1, 1, 1, 1, 1, 1, 1, 1, 1, 1]))"
      ]
     },
     "execution_count": 22,
     "metadata": {},
     "output_type": "execute_result"
    }
   ],
   "source": [
    "t_output.view(-1, 2)[:, 0], t_output.view(-1, 2)[:, 1]"
   ]
  },
  {
   "cell_type": "code",
   "execution_count": 125,
   "id": "b4850519-9888-4162-ab29-f231735cf0c4",
   "metadata": {},
   "outputs": [],
   "source": [
    "class LitModel(pl.LightningModule):\n",
    "    def __init__(self, **kwargs) -> None:\n",
    "        super().__init__()\n",
    "        self.save_hyperparameters()\n",
    "        self.model = Model(\n",
    "            self.hparams.n_seoul_features,\n",
    "            self.hparams.n_baek_features, \n",
    "            self.hparams.n_gu, \n",
    "            self.hparams.hidden,\n",
    "            self.hparams.num_layers,\n",
    "            self.hparams.num_classes, \n",
    "            self.hparams.dropout\n",
    "        )\n",
    "        \n",
    "        if self.hparams.class_weight_file is None:\n",
    "            weight_pm10, weight_pm25 = None, None\n",
    "        else:\n",
    "            weight_pm10, weight_pm25 = pickle.load((Path(self.hparams.data_path) / self.hparams.class_weight_file).open(\"rb\"))\n",
    "        \n",
    "        self.loss_fn_pm10 = nn.CrossEntropyLoss(weight=torch.FloatTensor(weight_pm10) if weight_pm10 else None)\n",
    "        self.loss_fn_pm25 = nn.CrossEntropyLoss(weight=torch.FloatTensor(weight_pm25) if weight_pm25 else None)\n",
    "        \n",
    "        metrics = torchmetrics.MetricCollection([\n",
    "            torchmetrics.Accuracy(num_classes=self.hparams.num_classes), \n",
    "            torchmetrics.Precision(num_classes=self.hparams.num_classes), \n",
    "            torchmetrics.Recall(num_classes=self.hparams.num_classes)\n",
    "        ])\n",
    "        self.train_pm10_metrics = metrics.clone(prefix='train_pm10_')\n",
    "        self.train_pm25_metrics = metrics.clone(prefix='train_pm25_')\n",
    "        self.valid_pm10_metrics = metrics.clone(prefix='val_pm10_')\n",
    "        self.valid_pm25_metrics = metrics.clone(prefix='val_pm25_')\n",
    "    \n",
    "    def create_dataloader(self, mode):\n",
    "        num_workers = 0 if os.name == \"nt\" else self.hparams.num_workers\n",
    "        if mode == \"train\":\n",
    "            shuffle = True\n",
    "            batch_size = self.hparams.train_batch_size\n",
    "        else:\n",
    "            shuffle = False\n",
    "            batch_size = self.hparams.test_batch_size\n",
    "        dataset = AirDataset(self.hparams.data_path, exp_type=self.hparams.exp_type, stage=mode)\n",
    "        data_loader = torch.utils.data.DataLoader(\n",
    "            batch_size=batch_size,\n",
    "            dataset=dataset,\n",
    "            shuffle=shuffle,\n",
    "            num_workers=num_workers,\n",
    "            collate_fn=dataset.collcate_fn,\n",
    "            pin_memory=False if num_workers > 0 else False,\n",
    "        )\n",
    "        return data_loader\n",
    "    \n",
    "    def train_dataloader(self):\n",
    "        return self.create_dataloader(mode=\"train\")\n",
    "\n",
    "    def val_dataloader(self):\n",
    "        return self.create_dataloader(mode=\"test\")\n",
    "    \n",
    "    def configure_optimizers(self):\n",
    "        opt = torch.optim.AdamW(filter(lambda p: p.requires_grad, self.model.parameters()),\n",
    "                                       lr=self.hparams.lr, weight_decay=self.hparams.wd)\n",
    "        return opt\n",
    "\n",
    "    def forward(self, t_seoul, t_seoul_dist, t_baek, t_beak_dist):\n",
    "        o_pm10, o_pm25 = self.model(t_seoul, t_seoul_dist, t_baek, t_beak_dist)\n",
    "        return o_pm10, o_pm25\n",
    "    \n",
    "    def cal_metrics(self, o_pm10, o_pm25, t_output):\n",
    "        p_pm10, p_pm25 = o_pm10.argmax(-1).view(-1), o_pm25.argmax(-1).view(-1)  # (B*T,)\n",
    "        t_pm10, t_pm25 = t_output.view(-1, 2)[:, 0], t_output.view(-1, 2)[:, 1]\n",
    "        return p_pm10, p_pm25, t_pm10, t_pm25\n",
    "    \n",
    "    def cal_loss(self, o_pm10, o_pm25, t_output):\n",
    "        loss_pm10 = self.loss_fn_pm10(o_pm10.view(-1, self.hparams.num_classes), t_output.view(-1, 2)[:, 0])\n",
    "        loss_pm25 = self.loss_fn_pm25(o_pm25.view(-1, self.hparams.num_classes), t_output.view(-1, 2)[:, 1])\n",
    "        loss = (loss_pm10 + loss_pm25) / 2\n",
    "        return loss\n",
    "    \n",
    "    def training_step(self, batch, batch_idx):\n",
    "        t_seoul, t_seoul_dist, t_baek, t_beak_dist, t_output = batch\n",
    "        o_pm10, o_pm25 = self(t_seoul, t_seoul_dist, t_baek, t_beak_dist)\n",
    "        loss = self.cal_loss(o_pm10, o_pm25, t_output)\n",
    "        p_pm10, p_pm25, t_pm10, t_pm25 = self.cal_metrics(o_pm10, o_pm25, t_output)\n",
    "        metric_pm10 = self.train_pm10_metrics(p_pm10, t_pm10)\n",
    "        metric_pm25 = self.train_pm25_metrics(p_pm25, t_pm25)\n",
    "        self.log_dict(metric_pm10)\n",
    "        self.log_dict(metric_pm25)\n",
    "        return {\"loss\": loss}\n",
    "    \n",
    "    def train_epoch_end(self, outputs):\n",
    "        self.train_pm10_metrics.reset()\n",
    "        self.train_pm25_metrics.reset()\n",
    "        \n",
    "    def validation_step(self, batch, batch_idx):\n",
    "        t_seoul, t_seoul_dist, t_baek, t_beak_dist, t_output = batch\n",
    "        o_pm10, o_pm25 = self(t_seoul, t_seoul_dist, t_baek, t_beak_dist)\n",
    "        loss = self.cal_loss(o_pm10, o_pm25, t_output)\n",
    "        p_pm10, p_pm25, t_pm10, t_pm25 = self.cal_metrics(o_pm10, o_pm25, t_output)\n",
    "        metric_pm10 = self.valid_pm10_metrics(p_pm10, t_pm10)\n",
    "        metric_pm25 = self.valid_pm25_metrics(p_pm25, t_pm25)\n",
    "        self.log(\"val_loss\", loss)\n",
    "        #self.log(\"val_acc\", (metric_pm10[\"val_pm10_Accuracy\"] + metric_pm25[\"val_pm25_Accuracy\"])/2)\n",
    "        self.log_dict(metric_pm10)\n",
    "        self.log_dict(metric_pm25)\n",
    "    \n",
    "    def validation_epoch_end(self, outputs):\n",
    "        self.valid_pm10_metrics.reset()\n",
    "        self.valid_pm25_metrics.reset()\n",
    "        \n",
    "    \n",
    "    def predict(self, t_seoul, t_seoul_dist, t_baek, t_beak_dist):\n",
    "        p_pm10, p_pm25 = self.model.predict(t_seoul, t_seoul_dist, t_baek, t_beak_dist)\n",
    "        return p_pm10, p_pm25"
   ]
  },
  {
   "cell_type": "code",
   "execution_count": 139,
   "id": "b09dc062-523a-4294-adea-18831a64ee27",
   "metadata": {},
   "outputs": [],
   "source": [
    "exp_len_dict = {'baseline': 8, 'weather': 15, 'traffic': 16}\n",
    "exp_type = \"traffic\"\n",
    "data_path = \"./data\"\n",
    "gu2idx = pickle.load((Path(data_path) / \"gu2idx.pickle\").open(\"rb\"))\n",
    "args_dict = dict(\n",
    "    # exp type\n",
    "    exp_type=exp_type,\n",
    "    # Data path\n",
    "    data_path=data_path,\n",
    "    # Dataloader\n",
    "    train_batch_size=256,\n",
    "    test_batch_size=256,\n",
    "    num_workers=0,\n",
    "    # Model\n",
    "    n_gu=len(gu2idx),\n",
    "    n_seoul_features=exp_len_dict[exp_type],\n",
    "    n_baek_features=exp_len_dict[exp_type] - 1 if exp_type == \"traffic\" else exp_len_dict[exp_type],\n",
    "    hidden=300,\n",
    "    num_layers=2,\n",
    "    num_classes=6,\n",
    "    dropout=0.1,\n",
    "\n",
    "    # Loss Function\n",
    "    class_weight_file = \"class_weight.pickle\",  # scale up for guessing where number\n",
    "\n",
    "    # Optimizer\n",
    "    lr = 1e-4,\n",
    "    wd = 1e-6,\n",
    ")"
   ]
  },
  {
   "cell_type": "code",
   "execution_count": 140,
   "id": "8c967186-b138-4579-bd2a-0fc7c362f569",
   "metadata": {},
   "outputs": [
    {
     "name": "stderr",
     "output_type": "stream",
     "text": [
      "Global seed set to 564\n",
      "GPU available: True, used: True\n",
      "TPU available: False, using: 0 TPU cores\n",
      "LOCAL_RANK: 0 - CUDA_VISIBLE_DEVICES: [0]\n",
      "Missing logger folder: logs\\traffic\n",
      "\n",
      "  | Name               | Type             | Params\n",
      "--------------------------------------------------------\n",
      "0 | model              | Model            | 4.4 M \n",
      "1 | loss_fn_pm10       | CrossEntropyLoss | 0     \n",
      "2 | loss_fn_pm25       | CrossEntropyLoss | 0     \n",
      "3 | train_pm10_metrics | MetricCollection | 0     \n",
      "4 | train_pm25_metrics | MetricCollection | 0     \n",
      "5 | valid_pm10_metrics | MetricCollection | 0     \n",
      "6 | valid_pm25_metrics | MetricCollection | 0     \n",
      "--------------------------------------------------------\n",
      "4.4 M     Trainable params\n",
      "0         Non-trainable params\n",
      "4.4 M     Total params\n",
      "17.538    Total estimated model params size (MB)\n"
     ]
    },
    {
     "data": {
      "application/vnd.jupyter.widget-view+json": {
       "model_id": "37264a9da41f4b158884ffed3d8c108c",
       "version_major": 2,
       "version_minor": 0
      },
      "text/plain": [
       "Training: 0it [00:00, ?it/s]"
      ]
     },
     "metadata": {},
     "output_type": "display_data"
    },
    {
     "data": {
      "application/vnd.jupyter.widget-view+json": {
       "model_id": "",
       "version_major": 2,
       "version_minor": 0
      },
      "text/plain": [
       "Validating: 0it [00:00, ?it/s]"
      ]
     },
     "metadata": {},
     "output_type": "display_data"
    },
    {
     "name": "stderr",
     "output_type": "stream",
     "text": [
      "Epoch 0, global step 68: val_loss reached 0.49793 (best 0.49793), saving model to \"logs\\traffic\\version_0\\checkpoints\\trafficepoch=00-val_loss=0.498.ckpt\" as top 5\n"
     ]
    },
    {
     "data": {
      "application/vnd.jupyter.widget-view+json": {
       "model_id": "",
       "version_major": 2,
       "version_minor": 0
      },
      "text/plain": [
       "Validating: 0it [00:00, ?it/s]"
      ]
     },
     "metadata": {},
     "output_type": "display_data"
    },
    {
     "name": "stderr",
     "output_type": "stream",
     "text": [
      "Epoch 1, global step 137: val_loss reached 0.47667 (best 0.47667), saving model to \"logs\\traffic\\version_0\\checkpoints\\trafficepoch=01-val_loss=0.477.ckpt\" as top 5\n"
     ]
    },
    {
     "data": {
      "application/vnd.jupyter.widget-view+json": {
       "model_id": "",
       "version_major": 2,
       "version_minor": 0
      },
      "text/plain": [
       "Validating: 0it [00:00, ?it/s]"
      ]
     },
     "metadata": {},
     "output_type": "display_data"
    },
    {
     "name": "stderr",
     "output_type": "stream",
     "text": [
      "Epoch 2, global step 206: val_loss reached 0.47253 (best 0.47253), saving model to \"logs\\traffic\\version_0\\checkpoints\\trafficepoch=02-val_loss=0.473.ckpt\" as top 5\n"
     ]
    },
    {
     "data": {
      "application/vnd.jupyter.widget-view+json": {
       "model_id": "",
       "version_major": 2,
       "version_minor": 0
      },
      "text/plain": [
       "Validating: 0it [00:00, ?it/s]"
      ]
     },
     "metadata": {},
     "output_type": "display_data"
    },
    {
     "name": "stderr",
     "output_type": "stream",
     "text": [
      "Epoch 3, global step 275: val_loss reached 0.46784 (best 0.46784), saving model to \"logs\\traffic\\version_0\\checkpoints\\trafficepoch=03-val_loss=0.468.ckpt\" as top 5\n"
     ]
    },
    {
     "data": {
      "application/vnd.jupyter.widget-view+json": {
       "model_id": "",
       "version_major": 2,
       "version_minor": 0
      },
      "text/plain": [
       "Validating: 0it [00:00, ?it/s]"
      ]
     },
     "metadata": {},
     "output_type": "display_data"
    },
    {
     "name": "stderr",
     "output_type": "stream",
     "text": [
      "Epoch 4, global step 344: val_loss reached 0.46776 (best 0.46776), saving model to \"logs\\traffic\\version_0\\checkpoints\\trafficepoch=04-val_loss=0.468.ckpt\" as top 5\n"
     ]
    },
    {
     "data": {
      "application/vnd.jupyter.widget-view+json": {
       "model_id": "",
       "version_major": 2,
       "version_minor": 0
      },
      "text/plain": [
       "Validating: 0it [00:00, ?it/s]"
      ]
     },
     "metadata": {},
     "output_type": "display_data"
    },
    {
     "name": "stderr",
     "output_type": "stream",
     "text": [
      "Epoch 5, global step 413: val_loss reached 0.46538 (best 0.46538), saving model to \"logs\\traffic\\version_0\\checkpoints\\trafficepoch=05-val_loss=0.465.ckpt\" as top 5\n"
     ]
    },
    {
     "data": {
      "application/vnd.jupyter.widget-view+json": {
       "model_id": "",
       "version_major": 2,
       "version_minor": 0
      },
      "text/plain": [
       "Validating: 0it [00:00, ?it/s]"
      ]
     },
     "metadata": {},
     "output_type": "display_data"
    },
    {
     "name": "stderr",
     "output_type": "stream",
     "text": [
      "Epoch 6, global step 482: val_loss reached 0.46587 (best 0.46538), saving model to \"logs\\traffic\\version_0\\checkpoints\\trafficepoch=06-val_loss=0.466.ckpt\" as top 5\n"
     ]
    },
    {
     "data": {
      "application/vnd.jupyter.widget-view+json": {
       "model_id": "",
       "version_major": 2,
       "version_minor": 0
      },
      "text/plain": [
       "Validating: 0it [00:00, ?it/s]"
      ]
     },
     "metadata": {},
     "output_type": "display_data"
    },
    {
     "name": "stderr",
     "output_type": "stream",
     "text": [
      "Epoch 7, global step 551: val_loss reached 0.46647 (best 0.46538), saving model to \"logs\\traffic\\version_0\\checkpoints\\trafficepoch=07-val_loss=0.466.ckpt\" as top 5\n"
     ]
    },
    {
     "data": {
      "application/vnd.jupyter.widget-view+json": {
       "model_id": "",
       "version_major": 2,
       "version_minor": 0
      },
      "text/plain": [
       "Validating: 0it [00:00, ?it/s]"
      ]
     },
     "metadata": {},
     "output_type": "display_data"
    },
    {
     "name": "stderr",
     "output_type": "stream",
     "text": [
      "Epoch 8, global step 620: val_loss reached 0.46470 (best 0.46470), saving model to \"logs\\traffic\\version_0\\checkpoints\\trafficepoch=08-val_loss=0.465.ckpt\" as top 5\n"
     ]
    },
    {
     "data": {
      "application/vnd.jupyter.widget-view+json": {
       "model_id": "",
       "version_major": 2,
       "version_minor": 0
      },
      "text/plain": [
       "Validating: 0it [00:00, ?it/s]"
      ]
     },
     "metadata": {},
     "output_type": "display_data"
    },
    {
     "name": "stderr",
     "output_type": "stream",
     "text": [
      "Epoch 9, global step 689: val_loss reached 0.45698 (best 0.45698), saving model to \"logs\\traffic\\version_0\\checkpoints\\trafficepoch=09-val_loss=0.457.ckpt\" as top 5\n"
     ]
    },
    {
     "data": {
      "application/vnd.jupyter.widget-view+json": {
       "model_id": "",
       "version_major": 2,
       "version_minor": 0
      },
      "text/plain": [
       "Validating: 0it [00:00, ?it/s]"
      ]
     },
     "metadata": {},
     "output_type": "display_data"
    },
    {
     "name": "stderr",
     "output_type": "stream",
     "text": [
      "Epoch 10, global step 758: val_loss reached 0.44017 (best 0.44017), saving model to \"logs\\traffic\\version_0\\checkpoints\\trafficepoch=10-val_loss=0.440.ckpt\" as top 5\n"
     ]
    },
    {
     "data": {
      "application/vnd.jupyter.widget-view+json": {
       "model_id": "",
       "version_major": 2,
       "version_minor": 0
      },
      "text/plain": [
       "Validating: 0it [00:00, ?it/s]"
      ]
     },
     "metadata": {},
     "output_type": "display_data"
    },
    {
     "name": "stderr",
     "output_type": "stream",
     "text": [
      "Epoch 11, global step 827: val_loss reached 0.42645 (best 0.42645), saving model to \"logs\\traffic\\version_0\\checkpoints\\trafficepoch=11-val_loss=0.426.ckpt\" as top 5\n"
     ]
    },
    {
     "data": {
      "application/vnd.jupyter.widget-view+json": {
       "model_id": "",
       "version_major": 2,
       "version_minor": 0
      },
      "text/plain": [
       "Validating: 0it [00:00, ?it/s]"
      ]
     },
     "metadata": {},
     "output_type": "display_data"
    },
    {
     "name": "stderr",
     "output_type": "stream",
     "text": [
      "Epoch 12, global step 896: val_loss reached 0.41924 (best 0.41924), saving model to \"logs\\traffic\\version_0\\checkpoints\\trafficepoch=12-val_loss=0.419.ckpt\" as top 5\n"
     ]
    },
    {
     "data": {
      "application/vnd.jupyter.widget-view+json": {
       "model_id": "",
       "version_major": 2,
       "version_minor": 0
      },
      "text/plain": [
       "Validating: 0it [00:00, ?it/s]"
      ]
     },
     "metadata": {},
     "output_type": "display_data"
    },
    {
     "name": "stderr",
     "output_type": "stream",
     "text": [
      "Epoch 13, global step 965: val_loss reached 0.41271 (best 0.41271), saving model to \"logs\\traffic\\version_0\\checkpoints\\trafficepoch=13-val_loss=0.413.ckpt\" as top 5\n"
     ]
    },
    {
     "data": {
      "application/vnd.jupyter.widget-view+json": {
       "model_id": "",
       "version_major": 2,
       "version_minor": 0
      },
      "text/plain": [
       "Validating: 0it [00:00, ?it/s]"
      ]
     },
     "metadata": {},
     "output_type": "display_data"
    },
    {
     "name": "stderr",
     "output_type": "stream",
     "text": [
      "Epoch 14, global step 1034: val_loss reached 0.41135 (best 0.41135), saving model to \"logs\\traffic\\version_0\\checkpoints\\trafficepoch=14-val_loss=0.411.ckpt\" as top 5\n"
     ]
    },
    {
     "data": {
      "application/vnd.jupyter.widget-view+json": {
       "model_id": "",
       "version_major": 2,
       "version_minor": 0
      },
      "text/plain": [
       "Validating: 0it [00:00, ?it/s]"
      ]
     },
     "metadata": {},
     "output_type": "display_data"
    },
    {
     "name": "stderr",
     "output_type": "stream",
     "text": [
      "Epoch 15, global step 1103: val_loss reached 0.40534 (best 0.40534), saving model to \"logs\\traffic\\version_0\\checkpoints\\trafficepoch=15-val_loss=0.405.ckpt\" as top 5\n"
     ]
    },
    {
     "data": {
      "application/vnd.jupyter.widget-view+json": {
       "model_id": "",
       "version_major": 2,
       "version_minor": 0
      },
      "text/plain": [
       "Validating: 0it [00:00, ?it/s]"
      ]
     },
     "metadata": {},
     "output_type": "display_data"
    },
    {
     "name": "stderr",
     "output_type": "stream",
     "text": [
      "Epoch 16, global step 1172: val_loss reached 0.39621 (best 0.39621), saving model to \"logs\\traffic\\version_0\\checkpoints\\trafficepoch=16-val_loss=0.396.ckpt\" as top 5\n"
     ]
    },
    {
     "data": {
      "application/vnd.jupyter.widget-view+json": {
       "model_id": "",
       "version_major": 2,
       "version_minor": 0
      },
      "text/plain": [
       "Validating: 0it [00:00, ?it/s]"
      ]
     },
     "metadata": {},
     "output_type": "display_data"
    },
    {
     "name": "stderr",
     "output_type": "stream",
     "text": [
      "Epoch 17, global step 1241: val_loss reached 0.39501 (best 0.39501), saving model to \"logs\\traffic\\version_0\\checkpoints\\trafficepoch=17-val_loss=0.395.ckpt\" as top 5\n"
     ]
    },
    {
     "data": {
      "application/vnd.jupyter.widget-view+json": {
       "model_id": "",
       "version_major": 2,
       "version_minor": 0
      },
      "text/plain": [
       "Validating: 0it [00:00, ?it/s]"
      ]
     },
     "metadata": {},
     "output_type": "display_data"
    },
    {
     "name": "stderr",
     "output_type": "stream",
     "text": [
      "Epoch 18, global step 1310: val_loss reached 0.39151 (best 0.39151), saving model to \"logs\\traffic\\version_0\\checkpoints\\trafficepoch=18-val_loss=0.392.ckpt\" as top 5\n"
     ]
    },
    {
     "data": {
      "application/vnd.jupyter.widget-view+json": {
       "model_id": "",
       "version_major": 2,
       "version_minor": 0
      },
      "text/plain": [
       "Validating: 0it [00:00, ?it/s]"
      ]
     },
     "metadata": {},
     "output_type": "display_data"
    },
    {
     "name": "stderr",
     "output_type": "stream",
     "text": [
      "Epoch 19, global step 1379: val_loss reached 0.38393 (best 0.38393), saving model to \"logs\\traffic\\version_0\\checkpoints\\trafficepoch=19-val_loss=0.384.ckpt\" as top 5\n"
     ]
    },
    {
     "data": {
      "application/vnd.jupyter.widget-view+json": {
       "model_id": "",
       "version_major": 2,
       "version_minor": 0
      },
      "text/plain": [
       "Validating: 0it [00:00, ?it/s]"
      ]
     },
     "metadata": {},
     "output_type": "display_data"
    },
    {
     "name": "stderr",
     "output_type": "stream",
     "text": [
      "Epoch 20, global step 1448: val_loss reached 0.38918 (best 0.38393), saving model to \"logs\\traffic\\version_0\\checkpoints\\trafficepoch=20-val_loss=0.389.ckpt\" as top 5\n"
     ]
    },
    {
     "data": {
      "application/vnd.jupyter.widget-view+json": {
       "model_id": "",
       "version_major": 2,
       "version_minor": 0
      },
      "text/plain": [
       "Validating: 0it [00:00, ?it/s]"
      ]
     },
     "metadata": {},
     "output_type": "display_data"
    },
    {
     "name": "stderr",
     "output_type": "stream",
     "text": [
      "Epoch 21, global step 1517: val_loss reached 0.38214 (best 0.38214), saving model to \"logs\\traffic\\version_0\\checkpoints\\trafficepoch=21-val_loss=0.382.ckpt\" as top 5\n"
     ]
    },
    {
     "data": {
      "application/vnd.jupyter.widget-view+json": {
       "model_id": "",
       "version_major": 2,
       "version_minor": 0
      },
      "text/plain": [
       "Validating: 0it [00:00, ?it/s]"
      ]
     },
     "metadata": {},
     "output_type": "display_data"
    },
    {
     "name": "stderr",
     "output_type": "stream",
     "text": [
      "Epoch 22, global step 1586: val_loss reached 0.38400 (best 0.38214), saving model to \"logs\\traffic\\version_0\\checkpoints\\trafficepoch=22-val_loss=0.384.ckpt\" as top 5\n"
     ]
    },
    {
     "data": {
      "application/vnd.jupyter.widget-view+json": {
       "model_id": "",
       "version_major": 2,
       "version_minor": 0
      },
      "text/plain": [
       "Validating: 0it [00:00, ?it/s]"
      ]
     },
     "metadata": {},
     "output_type": "display_data"
    },
    {
     "name": "stderr",
     "output_type": "stream",
     "text": [
      "Epoch 23, global step 1655: val_loss reached 0.38153 (best 0.38153), saving model to \"logs\\traffic\\version_0\\checkpoints\\trafficepoch=23-val_loss=0.382.ckpt\" as top 5\n"
     ]
    },
    {
     "data": {
      "application/vnd.jupyter.widget-view+json": {
       "model_id": "",
       "version_major": 2,
       "version_minor": 0
      },
      "text/plain": [
       "Validating: 0it [00:00, ?it/s]"
      ]
     },
     "metadata": {},
     "output_type": "display_data"
    },
    {
     "name": "stderr",
     "output_type": "stream",
     "text": [
      "Epoch 24, global step 1724: val_loss reached 0.38004 (best 0.38004), saving model to \"logs\\traffic\\version_0\\checkpoints\\trafficepoch=24-val_loss=0.380.ckpt\" as top 5\n"
     ]
    },
    {
     "data": {
      "application/vnd.jupyter.widget-view+json": {
       "model_id": "",
       "version_major": 2,
       "version_minor": 0
      },
      "text/plain": [
       "Validating: 0it [00:00, ?it/s]"
      ]
     },
     "metadata": {},
     "output_type": "display_data"
    },
    {
     "name": "stderr",
     "output_type": "stream",
     "text": [
      "Epoch 25, global step 1793: val_loss was not in top 5\n"
     ]
    },
    {
     "data": {
      "application/vnd.jupyter.widget-view+json": {
       "model_id": "",
       "version_major": 2,
       "version_minor": 0
      },
      "text/plain": [
       "Validating: 0it [00:00, ?it/s]"
      ]
     },
     "metadata": {},
     "output_type": "display_data"
    },
    {
     "name": "stderr",
     "output_type": "stream",
     "text": [
      "Epoch 26, global step 1862: val_loss reached 0.37317 (best 0.37317), saving model to \"logs\\traffic\\version_0\\checkpoints\\trafficepoch=26-val_loss=0.373.ckpt\" as top 5\n"
     ]
    },
    {
     "data": {
      "application/vnd.jupyter.widget-view+json": {
       "model_id": "",
       "version_major": 2,
       "version_minor": 0
      },
      "text/plain": [
       "Validating: 0it [00:00, ?it/s]"
      ]
     },
     "metadata": {},
     "output_type": "display_data"
    },
    {
     "name": "stderr",
     "output_type": "stream",
     "text": [
      "Epoch 27, global step 1931: val_loss reached 0.37837 (best 0.37317), saving model to \"logs\\traffic\\version_0\\checkpoints\\trafficepoch=27-val_loss=0.378.ckpt\" as top 5\n"
     ]
    },
    {
     "data": {
      "application/vnd.jupyter.widget-view+json": {
       "model_id": "",
       "version_major": 2,
       "version_minor": 0
      },
      "text/plain": [
       "Validating: 0it [00:00, ?it/s]"
      ]
     },
     "metadata": {},
     "output_type": "display_data"
    },
    {
     "name": "stderr",
     "output_type": "stream",
     "text": [
      "Epoch 28, global step 2000: val_loss reached 0.37206 (best 0.37206), saving model to \"logs\\traffic\\version_0\\checkpoints\\trafficepoch=28-val_loss=0.372.ckpt\" as top 5\n"
     ]
    },
    {
     "data": {
      "application/vnd.jupyter.widget-view+json": {
       "model_id": "",
       "version_major": 2,
       "version_minor": 0
      },
      "text/plain": [
       "Validating: 0it [00:00, ?it/s]"
      ]
     },
     "metadata": {},
     "output_type": "display_data"
    },
    {
     "name": "stderr",
     "output_type": "stream",
     "text": [
      "Epoch 29, global step 2069: val_loss was not in top 5\n"
     ]
    },
    {
     "data": {
      "application/vnd.jupyter.widget-view+json": {
       "model_id": "",
       "version_major": 2,
       "version_minor": 0
      },
      "text/plain": [
       "Validating: 0it [00:00, ?it/s]"
      ]
     },
     "metadata": {},
     "output_type": "display_data"
    },
    {
     "name": "stderr",
     "output_type": "stream",
     "text": [
      "Epoch 30, global step 2138: val_loss reached 0.37519 (best 0.37206), saving model to \"logs\\traffic\\version_0\\checkpoints\\trafficepoch=30-val_loss=0.375.ckpt\" as top 5\n"
     ]
    },
    {
     "data": {
      "application/vnd.jupyter.widget-view+json": {
       "model_id": "",
       "version_major": 2,
       "version_minor": 0
      },
      "text/plain": [
       "Validating: 0it [00:00, ?it/s]"
      ]
     },
     "metadata": {},
     "output_type": "display_data"
    },
    {
     "name": "stderr",
     "output_type": "stream",
     "text": [
      "Epoch 31, global step 2207: val_loss was not in top 5\n"
     ]
    },
    {
     "data": {
      "application/vnd.jupyter.widget-view+json": {
       "model_id": "",
       "version_major": 2,
       "version_minor": 0
      },
      "text/plain": [
       "Validating: 0it [00:00, ?it/s]"
      ]
     },
     "metadata": {},
     "output_type": "display_data"
    },
    {
     "name": "stderr",
     "output_type": "stream",
     "text": [
      "Epoch 32, global step 2276: val_loss was not in top 5\n"
     ]
    },
    {
     "data": {
      "application/vnd.jupyter.widget-view+json": {
       "model_id": "",
       "version_major": 2,
       "version_minor": 0
      },
      "text/plain": [
       "Validating: 0it [00:00, ?it/s]"
      ]
     },
     "metadata": {},
     "output_type": "display_data"
    },
    {
     "name": "stderr",
     "output_type": "stream",
     "text": [
      "Epoch 33, global step 2345: val_loss was not in top 5\n"
     ]
    },
    {
     "data": {
      "application/vnd.jupyter.widget-view+json": {
       "model_id": "",
       "version_major": 2,
       "version_minor": 0
      },
      "text/plain": [
       "Validating: 0it [00:00, ?it/s]"
      ]
     },
     "metadata": {},
     "output_type": "display_data"
    },
    {
     "name": "stderr",
     "output_type": "stream",
     "text": [
      "Epoch 34, global step 2414: val_loss was not in top 5\n"
     ]
    },
    {
     "data": {
      "application/vnd.jupyter.widget-view+json": {
       "model_id": "",
       "version_major": 2,
       "version_minor": 0
      },
      "text/plain": [
       "Validating: 0it [00:00, ?it/s]"
      ]
     },
     "metadata": {},
     "output_type": "display_data"
    },
    {
     "name": "stderr",
     "output_type": "stream",
     "text": [
      "Epoch 35, global step 2483: val_loss was not in top 5\n"
     ]
    },
    {
     "data": {
      "application/vnd.jupyter.widget-view+json": {
       "model_id": "",
       "version_major": 2,
       "version_minor": 0
      },
      "text/plain": [
       "Validating: 0it [00:00, ?it/s]"
      ]
     },
     "metadata": {},
     "output_type": "display_data"
    },
    {
     "name": "stderr",
     "output_type": "stream",
     "text": [
      "Epoch 36, global step 2552: val_loss was not in top 5\n"
     ]
    },
    {
     "data": {
      "application/vnd.jupyter.widget-view+json": {
       "model_id": "",
       "version_major": 2,
       "version_minor": 0
      },
      "text/plain": [
       "Validating: 0it [00:00, ?it/s]"
      ]
     },
     "metadata": {},
     "output_type": "display_data"
    },
    {
     "name": "stderr",
     "output_type": "stream",
     "text": [
      "Epoch 37, global step 2621: val_loss was not in top 5\n"
     ]
    },
    {
     "data": {
      "application/vnd.jupyter.widget-view+json": {
       "model_id": "",
       "version_major": 2,
       "version_minor": 0
      },
      "text/plain": [
       "Validating: 0it [00:00, ?it/s]"
      ]
     },
     "metadata": {},
     "output_type": "display_data"
    },
    {
     "name": "stderr",
     "output_type": "stream",
     "text": [
      "Epoch 38, global step 2690: val_loss was not in top 5\n"
     ]
    },
    {
     "data": {
      "application/vnd.jupyter.widget-view+json": {
       "model_id": "",
       "version_major": 2,
       "version_minor": 0
      },
      "text/plain": [
       "Validating: 0it [00:00, ?it/s]"
      ]
     },
     "metadata": {},
     "output_type": "display_data"
    },
    {
     "name": "stderr",
     "output_type": "stream",
     "text": [
      "Epoch 39, global step 2759: val_loss was not in top 5\n"
     ]
    },
    {
     "data": {
      "application/vnd.jupyter.widget-view+json": {
       "model_id": "",
       "version_major": 2,
       "version_minor": 0
      },
      "text/plain": [
       "Validating: 0it [00:00, ?it/s]"
      ]
     },
     "metadata": {},
     "output_type": "display_data"
    },
    {
     "name": "stderr",
     "output_type": "stream",
     "text": [
      "Epoch 40, global step 2828: val_loss was not in top 5\n"
     ]
    },
    {
     "data": {
      "application/vnd.jupyter.widget-view+json": {
       "model_id": "",
       "version_major": 2,
       "version_minor": 0
      },
      "text/plain": [
       "Validating: 0it [00:00, ?it/s]"
      ]
     },
     "metadata": {},
     "output_type": "display_data"
    },
    {
     "name": "stderr",
     "output_type": "stream",
     "text": [
      "Epoch 41, global step 2897: val_loss was not in top 5\n"
     ]
    },
    {
     "data": {
      "application/vnd.jupyter.widget-view+json": {
       "model_id": "",
       "version_major": 2,
       "version_minor": 0
      },
      "text/plain": [
       "Validating: 0it [00:00, ?it/s]"
      ]
     },
     "metadata": {},
     "output_type": "display_data"
    },
    {
     "name": "stderr",
     "output_type": "stream",
     "text": [
      "Epoch 42, global step 2966: val_loss was not in top 5\n"
     ]
    },
    {
     "data": {
      "application/vnd.jupyter.widget-view+json": {
       "model_id": "",
       "version_major": 2,
       "version_minor": 0
      },
      "text/plain": [
       "Validating: 0it [00:00, ?it/s]"
      ]
     },
     "metadata": {},
     "output_type": "display_data"
    },
    {
     "name": "stderr",
     "output_type": "stream",
     "text": [
      "Epoch 43, global step 3035: val_loss was not in top 5\n"
     ]
    },
    {
     "data": {
      "application/vnd.jupyter.widget-view+json": {
       "model_id": "",
       "version_major": 2,
       "version_minor": 0
      },
      "text/plain": [
       "Validating: 0it [00:00, ?it/s]"
      ]
     },
     "metadata": {},
     "output_type": "display_data"
    },
    {
     "name": "stderr",
     "output_type": "stream",
     "text": [
      "Epoch 44, global step 3104: val_loss was not in top 5\n"
     ]
    },
    {
     "data": {
      "application/vnd.jupyter.widget-view+json": {
       "model_id": "",
       "version_major": 2,
       "version_minor": 0
      },
      "text/plain": [
       "Validating: 0it [00:00, ?it/s]"
      ]
     },
     "metadata": {},
     "output_type": "display_data"
    },
    {
     "name": "stderr",
     "output_type": "stream",
     "text": [
      "Epoch 45, global step 3173: val_loss was not in top 5\n"
     ]
    },
    {
     "data": {
      "application/vnd.jupyter.widget-view+json": {
       "model_id": "",
       "version_major": 2,
       "version_minor": 0
      },
      "text/plain": [
       "Validating: 0it [00:00, ?it/s]"
      ]
     },
     "metadata": {},
     "output_type": "display_data"
    },
    {
     "name": "stderr",
     "output_type": "stream",
     "text": [
      "Epoch 46, global step 3242: val_loss was not in top 5\n"
     ]
    },
    {
     "data": {
      "application/vnd.jupyter.widget-view+json": {
       "model_id": "",
       "version_major": 2,
       "version_minor": 0
      },
      "text/plain": [
       "Validating: 0it [00:00, ?it/s]"
      ]
     },
     "metadata": {},
     "output_type": "display_data"
    },
    {
     "name": "stderr",
     "output_type": "stream",
     "text": [
      "Epoch 47, global step 3311: val_loss was not in top 5\n"
     ]
    },
    {
     "data": {
      "application/vnd.jupyter.widget-view+json": {
       "model_id": "",
       "version_major": 2,
       "version_minor": 0
      },
      "text/plain": [
       "Validating: 0it [00:00, ?it/s]"
      ]
     },
     "metadata": {},
     "output_type": "display_data"
    },
    {
     "name": "stderr",
     "output_type": "stream",
     "text": [
      "Epoch 48, global step 3380: val_loss was not in top 5\n"
     ]
    },
    {
     "data": {
      "application/vnd.jupyter.widget-view+json": {
       "model_id": "",
       "version_major": 2,
       "version_minor": 0
      },
      "text/plain": [
       "Validating: 0it [00:00, ?it/s]"
      ]
     },
     "metadata": {},
     "output_type": "display_data"
    },
    {
     "name": "stderr",
     "output_type": "stream",
     "text": [
      "Epoch 49, global step 3449: val_loss was not in top 5\n"
     ]
    },
    {
     "data": {
      "application/vnd.jupyter.widget-view+json": {
       "model_id": "",
       "version_major": 2,
       "version_minor": 0
      },
      "text/plain": [
       "Validating: 0it [00:00, ?it/s]"
      ]
     },
     "metadata": {},
     "output_type": "display_data"
    },
    {
     "name": "stderr",
     "output_type": "stream",
     "text": [
      "Epoch 50, global step 3518: val_loss was not in top 5\n"
     ]
    },
    {
     "data": {
      "application/vnd.jupyter.widget-view+json": {
       "model_id": "",
       "version_major": 2,
       "version_minor": 0
      },
      "text/plain": [
       "Validating: 0it [00:00, ?it/s]"
      ]
     },
     "metadata": {},
     "output_type": "display_data"
    },
    {
     "name": "stderr",
     "output_type": "stream",
     "text": [
      "Epoch 51, global step 3587: val_loss was not in top 5\n"
     ]
    },
    {
     "data": {
      "application/vnd.jupyter.widget-view+json": {
       "model_id": "",
       "version_major": 2,
       "version_minor": 0
      },
      "text/plain": [
       "Validating: 0it [00:00, ?it/s]"
      ]
     },
     "metadata": {},
     "output_type": "display_data"
    },
    {
     "name": "stderr",
     "output_type": "stream",
     "text": [
      "Epoch 52, global step 3656: val_loss was not in top 5\n"
     ]
    },
    {
     "data": {
      "application/vnd.jupyter.widget-view+json": {
       "model_id": "",
       "version_major": 2,
       "version_minor": 0
      },
      "text/plain": [
       "Validating: 0it [00:00, ?it/s]"
      ]
     },
     "metadata": {},
     "output_type": "display_data"
    },
    {
     "name": "stderr",
     "output_type": "stream",
     "text": [
      "Epoch 53, global step 3725: val_loss was not in top 5\n"
     ]
    },
    {
     "data": {
      "application/vnd.jupyter.widget-view+json": {
       "model_id": "",
       "version_major": 2,
       "version_minor": 0
      },
      "text/plain": [
       "Validating: 0it [00:00, ?it/s]"
      ]
     },
     "metadata": {},
     "output_type": "display_data"
    },
    {
     "name": "stderr",
     "output_type": "stream",
     "text": [
      "Epoch 54, global step 3794: val_loss was not in top 5\n"
     ]
    },
    {
     "data": {
      "application/vnd.jupyter.widget-view+json": {
       "model_id": "",
       "version_major": 2,
       "version_minor": 0
      },
      "text/plain": [
       "Validating: 0it [00:00, ?it/s]"
      ]
     },
     "metadata": {},
     "output_type": "display_data"
    },
    {
     "name": "stderr",
     "output_type": "stream",
     "text": [
      "Epoch 55, global step 3863: val_loss was not in top 5\n"
     ]
    },
    {
     "data": {
      "application/vnd.jupyter.widget-view+json": {
       "model_id": "",
       "version_major": 2,
       "version_minor": 0
      },
      "text/plain": [
       "Validating: 0it [00:00, ?it/s]"
      ]
     },
     "metadata": {},
     "output_type": "display_data"
    },
    {
     "name": "stderr",
     "output_type": "stream",
     "text": [
      "Epoch 56, global step 3932: val_loss was not in top 5\n"
     ]
    },
    {
     "data": {
      "application/vnd.jupyter.widget-view+json": {
       "model_id": "",
       "version_major": 2,
       "version_minor": 0
      },
      "text/plain": [
       "Validating: 0it [00:00, ?it/s]"
      ]
     },
     "metadata": {},
     "output_type": "display_data"
    },
    {
     "name": "stderr",
     "output_type": "stream",
     "text": [
      "Epoch 57, global step 4001: val_loss was not in top 5\n"
     ]
    },
    {
     "data": {
      "application/vnd.jupyter.widget-view+json": {
       "model_id": "",
       "version_major": 2,
       "version_minor": 0
      },
      "text/plain": [
       "Validating: 0it [00:00, ?it/s]"
      ]
     },
     "metadata": {},
     "output_type": "display_data"
    },
    {
     "name": "stderr",
     "output_type": "stream",
     "text": [
      "Epoch 58, global step 4070: val_loss was not in top 5\n"
     ]
    },
    {
     "data": {
      "application/vnd.jupyter.widget-view+json": {
       "model_id": "",
       "version_major": 2,
       "version_minor": 0
      },
      "text/plain": [
       "Validating: 0it [00:00, ?it/s]"
      ]
     },
     "metadata": {},
     "output_type": "display_data"
    },
    {
     "name": "stderr",
     "output_type": "stream",
     "text": [
      "Epoch 59, global step 4139: val_loss was not in top 5\n"
     ]
    },
    {
     "data": {
      "application/vnd.jupyter.widget-view+json": {
       "model_id": "",
       "version_major": 2,
       "version_minor": 0
      },
      "text/plain": [
       "Validating: 0it [00:00, ?it/s]"
      ]
     },
     "metadata": {},
     "output_type": "display_data"
    },
    {
     "name": "stderr",
     "output_type": "stream",
     "text": [
      "Epoch 60, global step 4208: val_loss was not in top 5\n"
     ]
    },
    {
     "data": {
      "application/vnd.jupyter.widget-view+json": {
       "model_id": "",
       "version_major": 2,
       "version_minor": 0
      },
      "text/plain": [
       "Validating: 0it [00:00, ?it/s]"
      ]
     },
     "metadata": {},
     "output_type": "display_data"
    },
    {
     "name": "stderr",
     "output_type": "stream",
     "text": [
      "Epoch 61, global step 4277: val_loss was not in top 5\n"
     ]
    },
    {
     "data": {
      "application/vnd.jupyter.widget-view+json": {
       "model_id": "",
       "version_major": 2,
       "version_minor": 0
      },
      "text/plain": [
       "Validating: 0it [00:00, ?it/s]"
      ]
     },
     "metadata": {},
     "output_type": "display_data"
    },
    {
     "name": "stderr",
     "output_type": "stream",
     "text": [
      "Epoch 62, global step 4346: val_loss was not in top 5\n"
     ]
    },
    {
     "data": {
      "application/vnd.jupyter.widget-view+json": {
       "model_id": "",
       "version_major": 2,
       "version_minor": 0
      },
      "text/plain": [
       "Validating: 0it [00:00, ?it/s]"
      ]
     },
     "metadata": {},
     "output_type": "display_data"
    },
    {
     "name": "stderr",
     "output_type": "stream",
     "text": [
      "Epoch 63, global step 4415: val_loss was not in top 5\n"
     ]
    },
    {
     "data": {
      "application/vnd.jupyter.widget-view+json": {
       "model_id": "",
       "version_major": 2,
       "version_minor": 0
      },
      "text/plain": [
       "Validating: 0it [00:00, ?it/s]"
      ]
     },
     "metadata": {},
     "output_type": "display_data"
    },
    {
     "name": "stderr",
     "output_type": "stream",
     "text": [
      "Epoch 64, global step 4484: val_loss was not in top 5\n"
     ]
    },
    {
     "data": {
      "application/vnd.jupyter.widget-view+json": {
       "model_id": "",
       "version_major": 2,
       "version_minor": 0
      },
      "text/plain": [
       "Validating: 0it [00:00, ?it/s]"
      ]
     },
     "metadata": {},
     "output_type": "display_data"
    },
    {
     "name": "stderr",
     "output_type": "stream",
     "text": [
      "Epoch 65, global step 4553: val_loss was not in top 5\n"
     ]
    },
    {
     "data": {
      "application/vnd.jupyter.widget-view+json": {
       "model_id": "",
       "version_major": 2,
       "version_minor": 0
      },
      "text/plain": [
       "Validating: 0it [00:00, ?it/s]"
      ]
     },
     "metadata": {},
     "output_type": "display_data"
    },
    {
     "name": "stderr",
     "output_type": "stream",
     "text": [
      "Epoch 66, global step 4622: val_loss was not in top 5\n"
     ]
    },
    {
     "data": {
      "application/vnd.jupyter.widget-view+json": {
       "model_id": "",
       "version_major": 2,
       "version_minor": 0
      },
      "text/plain": [
       "Validating: 0it [00:00, ?it/s]"
      ]
     },
     "metadata": {},
     "output_type": "display_data"
    },
    {
     "name": "stderr",
     "output_type": "stream",
     "text": [
      "Epoch 67, global step 4691: val_loss was not in top 5\n"
     ]
    },
    {
     "data": {
      "application/vnd.jupyter.widget-view+json": {
       "model_id": "",
       "version_major": 2,
       "version_minor": 0
      },
      "text/plain": [
       "Validating: 0it [00:00, ?it/s]"
      ]
     },
     "metadata": {},
     "output_type": "display_data"
    },
    {
     "name": "stderr",
     "output_type": "stream",
     "text": [
      "Epoch 68, global step 4760: val_loss was not in top 5\n"
     ]
    },
    {
     "data": {
      "application/vnd.jupyter.widget-view+json": {
       "model_id": "",
       "version_major": 2,
       "version_minor": 0
      },
      "text/plain": [
       "Validating: 0it [00:00, ?it/s]"
      ]
     },
     "metadata": {},
     "output_type": "display_data"
    },
    {
     "name": "stderr",
     "output_type": "stream",
     "text": [
      "Epoch 69, global step 4829: val_loss was not in top 5\n"
     ]
    },
    {
     "data": {
      "application/vnd.jupyter.widget-view+json": {
       "model_id": "",
       "version_major": 2,
       "version_minor": 0
      },
      "text/plain": [
       "Validating: 0it [00:00, ?it/s]"
      ]
     },
     "metadata": {},
     "output_type": "display_data"
    },
    {
     "name": "stderr",
     "output_type": "stream",
     "text": [
      "Epoch 70, global step 4898: val_loss was not in top 5\n"
     ]
    },
    {
     "data": {
      "application/vnd.jupyter.widget-view+json": {
       "model_id": "",
       "version_major": 2,
       "version_minor": 0
      },
      "text/plain": [
       "Validating: 0it [00:00, ?it/s]"
      ]
     },
     "metadata": {},
     "output_type": "display_data"
    },
    {
     "name": "stderr",
     "output_type": "stream",
     "text": [
      "Epoch 71, global step 4967: val_loss was not in top 5\n"
     ]
    },
    {
     "data": {
      "application/vnd.jupyter.widget-view+json": {
       "model_id": "",
       "version_major": 2,
       "version_minor": 0
      },
      "text/plain": [
       "Validating: 0it [00:00, ?it/s]"
      ]
     },
     "metadata": {},
     "output_type": "display_data"
    },
    {
     "name": "stderr",
     "output_type": "stream",
     "text": [
      "Epoch 72, global step 5036: val_loss was not in top 5\n"
     ]
    },
    {
     "data": {
      "application/vnd.jupyter.widget-view+json": {
       "model_id": "",
       "version_major": 2,
       "version_minor": 0
      },
      "text/plain": [
       "Validating: 0it [00:00, ?it/s]"
      ]
     },
     "metadata": {},
     "output_type": "display_data"
    },
    {
     "name": "stderr",
     "output_type": "stream",
     "text": [
      "Epoch 73, global step 5105: val_loss was not in top 5\n"
     ]
    },
    {
     "data": {
      "application/vnd.jupyter.widget-view+json": {
       "model_id": "",
       "version_major": 2,
       "version_minor": 0
      },
      "text/plain": [
       "Validating: 0it [00:00, ?it/s]"
      ]
     },
     "metadata": {},
     "output_type": "display_data"
    },
    {
     "name": "stderr",
     "output_type": "stream",
     "text": [
      "Epoch 74, global step 5174: val_loss was not in top 5\n",
      "FIT Profiler Report\n",
      "\n",
      "Action                             \t|  Mean duration (s)\t|Num calls      \t|  Total time (s) \t|  Percentage %   \t|\n",
      "----------------------------------------------------------------------------------------------------------------------------------------\n",
      "Total                              \t|  -              \t|_              \t|  505.86         \t|  100 %          \t|\n",
      "----------------------------------------------------------------------------------------------------------------------------------------\n",
      "run_training_epoch                 \t|  6.74           \t|75             \t|  505.5          \t|  99.929         \t|\n",
      "run_training_batch                 \t|  0.070515       \t|5175           \t|  364.91         \t|  72.138         \t|\n",
      "optimizer_step_and_closure_0       \t|  0.070059       \t|5175           \t|  362.55         \t|  71.671         \t|\n",
      "training_step_and_backward         \t|  0.066808       \t|5175           \t|  345.73         \t|  68.345         \t|\n",
      "model_forward                      \t|  0.037572       \t|5175           \t|  194.43         \t|  38.436         \t|\n",
      "training_step                      \t|  0.037314       \t|5175           \t|  193.1          \t|  38.173         \t|\n",
      "backward                           \t|  0.028682       \t|5175           \t|  148.43         \t|  29.342         \t|\n",
      "evaluation_step_and_end            \t|  0.033531       \t|2625           \t|  88.02          \t|  17.4           \t|\n",
      "validation_step                    \t|  0.033334       \t|2625           \t|  87.503         \t|  17.298         \t|\n",
      "get_train_batch                    \t|  0.0024941      \t|5175           \t|  12.907         \t|  2.5515         \t|\n",
      "on_train_batch_end                 \t|  0.0018402      \t|5175           \t|  9.523          \t|  1.8825         \t|\n",
      "on_validation_end                  \t|  0.12023        \t|75             \t|  9.017          \t|  1.7825         \t|\n",
      "on_validation_batch_end            \t|  0.00093562     \t|2625           \t|  2.456          \t|  0.48551        \t|\n",
      "on_validation_start                \t|  0.026093       \t|75             \t|  1.957          \t|  0.38687        \t|\n",
      "cache_result                       \t|  2.5064e-05     \t|29405          \t|  0.737          \t|  0.14569        \t|\n",
      "on_train_epoch_start               \t|  0.00332        \t|75             \t|  0.249          \t|  0.049223       \t|\n",
      "on_batch_start                     \t|  2.1449e-05     \t|5175           \t|  0.111          \t|  0.021943       \t|\n",
      "on_validation_batch_start          \t|  4.2286e-05     \t|2625           \t|  0.111          \t|  0.021943       \t|\n",
      "on_batch_end                       \t|  1.5459e-05     \t|5175           \t|  0.08           \t|  0.015815       \t|\n",
      "on_after_backward                  \t|  1.4879e-05     \t|5175           \t|  0.077          \t|  0.015222       \t|\n",
      "on_train_batch_start               \t|  1.2174e-05     \t|5175           \t|  0.063          \t|  0.012454       \t|\n",
      "validation_step_end                \t|  2.3238e-05     \t|2625           \t|  0.061          \t|  0.012059       \t|\n",
      "training_step_end                  \t|  5.9903e-06     \t|5175           \t|  0.031          \t|  0.0061282      \t|\n",
      "on_before_zero_grad                \t|  3.0918e-06     \t|5175           \t|  0.016          \t|  0.0031629      \t|\n",
      "on_train_start                     \t|  0.015          \t|1              \t|  0.015          \t|  0.0029653      \t|\n",
      "on_before_accelerator_backend_setup\t|  0.0            \t|1              \t|  0.0            \t|  0.0            \t|\n",
      "on_fit_start                       \t|  0.0            \t|1              \t|  0.0            \t|  0.0            \t|\n",
      "on_train_dataloader                \t|  0.0            \t|1              \t|  0.0            \t|  0.0            \t|\n",
      "on_val_dataloader                  \t|  0.0            \t|1              \t|  0.0            \t|  0.0            \t|\n",
      "on_epoch_start                     \t|  0.0            \t|150            \t|  0.0            \t|  0.0            \t|\n",
      "on_train_epoch_end                 \t|  0.0            \t|75             \t|  0.0            \t|  0.0            \t|\n",
      "on_epoch_end                       \t|  0.0            \t|150            \t|  0.0            \t|  0.0            \t|\n",
      "on_validation_epoch_start          \t|  0.0            \t|75             \t|  0.0            \t|  0.0            \t|\n",
      "on_validation_epoch_end            \t|  0.0            \t|75             \t|  0.0            \t|  0.0            \t|\n",
      "on_train_end                       \t|  0.0            \t|1              \t|  0.0            \t|  0.0            \t|\n",
      "\n"
     ]
    }
   ],
   "source": [
    "checkpoint_callback = pl.callbacks.ModelCheckpoint(\n",
    "    # dirpath=(Path(\"./logs\") / exp_type),\n",
    "    filename=f\"{exp_type}\" + \"{epoch:02d}-{val_loss:.3f}\",\n",
    "    monitor=\"val_loss\",\n",
    "    save_top_k=5,\n",
    "    verbose=True,\n",
    "    mode=\"min\",\n",
    ")\n",
    "tb_logger = pl.loggers.TensorBoardLogger(Path(\"./logs\"), name=exp_type, default_hp_metric=False)\n",
    "# earlystop_callback = pl.callbacks.EarlyStopping(\n",
    "#     \"val_loss\",\n",
    "#     min_delta=0.0001,\n",
    "#     patience=5,\n",
    "#     verbose=True,\n",
    "#     mode=\"min\"\n",
    "# )\n",
    "pl.seed_everything(564)\n",
    "model = LitModel(**args_dict)\n",
    "trainer = pl.Trainer(\n",
    "    callbacks=checkpoint_callback, # [checkpoint_callback, earlystop_callback],\n",
    "    max_epochs=75,\n",
    "#     deterministic=torch.cuda.is_available(),\n",
    "    gpus = 1 if torch.cuda.is_available() else None,\n",
    "    num_sanity_val_steps=0,\n",
    "    logger=tb_logger,\n",
    "    log_every_n_steps=10,\n",
    "    profiler=\"simple\"\n",
    ")\n",
    "trainer.fit(model)"
   ]
  },
  {
   "cell_type": "code",
   "execution_count": null,
   "id": "8db0b5bf-d362-4a8b-b12b-143ab559730f",
   "metadata": {},
   "outputs": [],
   "source": []
  }
 ],
 "metadata": {
  "kernelspec": {
   "display_name": "Python 3",
   "language": "python",
   "name": "python3"
  },
  "language_info": {
   "codemirror_mode": {
    "name": "ipython",
    "version": 3
   },
   "file_extension": ".py",
   "mimetype": "text/x-python",
   "name": "python",
   "nbconvert_exporter": "python",
   "pygments_lexer": "ipython3",
   "version": "3.8.10"
  }
 },
 "nbformat": 4,
 "nbformat_minor": 5
}
