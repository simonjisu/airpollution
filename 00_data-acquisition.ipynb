{
 "cells": [
  {
   "cell_type": "markdown",
   "metadata": {},
   "source": [
    "# Data Acquisition"
   ]
  },
  {
   "cell_type": "code",
   "execution_count": 1,
   "metadata": {},
   "outputs": [],
   "source": [
    "import os\n",
    "import sqlite3\n",
    "import pandas as pd\n",
    "from pathlib import Path\n",
    "\n",
    "from collections import defaultdict\n",
    "from tqdm.notebook import tqdm\n",
    "from typing import Any, Union\n",
    "\n",
    "# import dask\n",
    "# import dask.dataframe as dd\n",
    "\n",
    "data_path = Path() / 'data' "
   ]
  },
  {
   "cell_type": "markdown",
   "metadata": {},
   "source": [
    "# SQLite3 Database"
   ]
  },
  {
   "cell_type": "code",
   "execution_count": 2,
   "metadata": {},
   "outputs": [],
   "source": [
    "conn = sqlite3.connect(data_path / \"airpollution.db\")"
   ]
  },
  {
   "cell_type": "markdown",
   "metadata": {},
   "source": [
    "# Airquality Data"
   ]
  },
  {
   "cell_type": "code",
   "execution_count": 3,
   "metadata": {},
   "outputs": [],
   "source": [
    "def load_data(path:Path) -> pd.DataFrame:\n",
    "    \"\"\"Load data function\n",
    "\n",
    "    Args:\n",
    "        path (Path): path of data with file name\n",
    "        enc (str, optional): encoding. Defaults to 'utf-8'.\n",
    "    Returns:\n",
    "        pd.DataFrame \n",
    "    \"\"\"    \n",
    "    if path.name.split('.')[-1] == 'xlsx':\n",
    "        df = pd.read_excel(path)\n",
    "    else:\n",
    "        try:\n",
    "            df = pd.read_csv(path, encoding='cp949')\n",
    "        except UnicodeDecodeError:\n",
    "            df = pd.read_csv(path, encoding='utf-8')\n",
    "\n",
    "    return df\n",
    "\n",
    "def filter_seoul(df):\n",
    "    return df.loc[df['지역'].str.contains('서울'), :]"
   ]
  },
  {
   "cell_type": "code",
   "execution_count": null,
   "metadata": {},
   "outputs": [],
   "source": [
    "datafiles = sorted([x for x in (data_path / 'airquality').glob(\"*\") if x.is_dir()])\n",
    "# concatnate all files\n",
    "parts = []\n",
    "for p_year in tqdm(datafiles, total=len(datafiles)):\n",
    "    new_path = data_path / 'airquality' / f'air-seoul-{p_year.name}.csv'\n",
    "    for p in p_year.glob('*'):\n",
    "        \n",
    "        df = load_data(p)\n",
    "        df = filter_seoul(df)\n",
    "        parts.append(df)\n",
    "    \n",
    "    df_all = pd.concat(parts).reset_index(drop=True)\n",
    "    if p_year.name == '2018':\n",
    "        # fillna for air-seoul-2018.csv\n",
    "        # '망' column contains null value due to policy changed\n",
    "        # create dictionary for measure point\n",
    "        m_dict = dict(df_all.loc[~df_all['망'].isna(), ['측정소코드', '망']].drop_duplicates().values)\n",
    "        df_all.loc[df_all['망'].isna(), '망'] = df_all.loc[df_all['망'].isna(), '망'].fillna(df_all['측정소코드'].map(m_dict)).values\n",
    "    \n",
    "    df_all.to_csv(new_path, encoding='utf-8', index=False)\n",
    "    parts = []"
   ]
  },
  {
   "cell_type": "code",
   "execution_count": 33,
   "metadata": {},
   "outputs": [
    {
     "name": "stdout",
     "output_type": "stream",
     "text": [
      "air-seoul-2018.csv, num-unique data: 80, measurecode: 40,         district: 48, address: 48\n",
      "air-seoul-2019.csv, num-unique data: 40, measurecode: 40,         district: 25, address: 25\n",
      "air-seoul-2020.csv, num-unique data: 40, measurecode: 40,         district: 25, address: 25\n",
      "air-seoul-2021.csv, num-unique data: 40, measurecode: 40,         district: 25, address: 25\n"
     ]
    }
   ],
   "source": [
    "# change column name and insert into database\n",
    "column_m_dict = {\n",
    "    '지역': 'district', \n",
    "    '측정소코드': 'measurecode', \n",
    "    '측정소명': 'measurename', \n",
    "    '측정일시': 'date', \n",
    "    '주소': 'address',\n",
    "    '망': 'measurepoint'\n",
    "}\n",
    "\n",
    "check_miss_match = {}\n",
    "for p in sorted((data_path / 'airquality').glob(\"*.csv\")):\n",
    "    df = pd.read_csv(p, encoding='utf-8').rename(columns=column_m_dict)\n",
    "    c = df.loc[:, ['district', 'measurepoint', 'measurecode', 'measurename', 'address']].drop_duplicates()\n",
    "    check_miss_match[int(p.name.rstrip('\\.csv').split('-')[-1])] = c\n",
    "    print(f\"{p.name}, num-unique data: {len(c)}, measurecode: {len(c['measurecode'].unique())}, district: {len(c['district'].unique())}, address: {len(c['district'].unique())}\")\n",
    "    # saved changed columns\n",
    "    df.to_csv(p, encoding='utf-8', index=False)"
   ]
  },
  {
   "cell_type": "code",
   "execution_count": 35,
   "metadata": {},
   "outputs": [],
   "source": [
    "# fix the district name and address by 2021 version of measurecode\n",
    "code2dist = dict(check_miss_match[2021].loc[:, ['measurecode', 'district']].values)\n",
    "code2add = dict(check_miss_match[2021].loc[:, ['measurecode', 'address']].values)\n",
    "df = pd.read_csv(data_path / 'airquality' / 'air-seoul-2018.csv', encoding='utf-8').rename(columns=column_m_dict)\n",
    "df['district'] = df['measurecode'].map(code2dist)\n",
    "df['address'] = df['measurecode'].map(code2add)\n",
    "df = df.set_index(['measurecode', 'district', 'measurename', 'address', 'measurepoint']).sort_values(['measurecode', 'date']).reset_index()\n",
    "\n",
    "# save \n",
    "# df.to_csv(data_path / 'airquality' / 'air-seoul-2018.csv', encoding='utf-8', index=False)"
   ]
  },
  {
   "cell_type": "code",
   "execution_count": 4,
   "metadata": {},
   "outputs": [],
   "source": [
    "def drop_tables(conn):\n",
    "    cur = conn.cursor()\n",
    "    conn.execute(\"DROP TABLE IF EXISTS airquality;\")\n",
    "    conn.execute(\"DROP TABLE IF EXISTS airmeasure;\")\n",
    "    cur.close()"
   ]
  },
  {
   "cell_type": "code",
   "execution_count": 24,
   "metadata": {},
   "outputs": [],
   "source": [
    "drop_tables(conn)"
   ]
  },
  {
   "cell_type": "code",
   "execution_count": 25,
   "metadata": {},
   "outputs": [
    {
     "data": {
      "application/vnd.jupyter.widget-view+json": {
       "model_id": "87880a093fe44c9dbb2995abcc24f550",
       "version_major": 2,
       "version_minor": 0
      },
      "text/plain": [
       "  0%|          | 0/4 [00:00<?, ?it/s]"
      ]
     },
     "metadata": {},
     "output_type": "display_data"
    }
   ],
   "source": [
    "cur = conn.cursor()\n",
    "cur.execute(\n",
    "    \"\"\"\n",
    "    CREATE TABLE IF NOT EXISTS airmeasure (\n",
    "        sid INTEGER PRIMARY KEY,\n",
    "        measurecode INTEGER NOT NULL UNIQUE,\n",
    "        district TEXT, \n",
    "        measurename TEXT, \n",
    "        address TEXT, \n",
    "        measurepoint TEXT\n",
    "    );\n",
    "    \"\"\"\n",
    ")\n",
    "cur.execute(\n",
    "    \"\"\"\n",
    "    CREATE TABLE IF NOT EXISTS airquality (\n",
    "        airid INTEGER PRIMARY KEY,\n",
    "        measurecode INTEGER, \n",
    "        date TEXT, \n",
    "        SO2 REAL, \n",
    "        CO REAL, \n",
    "        O3 REAL,\n",
    "        NO2 REAL, \n",
    "        PM10 REAL, \n",
    "        PM25 REAL, \n",
    "        FOREIGN KEY (measurecode)\n",
    "            REFERENCES airmeasure (measurecode)\n",
    "            ON DELETE CASCADE \n",
    "            ON UPDATE NO ACTION\n",
    "    );\n",
    "    \"\"\"\n",
    ")\n",
    "\n",
    "airmeasure_columns = ['measurecode', 'district', 'measurename', 'address', 'measurepoint']\n",
    "airquality_columns = ['measurecode', 'date', 'SO2', 'CO', 'O3', 'NO2', 'PM10', 'PM25']\n",
    "df_airmeasure = None\n",
    "\n",
    "sql_airmeasure = \"\"\"\n",
    "INSERT INTO airmeasure (sid, measurecode, district, measurename, address, measurepoint)\n",
    "VALUES (?, ?, ?, ?, ?, ?);\n",
    "\"\"\"\n",
    "sql_airquality = \"\"\"\n",
    "INSERT INTO airquality (airid, measurecode, date, SO2, CO, O3, NO2, PM10, PM25) \n",
    "VALUES (?, ?, ?, ?, ?, ?, ?, ?, ?);\n",
    "\"\"\"\n",
    "idx = 0\n",
    "for p in tqdm(sorted((data_path / 'airquality').glob(\"*.csv\")), total=4):\n",
    "    df = pd.read_csv(p, encoding='utf-8')\n",
    "    df = df.set_index(['measurecode', 'district', 'measurename', 'address', 'measurepoint']).sort_values(['measurecode', 'date']).reset_index()\n",
    "\n",
    "    if df_airmeasure is None:\n",
    "        df_airmeasure = df.loc[:, airmeasure_columns].drop_duplicates().reset_index(drop=True)\n",
    "        # insert query\n",
    "        for i, x in df_airmeasure.iterrows():\n",
    "            cur.execute(sql_airmeasure, [i+1] + [x[c] for c in airmeasure_columns])\n",
    "    else:\n",
    "        df_temp = df.loc[:, airmeasure_columns].drop_duplicates().reset_index(drop=True)\n",
    "        if (df_temp != df_airmeasure).sum().sum():\n",
    "            raise ValueError(\"not equal table\")\n",
    "    for m in df_airmeasure['measurecode'].values:\n",
    "        df_airquality = df.loc[df['measurecode'] == m, airquality_columns]\n",
    "        df_airquality['date'] = pd.to_datetime(df_airquality['date']-1, format='%Y%m%d%H').dt.strftime('%Y-%m-%d %H:%M:%S')\n",
    "        \n",
    "        # insert row\n",
    "        for i, x in df_airquality.iterrows():\n",
    "            idx += 1\n",
    "            cur.execute(sql_airquality, [idx] + [x[c] for c in airquality_columns])\n",
    "cur.close()\n"
   ]
  },
  {
   "cell_type": "markdown",
   "metadata": {},
   "source": [
    "# Traffic Data"
   ]
  },
  {
   "cell_type": "code",
   "execution_count": null,
   "metadata": {},
   "outputs": [],
   "source": [
    "datafiles = sorted([x for x in (data_path / 'traffic').glob(\"*\") if x.is_dir()])\n",
    "p = next(datafiles[-1].glob('*'))\n",
    "\n",
    "df = pd.read_excel(p)"
   ]
  }
 ],
 "metadata": {
  "interpreter": {
   "hash": "ab7f212329a491b497f27876271d03c022f2dd26760015eef69af619991238fd"
  },
  "kernelspec": {
   "display_name": "Python 3.8.12 ('venv')",
   "language": "python",
   "name": "python3"
  },
  "language_info": {
   "codemirror_mode": {
    "name": "ipython",
    "version": 3
   },
   "file_extension": ".py",
   "mimetype": "text/x-python",
   "name": "python",
   "nbconvert_exporter": "python",
   "pygments_lexer": "ipython3",
   "version": "3.8.12"
  },
  "orig_nbformat": 4
 },
 "nbformat": 4,
 "nbformat_minor": 2
}
